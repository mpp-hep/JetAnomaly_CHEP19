{
 "cells": [
  {
   "cell_type": "markdown",
   "metadata": {},
   "source": [
    "To be run in CMSSW_10_2_3 with adding:\n",
    "pip install --user joblib scikit-learn==0.20.4"
   ]
  },
  {
   "cell_type": "markdown",
   "metadata": {},
   "source": [
    "Like v2 but with BTD trained in signal region"
   ]
  },
  {
   "cell_type": "markdown",
   "metadata": {},
   "source": [
    "# Imports"
   ]
  },
  {
   "cell_type": "code",
   "execution_count": 1,
   "metadata": {
    "ExecuteTime": {
     "end_time": "2019-09-11T02:20:35.440069Z",
     "start_time": "2019-09-11T02:20:32.171242Z"
    }
   },
   "outputs": [
    {
     "name": "stdout",
     "output_type": "stream",
     "text": [
      "Welcome to JupyROOT 6.12/07\n"
     ]
    },
    {
     "name": "stderr",
     "output_type": "stream",
     "text": [
      "/cvmfs/cms.cern.ch/slc7_amd64_gcc700/external/py2-root_numpy/4.7.3-gnimlf6/lib/python2.7/site-packages/root_numpy/__init__.py:46: RuntimeWarning: numpy 1.15.0 is currently installed but you installed root_numpy against numpy 1.14.1. Please consider reinstalling root_numpy for this numpy version.\n",
      "  RuntimeWarning)\n",
      "/cvmfs/cms.cern.ch/slc7_amd64_gcc700/lcg/root/6.12.07-gnimlf5/lib/ROOT.py:318: RuntimeWarning: numpy.dtype size changed, may indicate binary incompatibility. Expected 96, got 88\n",
      "  return _orig_ihook( name, *args, **kwds )\n",
      "Using TensorFlow backend.\n"
     ]
    }
   ],
   "source": [
    "import numpy as np\n",
    "import scipy as sp\n",
    "from scipy import stats\n",
    "import uproot\n",
    "import matplotlib.pyplot as plt\n",
    "import matplotlib\n",
    "from matplotlib.colors import LogNorm\n",
    "from scipy.optimize import curve_fit\n",
    "from scipy.special import erf\n",
    "\n",
    "from tqdm import tqdm\n",
    "from multiprocessing import Process, Manager, Value\n",
    "matplotlib.rcParams.update({'font.size': 18})\n",
    "import h5py, os, sys, glob, datetime, time\n",
    "import subprocess\n",
    "\n",
    "sys.path.append('../lib')\n",
    "import time\n",
    "from glob import glob\n",
    "from decimal import Decimal\n",
    "\n",
    "from histo_utilities import create_TH2D, create_TH1D, create_Canvas, make_effiency_plot, rootTH1_to_np\n",
    "from progressBar import ProgressBar\n",
    "\n",
    "from cebefo_style import cebefo_style\n",
    "cebefo_style()\n",
    "\n",
    "from sklearn.ensemble import GradientBoostingRegressor, GradientBoostingClassifier\n",
    "import joblib\n",
    "import pickle\n",
    "from prettytable import PrettyTable\n",
    "\n",
    "import ROOT as rt\n",
    "rt.gErrorIgnoreLevel = rt.kError\n",
    "\n",
    "from keras.models import Sequential, Model\n",
    "from keras.optimizers import SGD, Adam\n",
    "from keras.layers import Input, Activation, Dense, Convolution2D, MaxPooling2D, Dropout, Flatten, Lambda\n",
    "from keras.utils import np_utils\n",
    "from keras.callbacks import EarlyStopping, ReduceLROnPlateau\n",
    "from keras import backend as K\n",
    "from keras.models import load_model"
   ]
  },
  {
   "cell_type": "code",
   "execution_count": 2,
   "metadata": {},
   "outputs": [],
   "source": [
    "os.environ['HDF5_USE_FILE_LOCKING'] = 'FALSE'"
   ]
  },
  {
   "cell_type": "markdown",
   "metadata": {},
   "source": [
    "# Function Definitions"
   ]
  },
  {
   "cell_type": "code",
   "execution_count": 3,
   "metadata": {
    "ExecuteTime": {
     "end_time": "2019-09-11T02:20:31.516668Z",
     "start_time": "2019-09-11T02:20:31.501972Z"
    }
   },
   "outputs": [],
   "source": [
    "Mjj_selection = 1100.\n",
    "\n",
    "SM_eff = 1e-2\n",
    "\n",
    "loss_scaling = 1.0\n",
    "Mjj_scaling = 2000.0\n",
    "lossMode='MIN'\n",
    "\n",
    "def scaleDownMjj(x):\n",
    "    return (x-2*Mjj_selection)/Mjj_scaling\n",
    "\n",
    "def computeDiscriminatingVar_sum(x):\n",
    "    out = x[:,-6]+x[:,-3]\n",
    "    out *= loss_scaling #1e9\n",
    "    return out\n",
    "\n",
    "def computeDiscriminatingVar_str_sum(l1, l2):\n",
    "    out = loss_scaling*(l1+l2)\n",
    "    return out\n",
    "\n",
    "def computeDiscriminatingVar_min(x):\n",
    "    out = np.minimum(x[:,-6],x[:,-3])\n",
    "    out *= loss_scaling #1e9\n",
    "    return out\n",
    "\n",
    "def computeDiscriminatingVar_str_min(l1, l2):\n",
    "    out = loss_scaling*np.minimum(l1,l2)\n",
    "    return out\n",
    "\n",
    "def yLossLabel(lossMode=lossMode):\n",
    "    if lossMode == 'SUM':\n",
    "        return '$L_1+L_2$'\n",
    "    elif lossMode == 'MIN':\n",
    "        return '$\\min (L_1, L_2)$'\n",
    "\n",
    "# set loss strategy to be used\n",
    "computeDiscriminatingVar = computeDiscriminatingVar_min\n",
    "computeDiscriminatingVar_str = computeDiscriminatingVar_str_min"
   ]
  },
  {
   "cell_type": "code",
   "execution_count": 4,
   "metadata": {},
   "outputs": [],
   "source": [
    "def plot_hist( data, xlabel, ylabel, title, plotname='', legend=[], ylogscale=True ):\n",
    "    fig = plt.figure( )\n",
    "    plot_hist_on_axis( plt.gca(), data, xlabel, ylabel, title, legend, ylogscale )\n",
    "    if legend:\n",
    "        plt.legend()\n",
    "    plt.tight_layout()\n",
    "    fig.savefig('fig/' + plotname + '_hist.png')\n",
    "    plt.close()\n",
    "\n",
    "\n",
    "def plot_hist_on_axis( ax, data, xlabel, ylabel, title, legend=[], ylogscale=True ):\n",
    "    bin_num = 70\n",
    "    alpha = 0.85\n",
    "    if ylogscale:\n",
    "        ax.set_yscale('log', nonposy='clip')\n",
    "    ax.hist( data, bins=bin_num, normed=True, alpha=alpha, histtype='stepfilled', label=legend )\n",
    "    ax.set_ylabel( ylabel )\n",
    "    ax.set_xlabel( xlabel )\n",
    "    ax.set_title( title, fontsize=10 )\n",
    "    ax.tick_params(axis='both', which='minor', labelsize=8)\n",
    "    #ax.set_ylim(bottom=1e-7)\n",
    "\n"
   ]
  },
  {
   "cell_type": "code",
   "execution_count": 5,
   "metadata": {},
   "outputs": [],
   "source": [
    "def plot_hist_2d( x, y, xlabel, ylabel, title, plotname=''):\n",
    "    fig = plt.figure(figsize=(6, 6))\n",
    "    ax = plt.gca()\n",
    "    im = plot_hist_2d_on_axis( ax, x, y, xlabel, ylabel, title )\n",
    "    fig.colorbar(im[3])\n",
    "    plt.tight_layout()\n",
    "    fig.savefig('fig/' + plotname + '_hist_2d.png')\n",
    "    plt.close()\n",
    "    #plt.draw()\n",
    "\n",
    "def plot_hist_2d_on_axis( ax, x, y, xlabel, ylabel, title ):\n",
    "    im = ax.hist2d(x, y, bins=100, norm=colors.LogNorm())\n",
    "    ax.set_xlabel(xlabel)\n",
    "    ax.set_ylabel(ylabel)\n",
    "    ax.set_title(title)\n",
    "    ax.set_ylim(top=70.)\n",
    "    return im "
   ]
  },
  {
   "cell_type": "code",
   "execution_count": 6,
   "metadata": {},
   "outputs": [],
   "source": [
    "def read_in_data( file_dir ):\n",
    "    maxEvts = int(1e6)\n",
    "    pb = ProgressBar(maxEvts)\n",
    "\n",
    "    data = None\n",
    "    labels = None\n",
    "    flist = glob(file_dir + '/' + '*result.h5')\n",
    "    #print(flist)\n",
    "    i_file = 0\n",
    "    for i_file, fname in enumerate(flist):\n",
    "        f = h5py.File(fname, 'r')\n",
    "        #print(f.keys())\n",
    "        aux_evts = np.array(f.get('results'))\n",
    "        aux_evts = aux_evts[aux_evts[:,0] > Mjj_selection]\n",
    "        if data is None:\n",
    "            labels = list(f.get('labels'))\n",
    "            print('Labels:')\n",
    "            print(labels)\n",
    "            pb.show(0)\n",
    "            data = aux_evts\n",
    "        else:\n",
    "            data = np.append(data, aux_evts, axis=0)\n",
    "\n",
    "        pb.show(data.shape[0])\n",
    "\n",
    "        if data.shape[0] > maxEvts:\n",
    "            break\n",
    "\n",
    "\n",
    "    N_evts = (i_file+1) * 10000 # ??? data_train.shape[0]#\n",
    "    print('\\nnum files read in dir ', file_dir, ': ', i_file+1)\n",
    "    return [ data, labels, N_evts ] "
   ]
  },
  {
   "cell_type": "markdown",
   "metadata": {},
   "source": [
    "# Get the qcd sample for trainig"
   ]
  },
  {
   "cell_type": "code",
   "execution_count": 7,
   "metadata": {
    "ExecuteTime": {
     "end_time": "2019-08-07T23:09:13.047650Z",
     "start_time": "2019-08-07T23:09:11.478682Z"
    }
   },
   "outputs": [
    {
     "name": "stdout",
     "output_type": "stream",
     "text": [
      "Labels:\n",
      "['mJJ', 'j1Pt', 'j1Eta', 'j1Phi', 'j1M', 'j1E', 'j2Pt', 'j2M', 'j2E', 'DeltaEtaJJ', 'DeltaPhiJJ', 'j1TotalLoss', 'j1RecoLoss', 'j1KlLoss', 'j2TotalLoss', 'j2RecoLoss', 'j2KlLoss']\n",
      "[####################]  100% - ETA:   -0 s   ('\\nnum files read in dir ', '/eos/project/d/dshep/TOPCLASS/DijetAnomaly/VAE_results/qcd_sqrtshatTeV_13TeV_PU40', ': ', 1764)\n",
      "('\\nnum evts according to docs: ', 17640000)\n",
      "\n",
      "Luminosity used for training\n",
      "2e+03 fb^-1\n"
     ]
    }
   ],
   "source": [
    "#file_dir = '/eos/project/d/dshep/TOPCLASS/DijetAnomaly/AE_Score/'\n",
    "base_dir = '/eos/project/d/dshep/TOPCLASS/DijetAnomaly/VAE_results'#'/afs/cern.ch/work/k/kiwoznia/vae_results' #/results_before_max_pixel'\n",
    "file_dir = base_dir + '/qcd_sqrtshatTeV_13TeV_PU40'\n",
    "#file_dir = '/afs/cern.ch/work/k/kiwoznia/vae_results/qcd_sqrtshatTeV_13TeV_PU40_SIDEBAND'\n",
    "data_train, labels, N_evts = read_in_data( file_dir )\n",
    "print(\"\\nnum evts according to docs: \", N_evts)\n",
    "QCD_xsec = 8.73e-6 #mb\n",
    "QCD_xsec *= 1e9 #fb # ??????\n",
    "print('\\nLuminosity used for training')\n",
    "print('{:.2} fb^-1'.format(N_evts/QCD_xsec))\n",
    "        "
   ]
  },
  {
   "cell_type": "code",
   "execution_count": 8,
   "metadata": {},
   "outputs": [
    {
     "name": "stdout",
     "output_type": "stream",
     "text": [
      "('num events read ', 1000154)\n"
     ]
    }
   ],
   "source": [
    "print('num events read ', data_train.shape[0])"
   ]
  },
  {
   "cell_type": "code",
   "execution_count": 9,
   "metadata": {
    "ExecuteTime": {
     "end_time": "2019-08-07T23:09:13.047650Z",
     "start_time": "2019-08-07T23:09:11.478682Z"
    }
   },
   "outputs": [],
   "source": [
    "#pickle.dump(data_train, open('data/tmp_qcd_sqrtshatTeV_13TeV_PU40.pkl', 'wb'))"
   ]
  },
  {
   "cell_type": "code",
   "execution_count": 10,
   "metadata": {},
   "outputs": [],
   "source": [
    "#data_train = pickle.load(open('data/tmp_qcd_sqrtshatTeV_13TeV_PU40.pkl', 'rb'))"
   ]
  },
  {
   "cell_type": "code",
   "execution_count": 11,
   "metadata": {
    "ExecuteTime": {
     "end_time": "2019-08-07T23:09:13.047650Z",
     "start_time": "2019-08-07T23:09:11.478682Z"
    }
   },
   "outputs": [
    {
     "data": {
      "image/png": "[encoded data removed]",
      "text/plain": [
       "<IPython.core.display.Image object>"
      ]
     },
     "metadata": {},
     "output_type": "display_data"
    }
   ],
   "source": [
    "c = create_Canvas(size=(int(800/1.5),int(600/1.5)))\n",
    "h_Mjj_train = create_TH1D(data_train[:,0], title='', axis_title = ['M_{jj} [GeV]','Events'], \n",
    "                binning=[100, Mjj_selection, 0.8*np.max(data_train[:,0])])\n",
    "\n",
    "h_Mjj_train.Draw()\n",
    "c.SetLogy()\n",
    "c.Draw()"
   ]
  },
  {
   "cell_type": "markdown",
   "metadata": {
    "ExecuteTime": {
     "end_time": "2019-07-25T14:02:14.795675Z",
     "start_time": "2019-07-25T14:02:14.664450Z"
    }
   },
   "source": [
    "### Train the model to predict the cut"
   ]
  },
  {
   "cell_type": "markdown",
   "metadata": {},
   "source": [
    "# DNN for quantile regression"
   ]
  },
  {
   "cell_type": "code",
   "execution_count": 12,
   "metadata": {},
   "outputs": [
    {
     "name": "stdout",
     "output_type": "stream",
     "text": [
      "_________________________________________________________________\n",
      "Layer (type)                 Output Shape              Param #   \n",
      "=================================================================\n",
      "input_1 (InputLayer)         (None, 1)                 0         \n",
      "_________________________________________________________________\n",
      "dense_1 (Dense)              (None, 100)               200       \n",
      "_________________________________________________________________\n",
      "dense_2 (Dense)              (None, 100)               10100     \n",
      "_________________________________________________________________\n",
      "dense_3 (Dense)              (None, 100)               10100     \n",
      "_________________________________________________________________\n",
      "dense_4 (Dense)              (None, 1)                 101       \n",
      "=================================================================\n",
      "Total params: 20,501\n",
      "Trainable params: 20,501\n",
      "Non-trainable params: 0\n",
      "_________________________________________________________________\n",
      "(1000154, 1)\n",
      "(1000154,)\n"
     ]
    },
    {
     "name": "stderr",
     "output_type": "stream",
     "text": [
      "2019-11-04 22:34:43.333326: I tensorflow/core/platform/cpu_feature_guard.cc:140] Your CPU supports instructions that this TensorFlow binary was not compiled to use: SSE4.1 SSE4.2 AVX AVX2 AVX512F FMA\n"
     ]
    }
   ],
   "source": [
    "def quantile_loss(target, pred):\n",
    "    alpha = 1 - SM_eff\n",
    "    err = target - pred\n",
    "    return K.tf.where(err>=0, alpha*err, (alpha-1)*err)\n",
    "\n",
    "inputs = Input(shape=(1,))\n",
    "hidden = Dense(100, activation='relu')(inputs)\n",
    "hidden = Dense(100, activation='relu')(hidden)\n",
    "hidden = Dense(100, activation='relu')(hidden)\n",
    "output = Dense(1)(hidden)\n",
    "model = Model(inputs, output)\n",
    "model.compile(loss=quantile_loss, optimizer=Adam(lr=1e-4))\n",
    "model.summary()\n",
    "date = datetime.date.today()\n",
    "date_str = '{}{:02d}{:02d}'.format(date.year, date.month, date.day)\n",
    "model.load_weights('../models/dnn_cut_trained_{}.h5'.format(date_str))\n",
    "\n",
    "x = np.reshape(data_train[:,0], (-1,1))\n",
    "y = computeDiscriminatingVar(data_train)\n",
    "print(x.shape)\n",
    "print(y.shape)\n",
    "\n",
    "\n",
    "\n",
    "# model.fit(scaleDownMjj(x), y, epochs=100, batch_size=10000, \n",
    "#         verbose=1, validation_split=0.2, shuffle=True,\n",
    "#         callbacks=[EarlyStopping(monitor='val_loss', patience=10, verbose=1),ReduceLROnPlateau(factor=0.2, patience=3, verbose=1)])\n",
    "\n",
    "# date = datetime.date.today()\n",
    "# date_str = '{}{:02d}{:02d}'.format(date.year, date.month, date.day)\n",
    "#model.save('cut_models/dnn_cut_trained_{}.h5'.format(date_str))"
   ]
  },
  {
   "cell_type": "code",
   "execution_count": 13,
   "metadata": {},
   "outputs": [],
   "source": [
    "# Compute weights to make it mass agnostic\n",
    "# hM = h_Mjj_train.Clone('hM')\n",
    "# print(hM.FindBin(10000))\n",
    "# scale = np.sqrt(hM.GetMaximum()*hM.GetMinimum(0))\n",
    "# print(scale)\n",
    "# hM.Scale(1./scale)\n",
    "\n",
    "# weights = np.ones_like(data_train[:,0])\n",
    "# for i, m in enumerate(data_train[:,0]):\n",
    "#     weights[i] = 1./hM.GetBinContent(hM.FindBin(m))\n",
    "#     if i%1000000 == 0:\n",
    "#         print(i)"
   ]
  },
  {
   "cell_type": "code",
   "execution_count": 14,
   "metadata": {},
   "outputs": [],
   "source": [
    "#gbr_cut = GradientBoostingRegressor(loss='quantile', alpha=1-SM_eff,\n",
    "#                                n_estimators=250, max_depth=3,\n",
    "#                                learning_rate=.05, min_samples_leaf=30,\n",
    "#                                min_samples_split=30,\n",
    "#                                validation_fraction=0.5,\n",
    "#                                n_iter_no_change=5,\n",
    "#                                tol=1e-5,\n",
    "#                                verbose=2)"
   ]
  },
  {
   "cell_type": "code",
   "execution_count": 15,
   "metadata": {
    "ExecuteTime": {
     "end_time": "2019-08-07T23:09:13.420984Z",
     "start_time": "2019-08-07T23:09:13.051732Z"
    }
   },
   "outputs": [],
   "source": [
    "#x = np.reshape(data_train[:,0], (-1,1))\n",
    "#y = computeDiscriminatingVar(data_train)\n",
    "#gbr_cut = joblib.load('cut_models/gbr_cut_trained_20191028_pval0p5947.joblib','r')\n",
    "#gbr_cut.fit(x, y, sample_weight=None);\n",
    "\n",
    "#date = datetime.date.today()\n",
    "#date_str = '{}{:02d}{:02d}'.format(date.year, date.month, date.day)\n",
    "#joblib.dump(gbr_cut, '../models/gbr_cut_trained_{}.joblib'.format(date_str)) "
   ]
  },
  {
   "cell_type": "code",
   "execution_count": 16,
   "metadata": {
    "ExecuteTime": {
     "end_time": "2019-08-07T23:09:21.195273Z",
     "start_time": "2019-08-07T23:09:19.992583Z"
    }
   },
   "outputs": [
    {
     "name": "stdout",
     "output_type": "stream",
     "text": [
      "((880.0, 3171.605683349623), (0.0010495391957776954, 0.11276620483831416))\n"
     ]
    },
    {
     "data": {
      "image/png": "[encoded data removed]",
      "text/plain": [
       "<matplotlib.figure.Figure at 0x7f3a0c163550>"
      ]
     },
     "metadata": {},
     "output_type": "display_data"
    }
   ],
   "source": [
    "x = np.reshape(data_train[:,0], (-1,1))\n",
    "plt.figure(figsize=(8, 8))\n",
    "x_min = Mjj_selection*0.8\n",
    "x_max = np.percentile(x, 99.9)\n",
    "print(((x_min , x_max), (np.min(y), np.percentile(y, 1e2*(1-1e-4)))))\n",
    "plt.hist2d(x[:,0], y,\n",
    "           range=((x_min , x_max), (np.min(y), np.percentile(y, 1e2*(1-1e-4)))), \n",
    "           norm=LogNorm(), bins=100,\n",
    "           label='signal data'\n",
    "          )\n",
    "\n",
    "xs = np.arange(Mjj_selection, x_max, 0.001*(x_max-Mjj_selection))\n",
    "plt.plot(xs, model.predict( np.reshape(scaleDownMjj(xs), (-1,1)) ), '-', color='m', lw=3, label='GBR selection')\n",
    "\n",
    "plt.ylabel('$L_1 + L_2$ [GeV^-1]')\n",
    "plt.xlabel('$M_{jj}$ [GeV]')\n",
    "plt.colorbar()\n",
    "plt.legend(loc='best')\n",
    "plt.draw()"
   ]
  },
  {
   "cell_type": "code",
   "execution_count": 17,
   "metadata": {},
   "outputs": [],
   "source": [
    "#joblib.dump(gbr_cut, 'cut_models/gbr_cut_trained_{}.joblib'.format(date_str)) "
   ]
  },
  {
   "cell_type": "code",
   "execution_count": 18,
   "metadata": {},
   "outputs": [],
   "source": [
    "# model.save('cut_models/dnn_cut_trained_{}.h5'.format(date_str))"
   ]
  },
  {
   "cell_type": "code",
   "execution_count": 19,
   "metadata": {},
   "outputs": [],
   "source": [
    "# from keras.models import load_model\n",
    "# model = load_model('cut_models/dnn_cut_trained_20191030.h5')"
   ]
  },
  {
   "cell_type": "code",
   "execution_count": 20,
   "metadata": {
    "ExecuteTime": {
     "end_time": "2019-08-07T23:09:26.371593Z",
     "start_time": "2019-08-07T23:09:26.351548Z"
    },
    "code_folding": []
   },
   "outputs": [],
   "source": [
    "def getSelection(x_Mjj, x_loss):\n",
    "    cut = model.predict(np.reshape(x_Mjj, (-1,1)))\n",
    "    return x_loss > cut.flatten()"
   ]
  },
  {
   "cell_type": "code",
   "execution_count": 21,
   "metadata": {
    "ExecuteTime": {
     "end_time": "2019-08-07T23:09:26.814635Z",
     "start_time": "2019-08-07T23:09:26.791643Z"
    },
    "code_folding": [
     0
    ]
   },
   "outputs": [],
   "source": [
    "def plotMassSpectrum(mJJ_pass, mJJ_rej, title=''):\n",
    "    h_a = create_TH1D(mJJ_pass, \n",
    "                      name='h_acc', title='Accepted',\n",
    "                      binning=binning,\n",
    "                      opt='overflow'\n",
    "                     )\n",
    "    h_a.SetLineColor(2)\n",
    "    h_a.SetStats(0)\n",
    "    h_a.Sumw2()\n",
    "    h_r = create_TH1D(mJJ_rej, \n",
    "                      name='h_rej', title='Rejected',\n",
    "                      axis_title=['M_{jj} [GeV]', 'Events'],\n",
    "                      binning=binning,\n",
    "                      opt='overflow'\n",
    "                     )\n",
    "    h_r.GetYaxis().SetRangeUser(0.5, 1.2*h_r.GetMaximum())\n",
    "    h_r.SetStats(0)\n",
    "    h_r.Sumw2()\n",
    "\n",
    "    c = make_effiency_plot([h_r, h_a], ratio_bounds=[1e-4, 0.2], draw_opt = 'E', title=title)\n",
    "    c.pad1.SetLogy()\n",
    "    c.pad2.SetLogy()\n",
    "\n",
    "    c.pad2.cd()\n",
    "    c.ln = rt.TLine(h_r.GetXaxis().GetXmin(), SM_eff, h_r.GetXaxis().GetXmax(), SM_eff)\n",
    "    c.ln.SetLineWidth(2)\n",
    "    c.ln.SetLineStyle(7)\n",
    "    c.ln.SetLineColor(8)\n",
    "    c.ln.DrawLine(h_r.GetXaxis().GetXmin(), SM_eff, h_r.GetXaxis().GetXmax(), SM_eff)\n",
    "\n",
    "    c.Draw()\n",
    "    return c"
   ]
  },
  {
   "cell_type": "code",
   "execution_count": 22,
   "metadata": {
    "ExecuteTime": {
     "end_time": "2019-08-07T23:09:27.433110Z",
     "start_time": "2019-08-07T23:09:27.222240Z"
    }
   },
   "outputs": [
    {
     "data": {
      "image/png": "[encoded data removed]",
      "text/plain": [
       "<IPython.core.display.Image object>"
      ]
     },
     "metadata": {},
     "output_type": "display_data"
    }
   ],
   "source": [
    "x = x.flatten()\n",
    "binning=[30, Mjj_selection, np.percentile(x, 99.99)]\n",
    "\n",
    "sel = getSelection(scaleDownMjj(x), y)\n",
    "\n",
    "c = plotMassSpectrum(x[sel], x[np.logical_not(sel)], 'QCD quantile training dataset')\n",
    "h_a = c.h_list[1]\n",
    "h_r = c.h_list[0]"
   ]
  },
  {
   "cell_type": "markdown",
   "metadata": {
    "ExecuteTime": {
     "end_time": "2019-07-29T10:05:16.951453Z",
     "start_time": "2019-07-29T10:05:16.934409Z"
    }
   },
   "source": [
    "# Define and test Hypotesis test"
   ]
  },
  {
   "cell_type": "code",
   "execution_count": 23,
   "metadata": {
    "ExecuteTime": {
     "end_time": "2019-08-07T23:09:31.570671Z",
     "start_time": "2019-08-07T23:09:31.523994Z"
    }
   },
   "outputs": [],
   "source": [
    "def HypotesisTets(h_a_bin_content, h_r_bin_content, eff, N_asymov = 10000, max_N_asymov = 1e7, show_hist=True):\n",
    "    \n",
    "    scale = np.sum(h_a_bin_content)/np.sum(h_r_bin_content)\n",
    "    #nu = eff*h_r_bin_content/(1-eff)\n",
    "    nu = scale*h_r_bin_content\n",
    "\n",
    "    probs_obs = sp.stats.poisson.pmf(h_a_bin_content.astype(np.int), nu)\n",
    "    probs_obs = np.where(probs_obs < 1e-10, np.full_like(probs_obs, 1e-10), probs_obs)\n",
    "    s_obs = np.sum(-np.log(probs_obs), axis=-1)\n",
    "    print('S obs:', s_obs)\n",
    "\n",
    "    N_worse = 0\n",
    "    N_tot = 0\n",
    "    loops = 0\n",
    "    while N_worse < 25 and N_tot < max_N_asymov:\n",
    "        loops += 1\n",
    "        if loops > 1 and loops%10 == 0:\n",
    "            print(N_tot, N_worse)\n",
    "        if loops == 10:\n",
    "            print('Increasing by a factor 5 the number of asymov per loop')\n",
    "            N_asymov *=5\n",
    "        o_asymov = np.random.poisson(nu, (N_asymov, nu.shape[0]))\n",
    "        probs = sp.stats.poisson.pmf(o_asymov, nu)\n",
    "        probs = np.where(probs < 1e-10, np.full_like(probs, 1e-10), probs)\n",
    "        nll = -np.log(probs)\n",
    "        s_asymov = np.sum(nll, axis=-1)\n",
    "\n",
    "        N_worse += np.sum(s_asymov > s_obs)\n",
    "        N_tot += N_asymov\n",
    "\n",
    "        if max_N_asymov/N_tot < 25 and (N_worse * (max_N_asymov/N_tot) < 25):\n",
    "            print('Will never have enough stat - giving up.')\n",
    "            p_val = max(1, N_worse)/float(N_tot)\n",
    "            return p_val\n",
    "\n",
    "    print('Test stat reached after {} loops'.format(loops))\n",
    "\n",
    "    p_val = max(1, N_worse)/float(N_tot)\n",
    "    \n",
    "    if show_hist:\n",
    "        plt.figure()\n",
    "        binContent, _, _ = plt.hist(s_asymov, label='Distribution assuming eff={:.1f}%'.format(100*eff))\n",
    "        plt.plot([s_obs, s_obs], [0,np.max(binContent)], label='Observed')\n",
    "        plt.legend(loc='best')\n",
    "        plt.xlabel('Test statistic')\n",
    "        plt.ylabel('Entries')\n",
    "\n",
    "    return p_val"
   ]
  },
  {
   "cell_type": "code",
   "execution_count": 24,
   "metadata": {
    "ExecuteTime": {
     "end_time": "2019-08-07T23:09:32.564458Z",
     "start_time": "2019-08-07T23:09:32.444973Z"
    }
   },
   "outputs": [
    {
     "name": "stdout",
     "output_type": "stream",
     "text": [
      "('S obs:', 90.04566657601552)\n",
      "Test stat reached after 1 loops\n"
     ]
    },
    {
     "data": {
      "text/plain": [
       "0.1437"
      ]
     },
     "execution_count": 24,
     "metadata": {},
     "output_type": "execute_result"
    },
    {
     "data": {
      "image/png": "[encoded data removed]",
      "text/plain": [
       "<matplotlib.figure.Figure at 0x7f3a4d616610>"
      ]
     },
     "metadata": {},
     "output_type": "display_data"
    }
   ],
   "source": [
    "h_a_bin_content, _ = rootTH1_to_np(h_a)\n",
    "h_r_bin_content, _ = rootTH1_to_np(h_r)\n",
    "HypotesisTets(h_a_bin_content, h_r_bin_content, SM_eff, N_asymov=10000)"
   ]
  },
  {
   "cell_type": "markdown",
   "metadata": {},
   "source": [
    "# Analyze signal region"
   ]
  },
  {
   "cell_type": "code",
   "execution_count": 25,
   "metadata": {
    "ExecuteTime": {
     "end_time": "2019-08-01T11:05:58.113458Z",
     "start_time": "2019-08-01T11:05:58.084800Z"
    }
   },
   "outputs": [],
   "source": [
    "#base_dir = '/afs/cern.ch/work/k/kiwoznia/vae_results/results_before_max_pixel'\n",
    "base_dir = '/eos/project/d/dshep/TOPCLASS/DijetAnomaly/VAE_results' #'/afs/cern.ch/work/k/kiwoznia/vae_results' # /results_before_max_pixel\n",
    "\n",
    "\n",
    "sample_loc = {'qcdSigExt': base_dir + '/qcd_sqrtshatTeV_13TeV_PU40_EXT_ALL',  #_ALL # _ext + _ext2\n",
    "#               'GtoWW1': base_dir + '/RSGraviton_WW_NARROW_13TeV_PU40_1.5TeV',\n",
    "              'GtoWW2': base_dir + '/RSGraviton_WW_NARROW_13TeV_PU40_2.5TeV',\n",
    "              'GtoWW3': base_dir + '/RSGraviton_WW_NARROW_13TeV_PU40_3.5TeV',\n",
    "#               'GtoWW4': base_dir + '/RSGraviton_WW_NARROW_13TeV_PU40_4.5TeV',\n",
    "#               'AtoHZ': base_dir + '/AtoHZ_to_ZZZ_13TeV_PU40/',\n",
    "#               'GtoTTBroad': base_dir + '/RSGraviton_tt_BROAD_13TeV_PU40',\n",
    "#               'GtoTTNarr': base_dir + '/RSGraviton_tt_NARROW_13TeV_PU40'\n",
    "             }\n",
    "\n",
    "sample_label = {'qcdSigExt':r'QCD signal',\n",
    "                'GtoWW1':r'$G(1.5 TeV)\\to WW$',\n",
    "                'GtoWW2':r'$G(2.5 TeV)\\to WW$',\n",
    "                'GtoWW3':r'$G(3.5 TeV)\\to WW$',\n",
    "                'GtoWW4':r'$G(4.5 TeV)\\to WW$',\n",
    "                'AtoHZ':r'$A \\to HZ \\to ZZZ$',\n",
    "                'GtoTTBroad':r'$G \\to TT broad$',\n",
    "                'GtoTTNarr':r'$G \\to TT narrow$'\n",
    "               }\n",
    "\n",
    "sample_label_ROOT = {'qcdSigExt':'QCD signal',\n",
    "                'GtoWW1':'G(1.5 TeV) to WW$',\n",
    "                'GtoWW2':'$G(2.5 TeV) to WW$',\n",
    "                'GtoWW3':'$G(3.5 TeV) to WW$',\n",
    "                'GtoWW4':'$G(4.5 TeV) to WW$',\n",
    "                'AtoHZ':'A to HZ to ZZZ',\n",
    "                'GtoTTBroad':'G to TT broad',\n",
    "                'GtoTTNarr':'G to TT narrow'\n",
    "               }\n",
    "\n",
    "SM_samples = ['qcdSigExt']\n",
    "BSM_samples = ['GtoWW1', 'GtoWW2', 'GtoWW3', 'GtoWW4','AtoHZ','GtoTTBroad', 'GtoTTNarr']\n",
    "\n",
    "sample_nGenEvts = {'qcdSigExt': (3826+2873)*10000, # TODO: adapt numbers! \n",
    "                   'GtoWW1': 99*10000,\n",
    "                   'GtoWW2': 92*10000,\n",
    "                   'GtoWW3': 92*10000,\n",
    "                   'GtoWW4': 97*10000,\n",
    "                   'AtoHZ': 98*1000,\n",
    "                   'GtoTTBroad': 98*1000,\n",
    "                   'GtoTTNarr': 96*1000\n",
    "                  }\n",
    "\n",
    "sample_xsec = {'qcdSigExt': 8734.0 #pb\n",
    "              }"
   ]
  },
  {
   "cell_type": "code",
   "execution_count": 26,
   "metadata": {},
   "outputs": [
    {
     "name": "stdout",
     "output_type": "stream",
     "text": [
      "Lumi: 7670.0 pb^-1\n"
     ]
    }
   ],
   "source": [
    "lumi_generated = sample_nGenEvts['qcdSigExt']/sample_xsec['qcdSigExt']\n",
    "print('Lumi: {:.1f} pb^-1'.format(lumi_generated))"
   ]
  },
  {
   "cell_type": "markdown",
   "metadata": {},
   "source": [
    "### Get the data"
   ]
  },
  {
   "cell_type": "code",
   "execution_count": 27,
   "metadata": {},
   "outputs": [],
   "source": [
    "result_data = {}\n",
    "data = {}\n",
    "sample_eff = {}\n",
    "table = PrettyTable()\n",
    "table.field_names = ['Sample', 'Trg evts', 'Eff. trg [%]', 'VAE sel. evts', 'Eff VAE [%]']"
   ]
  },
  {
   "cell_type": "code",
   "execution_count": 28,
   "metadata": {},
   "outputs": [
    {
     "name": "stdout",
     "output_type": "stream",
     "text": [
      "qcdSigExt\n",
      "Labels:\n",
      "['mJJ', 'j1Pt', 'j1Eta', 'j1Phi', 'j1M', 'j1E', 'j2Pt', 'j2M', 'j2E', 'DeltaEtaJJ', 'DeltaPhiJJ', 'j1TotalLoss', 'j1RecoLoss', 'j1KlLoss', 'j2TotalLoss', 'j2RecoLoss', 'j2KlLoss']\n",
      "[###################-]  99% - ETA:    1 s   ('\\nnum files read in dir ', '/eos/project/d/dshep/TOPCLASS/DijetAnomaly/VAE_results/qcd_sqrtshatTeV_13TeV_PU40_EXT_ALL', ': ', 3228)\n",
      "GtoWW2\n",
      "Labels:\n",
      "['mJJ', 'j1Pt', 'j1Eta', 'j1Phi', 'j1M', 'j1E', 'j2Pt', 'j2M', 'j2E', 'DeltaEtaJJ', 'DeltaPhiJJ', 'j1TotalLoss', 'j1RecoLoss', 'j1KlLoss', 'j2TotalLoss', 'j2RecoLoss', 'j2KlLoss']\n",
      "[#########-----------]  45% - ETA:   15 s   ('\\nnum files read in dir ', '/eos/project/d/dshep/TOPCLASS/DijetAnomaly/VAE_results/RSGraviton_WW_NARROW_13TeV_PU40_2.5TeV', ': ', 92)\n",
      "GtoWW3\n",
      "Labels:\n",
      "['mJJ', 'j1Pt', 'j1Eta', 'j1Phi', 'j1M', 'j1E', 'j2Pt', 'j2M', 'j2E', 'DeltaEtaJJ', 'DeltaPhiJJ', 'j1TotalLoss', 'j1RecoLoss', 'j1KlLoss', 'j2TotalLoss', 'j2RecoLoss', 'j2KlLoss']\n",
      "[#########-----------]  49% - ETA:   13 s   ('\\nnum files read in dir ', '/eos/project/d/dshep/TOPCLASS/DijetAnomaly/VAE_results/RSGraviton_WW_NARROW_13TeV_PU40_3.5TeV', ': ', 92)\n"
     ]
    }
   ],
   "source": [
    "# read in data\n",
    "labels = None\n",
    "for n, file_dir in sample_loc.iteritems():\n",
    "    print(n)\n",
    "    sample, labels, N_evts = read_in_data( file_dir )\n",
    "    result_data[n] = sample\n"
   ]
  },
  {
   "cell_type": "code",
   "execution_count": 29,
   "metadata": {},
   "outputs": [
    {
     "name": "stdout",
     "output_type": "stream",
     "text": [
      "['mJJ', 'j1Pt', 'j1Eta', 'j1Phi', 'j1M', 'j1E', 'j2Pt', 'j2M', 'j2E', 'DeltaEtaJJ', 'DeltaPhiJJ', 'j1TotalLoss', 'j1RecoLoss', 'j1KlLoss', 'j2TotalLoss', 'j2RecoLoss', 'j2KlLoss']\n"
     ]
    }
   ],
   "source": [
    "print(labels)"
   ]
  },
  {
   "cell_type": "code",
   "execution_count": null,
   "metadata": {},
   "outputs": [],
   "source": [
    "# compute discriminating var and selection for data, print in table\n",
    "for n, file_dir in sample_loc.iteritems():\n",
    "    x = result_data[n]\n",
    "    dVar = computeDiscriminatingVar(x)\n",
    "    sel = getSelection(scaleDownMjj(x[:,0]), dVar)\n",
    "    x = np.column_stack((x, dVar, sel))\n",
    "    print(x.shape[0])\n",
    "    sample_eff[n] = float(x.shape[0])/sample_nGenEvts[n]\n",
    "\n",
    "    dt = [(str(s), '<f4') for s in labels + ['dVar']]\n",
    "    dt += [('sel', '?')]\n",
    "    data[n] = np.array(list(zip(*x.T)), dtype=dt)\n",
    "    \n",
    "    eff = '{:.2f}'.format(100.0*np.sum(data[n]['sel'])/float(data[n]['sel'].shape[0]))\n",
    "    table.add_row([n, data[n]['sel'].shape[0], '{:.1f}'.format(100.0*sample_eff[n]), np.sum(data[n]['sel']), eff])\n",
    "\n",
    "print(table)"
   ]
  },
  {
   "cell_type": "code",
   "execution_count": null,
   "metadata": {
    "scrolled": false
   },
   "outputs": [],
   "source": [
    "for n, label in sample_label.iteritems():\n",
    "    x = data[n]\n",
    "    y = computeDiscriminatingVar_str(x['j1TotalLoss'],x['j2TotalLoss'])\n",
    "    plot_hist_2d(x['mJJ'],y, 'mass jj', 'L1+L2', 'mass vs loss ' + label, n)\n"
   ]
  },
  {
   "cell_type": "code",
   "execution_count": null,
   "metadata": {},
   "outputs": [],
   "source": [
    "x = np.reshape(data['qcdSigExt']['mJJ'], (-1,1))\n",
    "y = computeDiscriminatingVar_str(data['qcdSigExt']['j1TotalLoss'], data['qcdSigExt']['j2TotalLoss'])\n",
    "\n",
    "plt.figure(figsize=(8, 8))\n",
    "x_min = Mjj_selection*0.8\n",
    "x_max = np.percentile(x, 99.9)\n",
    "plt.hist2d(x[:,0], y,\n",
    "           range=((x_min , x_max), (np.min(y), np.percentile(y, 1e2*(1-1e-4)))), \n",
    "           norm=LogNorm(), bins=100,\n",
    "           label='qcd signal ext'\n",
    "          )\n",
    "\n",
    "xs = np.arange(Mjj_selection, x_max, 0.001*(x_max-Mjj_selection))\n",
    "plt.plot(xs, model.predict(np.reshape(scaleDownMjj(xs), (-1,1))), '-', color='m', lw=3, label='GBR selection')\n",
    "\n",
    "plt.ylabel('$L_1 + L_2$ [GeV^-1]')\n",
    "plt.xlabel('$M_{jj}$ [GeV]')\n",
    "plt.colorbar()\n",
    "plt.legend(loc='best')\n",
    "plt.draw()"
   ]
  },
  {
   "cell_type": "markdown",
   "metadata": {},
   "source": [
    "### Define utilitities"
   ]
  },
  {
   "cell_type": "code",
   "execution_count": null,
   "metadata": {
    "ExecuteTime": {
     "end_time": "2019-08-01T11:06:00.921841Z",
     "start_time": "2019-08-01T11:06:00.883604Z"
    },
    "code_folding": []
   },
   "outputs": [],
   "source": [
    "def plotMassSpectrum_wSig(h_r, h_a, h_a_sig, name_BSM, lumi_text, p_val):\n",
    "    h_r.GetYaxis().SetRangeUser(0.5, 1.2*h_r.GetMaximum())\n",
    "    h_r.SetStats(0)\n",
    "    h_r.Sumw2()\n",
    "    h_r.SetLineWidth(2)\n",
    "    \n",
    "    h_a.SetLineColor(2)\n",
    "    h_a.SetStats(0)\n",
    "    h_a.Sumw2()\n",
    "    h_a.SetLineWidth(2)\n",
    "    \n",
    "    h_a_sig.SetFillStyle(3001)\n",
    "    h_a_sig.SetFillColor(8)\n",
    "    h_a_sig.SetLineWidth(0)\n",
    "\n",
    "    c = make_effiency_plot([h_r, h_a], ratio_bounds=[1e-3, None], draw_opt = 'E')\n",
    "    c.pad1.SetLogy()\n",
    "    c.pad1.cd()\n",
    "    h_a_sig.Draw('SAME')\n",
    "    c.leg.AddEntry(h_a_sig, 'Acc. '+sample_label_ROOT[name_BSM], 'f')\n",
    "    \n",
    "    latex = rt.TLatex()\n",
    "    latex.SetNDC()\n",
    "    latex.SetTextSize(0.04)\n",
    "    latex.SetTextAlign(31)\n",
    "    t = c.pad1.GetTopMargin()\n",
    "    r = c.pad1.GetRightMargin()\n",
    "    latex.DrawLatex(1-r, 1-0.85*t, lumi_text)\n",
    "\n",
    "    c.pad2.SetLogy()\n",
    "    c.pad2.cd()\n",
    "    c.ln = rt.TLine(h_r.GetXaxis().GetXmin(), SM_eff, h_r.GetXaxis().GetXmax(), SM_eff)\n",
    "    c.ln.SetLineWidth(2)\n",
    "    c.ln.SetLineStyle(7)\n",
    "    c.ln.SetLineColor(6)\n",
    "    c.ln.DrawLine(h_r.GetXaxis().GetXmin(), SM_eff, h_r.GetXaxis().GetXmax(), SM_eff)\n",
    "    \n",
    "    latex.SetTextSize(0.1)\n",
    "    latex.SetTextAlign(13)\n",
    "    l = c.pad2.GetLeftMargin()\n",
    "    t = c.pad2.GetTopMargin()\n",
    "    latex.DrawLatex(l*1.1, 1-2*t, 'p-value: {:.1f} %'.format(100*p_val))\n",
    "\n",
    "    c.Draw()\n",
    "    return c"
   ]
  },
  {
   "cell_type": "markdown",
   "metadata": {
    "ExecuteTime": {
     "end_time": "2019-07-26T13:30:40.258958Z",
     "start_time": "2019-07-26T13:30:40.240906Z"
    }
   },
   "source": [
    "## Find the p-value as a function of xsec"
   ]
  },
  {
   "cell_type": "code",
   "execution_count": null,
   "metadata": {
    "ExecuteTime": {
     "end_time": "2019-08-01T11:06:00.935480Z",
     "start_time": "2019-08-01T11:06:00.926854Z"
    }
   },
   "outputs": [],
   "source": [
    "lumi = 2000 #pb^-1\n",
    "\n",
    "N_asymov = 10000\n",
    "N_exp_per_xsec = 5"
   ]
  },
  {
   "cell_type": "code",
   "execution_count": null,
   "metadata": {
    "ExecuteTime": {
     "end_time": "2019-08-01T11:06:00.956627Z",
     "start_time": "2019-08-01T11:06:00.939665Z"
    }
   },
   "outputs": [],
   "source": [
    "dic_p_val = {}\n",
    "rt.gROOT.SetBatch(True)"
   ]
  },
  {
   "cell_type": "code",
   "execution_count": null,
   "metadata": {
    "ExecuteTime": {
     "end_time": "2019-08-01T11:46:23.351576Z",
     "start_time": "2019-08-01T11:06:00.962212Z"
    },
    "code_folding": [],
    "scrolled": false
   },
   "outputs": [],
   "source": [
    "for name_BSM in ['GtoWW3']:\n",
    "    print('\\n\\n'+name_BSM)\n",
    "    dic_p_val[name_BSM] = []\n",
    "    for xsec_BSM in np.logspace(-4, 0, 5): \n",
    "        print('xsec BSM {:.1e} pb'.format(xsec_BSM))\n",
    "        lumi_text = '{:.1f} fb^{{-1}} (14 TeV), '.format(1e-3*lumi) + sample_label_ROOT[name_BSM] + ' ({:.2} pb)'.format(xsec_BSM)\n",
    "\n",
    "        p_val_test = []\n",
    "        for i_exp in range(N_exp_per_xsec):\n",
    "            print('Experiment:', i_exp)\n",
    "            d_obs = np.zeros((0,2))\n",
    "\n",
    "            sample_xsec[name_BSM] = xsec_BSM\n",
    "            for n in SM_samples + [name_BSM]:\n",
    "                nExpEvts = lumi*sample_xsec[n]*sample_eff[n]\n",
    "                nEvts = np.random.poisson(nExpEvts)\n",
    "                if data[n]['mJJ'].shape[0] < nEvts:\n",
    "                    print('[WARNING] ' + n + ' re-use factor = {:.2f}'.format(float(nEvts)/data[n]['mJJ'].shape[0]))\n",
    "                evtsIdx = np.random.randint(0, data[n]['mJJ'].shape[0], size=(nEvts,))\n",
    "\n",
    "                d_aux = np.column_stack((data[n]['mJJ'][evtsIdx], data[n]['sel'][evtsIdx]))\n",
    "                d_obs = np.concatenate((d_obs, d_aux))\n",
    "\n",
    "            h_a = create_TH1D(d_obs[:, 0][d_obs[:,1].astype(np.bool)], \n",
    "                                 name='h_acc', title='Accepted',\n",
    "                                 binning=binning,\n",
    "                                 opt='overflow'\n",
    "                                )\n",
    "\n",
    "            h_r = create_TH1D(d_obs[:, 0][np.logical_not(d_obs[:,1]).astype(np.bool)], \n",
    "                                 name='h_rej', title='Rejected',\n",
    "                                 axis_title=['M_{jj} [GeV]', ''],\n",
    "                                 binning=binning,\n",
    "                                 opt='overflow'\n",
    "                                )\n",
    "            h_r.SetYTitle('Events / {:.0f} GeV'.format(h_r.GetBinWidth(1)))\n",
    "\n",
    "            h_a_bin_content, _ = rootTH1_to_np(h_a)\n",
    "            h_r_bin_content, _ = rootTH1_to_np(h_r)\n",
    "            p_val = HypotesisTets(h_a_bin_content, h_r_bin_content, SM_eff, N_asymov = N_asymov, show_hist=False)\n",
    "            p_val_test.append(p_val)\n",
    "\n",
    "            if i_exp > 3 and np.max(p_val_test) == 0:\n",
    "                break\n",
    "\n",
    "            if i_exp == 0:\n",
    "                h_a_sig = create_TH1D(d_obs[-nEvts-1:, 0][d_obs[-nEvts-1:, 1].astype(np.bool)], \n",
    "                                     name='h_acc', title='Accepted',\n",
    "                                     binning=binning,\n",
    "                                     opt='overflow'\n",
    "                                    )\n",
    "                c = plotMassSpectrum_wSig(h_r, h_a, h_a_sig, name_BSM, lumi_text, p_val)\n",
    "                fig_name = 'fig/'\n",
    "                fig_name += name_BSM + '{:1.2e}'.format(xsec_BSM) + 'pb' + '_L' + str(lumi) + 'pb-1_wEff'\n",
    "                c.SaveAs(fig_name + '.png')\n",
    "                #c.Draw()\n",
    "                \n",
    "        aux = [xsec_BSM] + list(np.percentile(p_val_test, [2.5, 16, 50, 84, 97.5]))\n",
    "        dic_p_val[name_BSM].append(aux)"
   ]
  },
  {
   "cell_type": "markdown",
   "metadata": {},
   "source": [
    "# Make the p-value plot"
   ]
  },
  {
   "cell_type": "code",
   "execution_count": null,
   "metadata": {
    "ExecuteTime": {
     "end_time": "2019-08-01T11:46:23.377368Z",
     "start_time": "2019-08-01T11:46:23.360830Z"
    }
   },
   "outputs": [],
   "source": [
    "sample_col = {\n",
    "              'GtoWW1':'b',\n",
    "              'GtoWW2':'g',\n",
    "              'GtoWW3':'r',\n",
    "              'GtoWW4':'m',\n",
    "              'AtoHZ':'y',\n",
    "              'GtoTTBroad':'k',\n",
    "              'GtoTTNarr':'c'\n",
    "             }"
   ]
  },
  {
   "cell_type": "code",
   "execution_count": null,
   "metadata": {
    "ExecuteTime": {
     "end_time": "2019-08-01T12:05:16.303344Z",
     "start_time": "2019-08-01T12:05:13.777854Z"
    }
   },
   "outputs": [],
   "source": [
    "matplotlib.rcParams.update({'font.size': 18})\n",
    "fig, ax1 = plt.subplots(figsize=(8,8))\n",
    "\n",
    "for n, val_aux in dic_p_val.iteritems():\n",
    "    val_aux = np.array(val_aux)\n",
    "    x_sec = val_aux[:, 0]\n",
    "    quant = val_aux[:, 1:]\n",
    "    \n",
    "    ax1.plot(x_sec, quant[:, 2], color=sample_col[n], label=sample_label[n])\n",
    "    print(x_sec, quant[:,2])\n",
    "    ax1.fill_between(x_sec, quant[:, 1], quant[:, 3], color=sample_col[n], alpha = 0.1, lw=0)\n",
    "#     ax1.fill_between(x_sec, quant[:, 0], quant[:, 4], color=sample_col[n], alpha = 0.1, lw=0)\n",
    "    \n",
    "    \n",
    "plt.xscale('log')\n",
    "plt.xlabel('Cross section [pb]')\n",
    "plt.yscale('log')\n",
    "plt.ylabel('p-value')\n",
    "plt.ylim(1 - erf(5.5/np.sqrt(2)), 1)\n",
    "plt.legend(loc='lower left')\n",
    "ax2 = ax1.twinx()\n",
    "for i in range(1, 6):\n",
    "    p = 1 - erf(i/np.sqrt(2))\n",
    "    ax2.plot([x_sec[0], x_sec[-1]], 2*[p], '--', color='grey')\n",
    "plt.yscale('log')\n",
    "ax2.set_yticks(1 - erf(np.arange(1,6)/np.sqrt(2)))\n",
    "ax2.set_yticklabels(['{}$\\sigma$'.format(i) for i in range(1,6)])\n",
    "ax2.tick_params(axis='y', labelcolor='grey')\n",
    "\n",
    "fig.savefig('fig/' + 'pValueScan_L' + str(lumi) + 'pb-1.png', bbox_inches='tight')"
   ]
  },
  {
   "cell_type": "code",
   "execution_count": null,
   "metadata": {},
   "outputs": [],
   "source": []
  },
  {
   "cell_type": "code",
   "execution_count": null,
   "metadata": {},
   "outputs": [],
   "source": []
  }
 ],
 "metadata": {
  "kernelspec": {
   "display_name": "Python 2",
   "language": "python",
   "name": "python2"
  },
  "language_info": {
   "codemirror_mode": {
    "name": "ipython",
    "version": 2
   },
   "file_extension": ".py",
   "mimetype": "text/x-python",
   "name": "python",
   "nbconvert_exporter": "python",
   "pygments_lexer": "ipython2",
   "version": "2.7.14+"
  }
 },
 "nbformat": 4,
 "nbformat_minor": 2
}
