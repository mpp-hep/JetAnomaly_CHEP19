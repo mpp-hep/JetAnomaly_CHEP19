{
 "cells": [
  {
   "cell_type": "code",
   "execution_count": 1,
   "metadata": {
    "ExecuteTime": {
     "end_time": "2019-07-29T09:06:51.424044Z",
     "start_time": "2019-07-29T09:06:46.355439Z"
    }
   },
   "outputs": [
    {
     "name": "stdout",
     "output_type": "stream",
     "text": [
      "Requirement already satisfied: scikit-learn==0.20 in /uscms/homes/j/jduarte1/.local/lib/python2.7/site-packages\n",
      "Requirement already satisfied: scipy>=0.13.3 in /cvmfs/cms.cern.ch/slc7_amd64_gcc700/external/py2-scipy/1.1.0/lib/python2.7/site-packages (from scikit-learn==0.20)\n",
      "Requirement already satisfied: numpy>=1.8.2 in /uscms/homes/j/jduarte1/.local/lib/python2.7/site-packages (from scikit-learn==0.20)\n",
      "\u001b[33mYou are using pip version 9.0.3, however version 19.2.1 is available.\n",
      "You should consider upgrading via the 'pip install --upgrade pip' command.\u001b[0m\n",
      "Requirement already satisfied: numpy==1.15 in /uscms/homes/j/jduarte1/.local/lib/python2.7/site-packages\n",
      "\u001b[33mYou are using pip version 9.0.3, however version 19.2.1 is available.\n",
      "You should consider upgrading via the 'pip install --upgrade pip' command.\u001b[0m\n"
     ]
    },
    {
     "name": "stderr",
     "output_type": "stream",
     "text": [
      "/uscms/home/jduarte1/.local/lib/python2.7/site-packages/sklearn/utils/__init__.py:12: RuntimeWarning: numpy.dtype size changed, may indicate binary incompatibility. Expected 96, got 88\n",
      "  from .murmurhash import murmurhash3_32\n",
      "/uscms/home/jduarte1/.local/lib/python2.7/site-packages/sklearn/utils/extmath.py:23: RuntimeWarning: numpy.dtype size changed, may indicate binary incompatibility. Expected 96, got 88\n",
      "  from ._logistic_sigmoid import _log_logistic_sigmoid\n",
      "/uscms/home/jduarte1/.local/lib/python2.7/site-packages/sklearn/utils/extmath.py:25: RuntimeWarning: numpy.dtype size changed, may indicate binary incompatibility. Expected 96, got 88\n",
      "  from .sparsefuncs_fast import csr_row_norms\n",
      "/uscms/home/jduarte1/.local/lib/python2.7/site-packages/sklearn/metrics/cluster/supervised.py:25: RuntimeWarning: numpy.dtype size changed, may indicate binary incompatibility. Expected 96, got 88\n",
      "  from .expected_mutual_info_fast import expected_mutual_information\n",
      "/uscms/home/jduarte1/.local/lib/python2.7/site-packages/sklearn/metrics/pairwise.py:31: RuntimeWarning: numpy.dtype size changed, may indicate binary incompatibility. Expected 96, got 88\n",
      "  from .pairwise_fast import _chi2_kernel_fast, _sparse_manhattan\n",
      "/uscms/home/jduarte1/.local/lib/python2.7/site-packages/sklearn/tree/tree.py:40: RuntimeWarning: numpy.dtype size changed, may indicate binary incompatibility. Expected 96, got 88\n",
      "  from ._criterion import Criterion\n",
      "/uscms/home/jduarte1/.local/lib/python2.7/site-packages/sklearn/neighbors/__init__.py:6: RuntimeWarning: numpy.dtype size changed, may indicate binary incompatibility. Expected 96, got 88\n",
      "  from .ball_tree import BallTree\n",
      "/uscms/home/jduarte1/.local/lib/python2.7/site-packages/sklearn/neighbors/__init__.py:7: RuntimeWarning: numpy.dtype size changed, may indicate binary incompatibility. Expected 96, got 88\n",
      "  from .kd_tree import KDTree\n",
      "/uscms/home/jduarte1/.local/lib/python2.7/site-packages/sklearn/utils/random.py:10: RuntimeWarning: numpy.dtype size changed, may indicate binary incompatibility. Expected 96, got 88\n",
      "  from ._random import sample_without_replacement\n",
      "/uscms/home/jduarte1/.local/lib/python2.7/site-packages/sklearn/ensemble/gradient_boosting.py:34: RuntimeWarning: numpy.dtype size changed, may indicate binary incompatibility. Expected 96, got 88\n",
      "  from ._gradient_boosting import predict_stages\n"
     ]
    },
    {
     "name": "stdout",
     "output_type": "stream",
     "text": [
      "Welcome to JupyROOT 6.12/07\n"
     ]
    },
    {
     "name": "stderr",
     "output_type": "stream",
     "text": [
      "/cvmfs/cms.cern.ch/slc7_amd64_gcc700/external/py2-root_numpy/4.7.3-gnimlf6/lib/python2.7/site-packages/root_numpy/__init__.py:46: RuntimeWarning: numpy 1.15.0 is currently installed but you installed root_numpy against numpy 1.14.1. Please consider reinstalling root_numpy for this numpy version.\n",
      "  RuntimeWarning)\n"
     ]
    }
   ],
   "source": [
    "from __future__ import print_function\n",
    "\n",
    "import h5py, os, sys, glob\n",
    "sys.path.append('../lib')\n",
    "\n",
    "# to get newer sklearn for updated GradientBoostingRegressor options\n",
    "# to get newer numpy for numpy.quantile\n",
    "!pip install scikit-learn==0.20 --user\n",
    "!pip install numpy==1.15 --user\n",
    "sys.path.insert(0,'$HOME/.local/lib/python2.7/site-packages/')\n",
    "\n",
    "import numpy as np\n",
    "\n",
    "from glob import glob\n",
    "\n",
    "import matplotlib.pyplot as plt\n",
    "import matplotlib\n",
    "matplotlib.rcParams.update({'font.size': 16})\n",
    "from matplotlib.colors import LogNorm\n",
    "\n",
    "from sklearn.ensemble import GradientBoostingRegressor, GradientBoostingClassifier\n",
    "from prettytable import PrettyTable\n",
    "\n",
    "import ROOT as rt\n",
    "\n",
    "from histo_utilities import create_TH2D, create_TH1D, create_Canvas, make_effiency_plot, rootTH1_to_np\n",
    "\n",
    "from cebefo_style import cebefo_style\n",
    "cebefo_style()\n",
    "\n",
    "dnd = []"
   ]
  },
  {
   "cell_type": "code",
   "execution_count": 2,
   "metadata": {
    "ExecuteTime": {
     "end_time": "2019-07-29T09:06:51.446614Z",
     "start_time": "2019-07-29T09:06:51.430389Z"
    }
   },
   "outputs": [],
   "source": [
    "Mjj_selection = 700.\n",
    "\n",
    "vae_loss = 'mae'\n",
    "\n",
    "SM_eff = 1e-2\n",
    "\n",
    "def computeDiscriminatingVar(x):\n",
    "    out = x[:,-2]/x[:,1]+x[:,-1]/x[:,6]\n",
    "    out *= 1e5\n",
    "    return out"
   ]
  },
  {
   "cell_type": "markdown",
   "metadata": {},
   "source": [
    "# Get the discrimination on the side-band"
   ]
  },
  {
   "cell_type": "code",
   "execution_count": 3,
   "metadata": {
    "ExecuteTime": {
     "end_time": "2019-07-29T09:06:52.321489Z",
     "start_time": "2019-07-29T09:06:51.453150Z"
    }
   },
   "outputs": [
    {
     "name": "stdout",
     "output_type": "stream",
     "text": [
      "['mJJ', 'j1Pt', 'j1Eta', 'j1Phi', 'j1M', 'j1E', 'j2Pt', 'j2M', 'j2E', 'DeltaEtaJJ', 'DeltaPhiJJ', 'j1Loss', 'j2Loss']\n",
      "(209109, 13)\n"
     ]
    },
    {
     "data": {
      "image/png": "[encoded data removed]",
      "text/plain": [
       "<IPython.core.display.Image object>"
      ]
     },
     "metadata": {},
     "output_type": "display_data"
    }
   ],
   "source": [
    "f = h5py.File('../data/vae_'+vae_loss+'/qcd_dEta_sideband_results.h5', 'r')\n",
    "print(list(f.get(\"labels\")))\n",
    "\n",
    "data_side = np.array(f.get(\"results\"))\n",
    "\n",
    "# apply the dijet mass cut\n",
    "data_side = data_side[data_side[:,0] > Mjj_selection]\n",
    "print(data_side.shape)\n",
    "\n",
    "c = create_Canvas(size=(int(800/1.5),int(600/1.5)))\n",
    "h_Mjj_side = create_TH1D(data_side[:,0], title='', axis_title = ['M_{jj} [GeV]','Events'], \n",
    "                opt='overflow', \n",
    "                binning=[100, Mjj_selection, np.max(data_side[:,0])])\n",
    "\n",
    "h_Mjj_side.Draw()\n",
    "c.SetLogy()\n",
    "c.Draw()"
   ]
  },
  {
   "cell_type": "markdown",
   "metadata": {
    "ExecuteTime": {
     "end_time": "2019-07-25T14:02:14.795675Z",
     "start_time": "2019-07-25T14:02:14.664450Z"
    }
   },
   "source": [
    "### Train the model to predict the cut"
   ]
  },
  {
   "cell_type": "code",
   "execution_count": 4,
   "metadata": {
    "ExecuteTime": {
     "end_time": "2019-07-29T09:06:52.342876Z",
     "start_time": "2019-07-29T09:06:52.326604Z"
    }
   },
   "outputs": [
    {
     "name": "stdout",
     "output_type": "stream",
     "text": [
      "103.62135082607014\n"
     ]
    }
   ],
   "source": [
    "x = np.reshape(data_side[:,0], (-1,1))\n",
    "y = computeDiscriminatingVar(data_side)\n",
    "print(np.mean(y))"
   ]
  },
  {
   "cell_type": "code",
   "execution_count": 5,
   "metadata": {
    "ExecuteTime": {
     "end_time": "2019-07-29T09:06:53.329643Z",
     "start_time": "2019-07-29T09:06:52.349217Z"
    }
   },
   "outputs": [
    {
     "name": "stdout",
     "output_type": "stream",
     "text": [
      "      Iter       Train Loss   Remaining Time \n",
      "         1           0.3818           18.66s\n",
      "         2           0.3811           19.05s\n",
      "         3           0.3806           18.97s\n",
      "         4           0.3802           18.85s\n",
      "         5           0.3798           18.75s\n",
      "         6           0.3795           18.67s\n",
      "         7           0.3792           18.59s\n",
      "         8           0.3790           18.57s\n",
      "         9           0.3788           18.55s\n",
      "        10           0.3786           18.53s\n",
      "        20           0.3774           15.99s\n",
      "        30           0.3770           13.42s\n"
     ]
    },
    {
     "data": {
      "text/plain": [
       "GradientBoostingRegressor(alpha=0.99, criterion='friedman_mse', init=None,\n",
       "             learning_rate=0.1, loss='quantile', max_depth=3,\n",
       "             max_features=None, max_leaf_nodes=None,\n",
       "             min_impurity_decrease=0.0, min_impurity_split=None,\n",
       "             min_samples_leaf=5, min_samples_split=5,\n",
       "             min_weight_fraction_leaf=0.0, n_estimators=250,\n",
       "             n_iter_no_change=10, presort='auto', random_state=None,\n",
       "             subsample=1.0, tol=1e-05, validation_fraction=0.5, verbose=1,\n",
       "             warm_start=False)"
      ]
     },
     "execution_count": 5,
     "metadata": {},
     "output_type": "execute_result"
    }
   ],
   "source": [
    "gbr_cut = GradientBoostingRegressor(loss='quantile', alpha=1-SM_eff,\n",
    "                                n_estimators=250, max_depth=3,\n",
    "                                learning_rate=.1, min_samples_leaf=5,\n",
    "                                min_samples_split=5,\n",
    "                                validation_fraction=0.5,\n",
    "                                n_iter_no_change=10,\n",
    "                                tol=1e-5,\n",
    "                                verbose=1)\n",
    "\n",
    "\n",
    "gbr_cut.fit(x, y)"
   ]
  },
  {
   "cell_type": "code",
   "execution_count": 6,
   "metadata": {
    "ExecuteTime": {
     "end_time": "2019-07-29T09:06:54.213625Z",
     "start_time": "2019-07-29T09:06:53.333628Z"
    }
   },
   "outputs": [
    {
     "data": {
      "image/png": "[encoded data removed]",
      "text/plain": [
       "<matplotlib.figure.Figure at 0x7f31f40c1b90>"
      ]
     },
     "metadata": {},
     "output_type": "display_data"
    }
   ],
   "source": [
    "plt.figure(figsize=(8, 6))\n",
    "x_min = Mjj_selection*0.8\n",
    "x_max = np.quantile(x, 0.999)\n",
    "plt.hist2d(x[:,0], y,\n",
    "           range=((x_min , x_max), (np.min(y), np.quantile(y, 1-1e-4))), \n",
    "           norm=LogNorm(), bins=100,\n",
    "           label='Side band data'\n",
    "          )\n",
    "\n",
    "xs = np.arange(Mjj_selection, x_max, 0.001*(x_max-x_min))\n",
    "plt.plot(xs, gbr_cut.predict(np.reshape(xs, (-1,1))), '-', color='m', lw=3, label='GBR selection')\n",
    "\n",
    "plt.ylabel('$L_1/P^1_T + L_2/P^2_T$ [GeV^-1]')\n",
    "plt.xlabel('$M_{jj}$ [GeV]')\n",
    "plt.colorbar()\n",
    "plt.legend(loc='best')\n",
    "plt.draw()"
   ]
  },
  {
   "cell_type": "code",
   "execution_count": 7,
   "metadata": {
    "ExecuteTime": {
     "end_time": "2019-07-29T09:06:54.234242Z",
     "start_time": "2019-07-29T09:06:54.219163Z"
    }
   },
   "outputs": [],
   "source": [
    "def getSelection(x_Mjj, x_loss):\n",
    "    cut = gbr_cut.predict(np.reshape(x_Mjj, (-1,1)))\n",
    "    return x_loss > cut"
   ]
  },
  {
   "cell_type": "code",
   "execution_count": 8,
   "metadata": {
    "ExecuteTime": {
     "end_time": "2019-07-29T09:06:57.980547Z",
     "start_time": "2019-07-29T09:06:57.727758Z"
    }
   },
   "outputs": [
    {
     "data": {
      "image/png": "[encoded data removed]",
      "text/plain": [
       "<IPython.core.display.Image object>"
      ]
     },
     "metadata": {},
     "output_type": "display_data"
    }
   ],
   "source": [
    "x = x.flatten()\n",
    "binning=[50, Mjj_selection, np.quantile(x, 0.999)]\n",
    "\n",
    "sel = getSelection(x, y)\n",
    "h_a = create_TH1D(x[sel], \n",
    "                  name='h_acc', title='Accepted',\n",
    "                  binning=binning,\n",
    "                  opt='overflow'\n",
    "                 )\n",
    "h_a.SetLineColor(2)\n",
    "h_a.SetStats(0)\n",
    "h_a.Sumw2()\n",
    "h_r = create_TH1D(x[np.logical_not(sel)], \n",
    "                  name='h_rej', title='Rejected',\n",
    "                  axis_title=['M_{jj} [GeV]', 'Events'],\n",
    "                  binning=binning,\n",
    "                  opt='overflow'\n",
    "                 )\n",
    "h_r.GetYaxis().SetRangeUser(0.5, 1.2*h_r.GetMaximum())\n",
    "h_r.SetStats(0)\n",
    "h_r.Sumw2()\n",
    "\n",
    "c = make_effiency_plot([h_r, h_a], ratio_bounds=[1e-4, 0.2], draw_opt = 'E')\n",
    "c.pad1.SetLogy()\n",
    "c.pad2.SetLogy()\n",
    "\n",
    "c.pad2.cd()\n",
    "ln = rt.TLine(h_r.GetXaxis().GetXmin(), SM_eff, h_r.GetXaxis().GetXmax(), SM_eff)\n",
    "ln.SetLineWidth(2)\n",
    "ln.SetLineStyle(7)\n",
    "ln.SetLineColor(8)\n",
    "ln.DrawLine(h_r.GetXaxis().GetXmin(), SM_eff, h_r.GetXaxis().GetXmax(), SM_eff)\n",
    "\n",
    "c.Draw()"
   ]
  },
  {
   "cell_type": "code",
   "execution_count": 9,
   "metadata": {
    "ExecuteTime": {
     "end_time": "2019-07-29T09:31:27.430030Z",
     "start_time": "2019-07-29T09:31:27.400435Z"
    }
   },
   "outputs": [],
   "source": [
    "import scipy as sp\n",
    "def HypotesisTets(h_a, h_r, eff, N_asymov = 100000, show_hist = False):\n",
    "    aux, _ = rootTH1_to_np(h_r)\n",
    "    nu = eff*aux/(1-eff)\n",
    "    \n",
    "    o_asymov = np.random.poisson(nu, (N_asymov, nu.shape[0]))\n",
    "    \n",
    "    probs = sp.stats.poisson.pmf(o_asymov, nu)\n",
    "    nll = -np.log(probs)\n",
    "    s_asymov = np.sum(nll, axis=-1)\n",
    "    \n",
    "    aux, _ = rootTH1_to_np(h_a)\n",
    "    probs_obs = sp.stats.poisson.pmf(aux.astype(np.int), nu)\n",
    "    s_obs = np.sum(-np.log(probs_obs), axis=-1)\n",
    "    \n",
    "    p_val = np.sum(s_asymov > s_obs)/float(N_asymov)\n",
    "    \n",
    "    \n",
    "    if show_hist:\n",
    "        plt.hist(s_asymov)\n",
    "\n",
    "    return p_val"
   ]
  },
  {
   "cell_type": "code",
   "execution_count": 10,
   "metadata": {
    "ExecuteTime": {
     "end_time": "2019-07-29T09:31:29.017206Z",
     "start_time": "2019-07-29T09:31:28.114709Z"
    }
   },
   "outputs": [
    {
     "data": {
      "text/plain": [
       "0.45698"
      ]
     },
     "execution_count": 10,
     "metadata": {},
     "output_type": "execute_result"
    }
   ],
   "source": [
    "HypotesisTets(h_a, h_r, SM_eff)"
   ]
  },
  {
   "cell_type": "markdown",
   "metadata": {},
   "source": [
    "# Prepare combine inputs in signal region"
   ]
  },
  {
   "cell_type": "markdown",
   "metadata": {},
   "source": [
    "### Get the data"
   ]
  },
  {
   "cell_type": "code",
   "execution_count": 11,
   "metadata": {
    "ExecuteTime": {
     "end_time": "2019-07-29T09:25:22.036651Z",
     "start_time": "2019-07-29T09:25:22.019295Z"
    }
   },
   "outputs": [],
   "source": [
    "sample_loc = {'qcd':'qcd_dEta_signalregion_results.h5',\n",
    "              'AtoZZZ':'AtoHZ_to_ZZZ_13TeV_PU40_results.h5',\n",
    "              'GtoWW':'RSGraviton_WW_NARROW_13TeV_PU40_results.h5',\n",
    "              'GtoBtt':'RSGraviton_tt_BROAD_13TeV_PU40_results.h5',\n",
    "              'GtoNtt':'RSGraviton_tt_NARROW_13TeV_PU40_results.h5'\n",
    "             }\n",
    "\n",
    "sample_label = {'qcd':'QCD',\n",
    "                'AtoZZZ':'$A\\toZZZ$',\n",
    "                'GtoWW':'$G\\toWW$',\n",
    "                'GtoBtt':'$G_{B}\\tot\\bar{t}$',\n",
    "                'GtoNtt':'$G_{N}\\tot\\bar{t}$'\n",
    "               }\n",
    "\n",
    "BSM_samples = ['AtoZZZ', 'GtoWW', 'GtoBtt', 'GtoNtt']"
   ]
  },
  {
   "cell_type": "code",
   "execution_count": 12,
   "metadata": {
    "ExecuteTime": {
     "end_time": "2019-07-29T09:25:26.046375Z",
     "start_time": "2019-07-29T09:25:22.672410Z"
    }
   },
   "outputs": [
    {
     "name": "stdout",
     "output_type": "stream",
     "text": [
      "+--------+-----------+-----------+------------+\n",
      "| Sample | Tot. evts | Sel. evts | Eff VAE[%] |\n",
      "+--------+-----------+-----------+------------+\n",
      "| GtoBtt |   65666   |   12401   |   18.885   |\n",
      "| GtoWW  |   53630   |   12957   |   24.160   |\n",
      "| GtoNtt |   64179   |   12045   |   18.768   |\n",
      "| AtoZZZ |   65148   |   13575   |   20.837   |\n",
      "|  qcd   |   471448  |    4776   |   1.013    |\n",
      "+--------+-----------+-----------+------------+\n"
     ]
    }
   ],
   "source": [
    "data = {}\n",
    "table = PrettyTable()\n",
    "table.field_names = ['Sample', 'Tot. evts', 'Sel. evts', 'Eff VAE[%]']\n",
    "\n",
    "for n, fname in sample_loc.iteritems():\n",
    "    f = h5py.File('../data/vae_'+vae_loss+'/'+fname, 'r')\n",
    "    x = np.array(f.get(\"results\"))\n",
    "\n",
    "    # apply the dijet mass cut\n",
    "    sel_Mjj = x[:,0] > Mjj_selection\n",
    "    x = x[sel_Mjj]\n",
    "    dVar = computeDiscriminatingVar(x)\n",
    "    sel = getSelection(x[:,0], dVar)\n",
    "    x = np.column_stack((x, dVar, sel))\n",
    "    \n",
    "    dt = [(str(s), '<f4') for s in list(f.get(\"labels\")) + ['dVar']]\n",
    "    dt += [('sel', '?')]\n",
    "    data[n] = np.array(list(zip(*x.T)), dtype=dt)\n",
    "    \n",
    "    eff = '{:.3f}'.format(100*np.sum(data[n]['sel'])/float(data[n]['sel'].shape[0]))\n",
    "    table.add_row([n, data[n]['sel'].shape[0], np.sum(data[n]['sel']), eff])\n",
    "    \n",
    "print(table)"
   ]
  },
  {
   "cell_type": "markdown",
   "metadata": {},
   "source": [
    "### See the distributions and dump (scaled) histograms into ROOT file"
   ]
  },
  {
   "cell_type": "code",
   "execution_count": 13,
   "metadata": {
    "ExecuteTime": {
     "end_time": "2019-07-29T09:25:40.458878Z",
     "start_time": "2019-07-29T09:25:40.366006Z"
    }
   },
   "outputs": [
    {
     "name": "stdout",
     "output_type": "stream",
     "text": [
      "\n",
      "GtoWW\n"
     ]
    },
    {
     "data": {
      "image/png": "[encoded data removed]",
      "text/plain": [
       "<IPython.core.display.Image object>"
      ]
     },
     "metadata": {},
     "output_type": "display_data"
    },
    {
     "data": {
      "image/png": "[encoded data removed]",
      "text/plain": [
       "<IPython.core.display.Image object>"
      ]
     },
     "metadata": {},
     "output_type": "display_data"
    },
    {
     "data": {
      "image/png": "[encoded data removed]",
      "text/plain": [
       "<IPython.core.display.Image object>"
      ]
     },
     "metadata": {},
     "output_type": "display_data"
    }
   ],
   "source": [
    "binning=[50, Mjj_selection, np.quantile(data['qcd']['mJJ'], 0.999)]\n",
    "\n",
    "# scale factor to scale signal\n",
    "scale = 0.01\n",
    "\n",
    "datacard_hist = rt.TFile.Open('datacard_hist.root','recreate')\n",
    "\n",
    "h_t = create_TH1D(data['qcd']['mJJ'], \n",
    "                  name='h_tot', title='Total',\n",
    "                  binning=binning,\n",
    "                  opt=''\n",
    "                 )\n",
    "h_t.SetLineColor(rt.kGreen)\n",
    "h_t.SetStats(0)\n",
    "h_t.Sumw2()\n",
    "\n",
    "\n",
    "h_a = create_TH1D(data['qcd']['mJJ'][data['qcd']['sel']], \n",
    "                  name='h_acc', title='Accepted',\n",
    "                  binning=binning,\n",
    "                  opt=''\n",
    "                 )\n",
    "h_a.SetLineColor(rt.kGreen)\n",
    "h_a.SetStats(0)\n",
    "h_a.Sumw2()\n",
    "h_r = create_TH1D(data['qcd']['mJJ'][np.logical_not(data['qcd']['sel'])], \n",
    "                  name='h_rej', title='Rejected',\n",
    "                  axis_title=['M_{jj} [GeV]', 'Events'],\n",
    "                  binning=binning,\n",
    "                  opt=''\n",
    "                 )\n",
    "h_r.SetLineColor(rt.kGreen)\n",
    "h_r.GetYaxis().SetRangeUser(0.5, 1.2*h_r.GetMaximum())\n",
    "h_r.SetStats(0)\n",
    "h_r.Sumw2()\n",
    "\n",
    "datacard_hist.cd()\n",
    "h_t.Write('qcd_tot')\n",
    "h_a.Write('qcd_acc')\n",
    "h_r.Write('qcd_rej')\n",
    "\n",
    "h_t.Write('data_obs_tot')\n",
    "h_a.Write('data_obs_acc')\n",
    "h_r.Write('data_obs_rej')\n",
    "h_t.SetDirectory(0)\n",
    "h_a.SetDirectory(0)\n",
    "h_r.SetDirectory(0)\n",
    "\n",
    "for name_BSM in ['GtoWW']:\n",
    "    print('\\n'+name_BSM)\n",
    "    \n",
    "    \n",
    "    h_t_BSM = create_TH1D(data[name_BSM]['mJJ'][data[name_BSM]['sel']], \n",
    "                  name='h_t'+name_BSM,\n",
    "                  binning=h_t.binning,\n",
    "                  opt=''\n",
    "                 )\n",
    "    h_t_BSM.SetLineColor(rt.kBlue)\n",
    "    h_t_BSM.Sumw2()\n",
    "    h_t_BSM.Scale(scale)\n",
    "    \n",
    "    h_a_BSM = create_TH1D(data[name_BSM]['mJJ'][data[name_BSM]['sel']], \n",
    "                  name='h_a'+name_BSM,\n",
    "                  binning=h_a.binning,\n",
    "                  opt=''\n",
    "                 )\n",
    "    h_a_BSM.SetLineColor(rt.kBlue)\n",
    "    h_a_BSM.Sumw2()\n",
    "    h_a_BSM.Scale(scale)\n",
    "    \n",
    "    h_r_BSM = create_TH1D(data[name_BSM]['mJJ'][np.logical_not(data[name_BSM]['sel'])], \n",
    "                  name='h_r'+name_BSM,\n",
    "                  binning=h_r.binning,\n",
    "                  opt=''\n",
    "                 )\n",
    "    h_r_BSM.SetLineColor(rt.kBlue)\n",
    "    h_r_BSM.Sumw2()\n",
    "    h_r_BSM.Scale(scale)\n",
    "\n",
    "    \n",
    "    c_t = rt.TCanvas('c_t','c_t',500,400)\n",
    "    h_t.Draw()\n",
    "    h_t.SetMinimum(1)\n",
    "    h_t_BSM.Draw('same')\n",
    "    c_t.SetLogy()\n",
    "    c_t.Draw()\n",
    "    \n",
    "    c_a = rt.TCanvas('c_a','c_a',500,400)\n",
    "    h_a.Draw()\n",
    "    h_a_BSM.Draw('same')\n",
    "    c_a.SetLogy()\n",
    "    c_a.Draw()\n",
    "    \n",
    "    c_r = rt.TCanvas('c_r','c_r',500,400)\n",
    "    h_r.Draw()\n",
    "    h_r_BSM.Draw('same')\n",
    "    c_r.SetLogy()\n",
    "    c_r.Draw()\n",
    "    \n",
    "    datacard_hist.cd()\n",
    "    h_t_BSM.Write(name_BSM+'_tot')\n",
    "    h_a_BSM.Write(name_BSM+'_acc')\n",
    "    h_r_BSM.Write(name_BSM+'_rej')\n",
    "    h_t_BSM.SetDirectory(0)\n",
    "    h_a_BSM.SetDirectory(0)\n",
    "    h_r_BSM.SetDirectory(0)\n",
    "datacard_hist.Close()"
   ]
  },
  {
   "cell_type": "markdown",
   "metadata": {},
   "source": [
    "## Define datacard based on histogram template fit"
   ]
  },
  {
   "cell_type": "code",
   "execution_count": 14,
   "metadata": {},
   "outputs": [],
   "source": [
    "datacard = \\\n",
    "'''\n",
    "imax 1\n",
    "jmax 1\n",
    "kmax *\n",
    "---------------\n",
    "shapes * * datacard_hist.root $PROCESS_$CHANNEL $PROCESS_$CHANNEL_$SYSTEMATIC\n",
    "---------------\n",
    "bin {BIN}\n",
    "observation {OBS}\n",
    "------------------------------\n",
    "bin             {BIN}      {BIN}\n",
    "process         {BSM}     qcd\n",
    "process         0          1\n",
    "rate            {BSMRATE}    {QCDRATE}\n",
    "--------------------------------\n",
    "lumi     lnN    1.10       1.10\n",
    "bgnorm   lnN    1.00       1.30\n",
    "* autoMCStats 0 0 1\n",
    "'''"
   ]
  },
  {
   "cell_type": "code",
   "execution_count": 15,
   "metadata": {},
   "outputs": [
    {
     "name": "stdout",
     "output_type": "stream",
     "text": [
      "\n",
      "imax 1\n",
      "jmax 1\n",
      "kmax *\n",
      "---------------\n",
      "shapes * * datacard_hist.root $PROCESS_$CHANNEL $PROCESS_$CHANNEL_$SYSTEMATIC\n",
      "---------------\n",
      "bin tot\n",
      "observation 470976.0\n",
      "------------------------------\n",
      "bin             tot      tot\n",
      "process         GtoWW     qcd\n",
      "process         0          1\n",
      "rate            128.98    470976.0\n",
      "--------------------------------\n",
      "lumi     lnN    1.10       1.10\n",
      "bgnorm   lnN    1.00       1.30\n",
      "* autoMCStats 0 0 1\n",
      "\n",
      "\n",
      "imax 1\n",
      "jmax 1\n",
      "kmax *\n",
      "---------------\n",
      "shapes * * datacard_hist.root $PROCESS_$CHANNEL $PROCESS_$CHANNEL_$SYSTEMATIC\n",
      "---------------\n",
      "bin acc\n",
      "observation 4765.0\n",
      "------------------------------\n",
      "bin             acc      acc\n",
      "process         GtoWW     qcd\n",
      "process         0          1\n",
      "rate            128.98    4765.0\n",
      "--------------------------------\n",
      "lumi     lnN    1.10       1.10\n",
      "bgnorm   lnN    1.00       1.30\n",
      "* autoMCStats 0 0 1\n",
      "\n"
     ]
    }
   ],
   "source": [
    "datacard_tot = datacard.format(BIN='tot',\n",
    "                          OBS=h_t.Integral(),\n",
    "                          QCDRATE=h_t.Integral(),\n",
    "                          BSM=name_BSM,\n",
    "                          BSMRATE=h_t_BSM.Integral())\n",
    "print(datacard_tot)\n",
    "with open('datacard_tot.txt','w') as f:\n",
    "    f.write(datacard_tot)\n",
    "\n",
    "datacard_acc = datacard.format(BIN='acc',\n",
    "                          OBS=h_a.Integral(),\n",
    "                          QCDRATE=h_a.Integral(),\n",
    "                          BSM=name_BSM,\n",
    "                          BSMRATE=h_a_BSM.Integral())\n",
    "print(datacard_acc)\n",
    "with open('datacard_acc.txt','w') as f:\n",
    "    f.write(datacard_acc)"
   ]
  },
  {
   "cell_type": "markdown",
   "metadata": {},
   "source": [
    "# Run combine"
   ]
  },
  {
   "cell_type": "code",
   "execution_count": 16,
   "metadata": {},
   "outputs": [
    {
     "name": "stdout",
     "output_type": "stream",
     "text": [
      " <<< Combine >>> \n",
      ">>> method used is AsymptoticLimits\n",
      ">>> random number generator seed is 123456\n",
      "Channel tot will use autoMCStats with settings: event-threshold=0, include-signal=0, hist-mode=1\n",
      "============================================================\n",
      "Analysing bin errors for: prop_bintot\n",
      "Poisson cut-off: 0\n",
      "Processes excluded for sums: GtoWW\n",
      "============================================================\n",
      "Bin        Contents        Error           Notes                         \n",
      "0          76941.240000    277.382412      total sum                     \n",
      "0          76941.000000    277.382408      excluding marked processes    \n",
      "0          76941.000000    277.382408      Unweighted events, alpha=1.000003\n",
      "  => Total parameter prop_bintot_bin0[0.00,-7.00,7.00] to be gaussian constrained\n",
      "------------------------------------------------------------\n",
      "1          68408.430000    261.549239      total sum                     \n",
      "1          68408.000000    261.549231      excluding marked processes    \n",
      "1          68408.000000    261.549231      Unweighted events, alpha=1.000006\n",
      "  => Total parameter prop_bintot_bin1[0.00,-7.00,7.00] to be gaussian constrained\n",
      "------------------------------------------------------------\n",
      "2          57488.400000    239.766561      total sum                     \n",
      "2          57488.000000    239.766553      excluding marked processes    \n",
      "2          57488.000000    239.766553      Unweighted events, alpha=1.000007\n",
      "  => Total parameter prop_bintot_bin2[0.00,-7.00,7.00] to be gaussian constrained\n",
      "------------------------------------------------------------\n",
      "3          47894.600000    218.846992      total sum                     \n",
      "3          47894.000000    218.846979      excluding marked processes    \n",
      "3          47894.000000    218.846979      Unweighted events, alpha=1.000013\n",
      "  => Total parameter prop_bintot_bin3[0.00,-7.00,7.00] to be gaussian constrained\n",
      "------------------------------------------------------------\n",
      "4          38991.520000    197.461402      total sum                     \n",
      "4          38991.000000    197.461389      excluding marked processes    \n",
      "4          38991.000000    197.461389      Unweighted events, alpha=1.000013\n",
      "  => Total parameter prop_bintot_bin4[0.00,-7.00,7.00] to be gaussian constrained\n",
      "------------------------------------------------------------\n",
      "5          31734.620000    178.140411      total sum                     \n",
      "5          31734.000000    178.140394      excluding marked processes    \n",
      "5          31734.000000    178.140394      Unweighted events, alpha=1.000020\n",
      "  => Total parameter prop_bintot_bin5[0.00,-7.00,7.00] to be gaussian constrained\n",
      "------------------------------------------------------------\n",
      "6          25477.770000    159.615186      total sum                     \n",
      "6          25477.000000    159.615162      excluding marked processes    \n",
      "6          25477.000000    159.615162      Unweighted events, alpha=1.000030\n",
      "  => Total parameter prop_bintot_bin6[0.00,-7.00,7.00] to be gaussian constrained\n",
      "------------------------------------------------------------\n",
      "7          20697.010000    143.861079      total sum                     \n",
      "7          20696.000000    143.861044      excluding marked processes    \n",
      "7          20696.000000    143.861044      Unweighted events, alpha=1.000049\n",
      "  => Total parameter prop_bintot_bin7[0.00,-7.00,7.00] to be gaussian constrained\n",
      "------------------------------------------------------------\n",
      "8          16952.360000    130.196058      total sum                     \n",
      "8          16951.000000    130.196006      excluding marked processes    \n",
      "8          16951.000000    130.196006      Unweighted events, alpha=1.000080\n",
      "  => Total parameter prop_bintot_bin8[0.00,-7.00,7.00] to be gaussian constrained\n",
      "------------------------------------------------------------\n",
      "9          13991.550000    118.279396      total sum                     \n",
      "9          13990.000000    118.279330      excluding marked processes    \n",
      "9          13990.000000    118.279330      Unweighted events, alpha=1.000111\n",
      "  => Total parameter prop_bintot_bin9[0.00,-7.00,7.00] to be gaussian constrained\n",
      "------------------------------------------------------------\n",
      "10         11552.590000    107.475653      total sum                     \n",
      "10         11551.000000    107.475579      excluding marked processes    \n",
      "10         11551.000000    107.475579      Unweighted events, alpha=1.000138\n",
      "  => Total parameter prop_bintot_bin10[0.00,-7.00,7.00] to be gaussian constrained\n",
      "------------------------------------------------------------\n",
      "11         9431.570000     97.108268       total sum                     \n",
      "11         9430.000000     97.108187       excluding marked processes    \n",
      "11         9430.000000     97.108187       Unweighted events, alpha=1.000166\n",
      "  => Total parameter prop_bintot_bin11[0.00,-7.00,7.00] to be gaussian constrained\n",
      "------------------------------------------------------------\n",
      "12         7755.970000     88.056912       total sum                     \n",
      "12         7754.000000     88.056800       excluding marked processes    \n",
      "12         7754.000000     88.056800       Unweighted events, alpha=1.000254\n",
      "  => Total parameter prop_bintot_bin12[0.00,-7.00,7.00] to be gaussian constrained\n",
      "------------------------------------------------------------\n",
      "13         6557.320000     80.963098       total sum                     \n",
      "13         6555.000000     80.962954       excluding marked processes    \n",
      "13         6555.000000     80.962954       Unweighted events, alpha=1.000354\n",
      "  => Total parameter prop_bintot_bin13[0.00,-7.00,7.00] to be gaussian constrained\n",
      "------------------------------------------------------------\n",
      "14         5369.910000     73.260010       total sum                     \n",
      "14         5367.000000     73.259812       excluding marked processes    \n",
      "14         5367.000000     73.259812       Unweighted events, alpha=1.000542\n",
      "  => Total parameter prop_bintot_bin14[0.00,-7.00,7.00] to be gaussian constrained\n",
      "------------------------------------------------------------\n",
      "15         4558.040000     67.490965       total sum                     \n",
      "15         4555.000000     67.490740       excluding marked processes    \n",
      "15         4555.000000     67.490740       Unweighted events, alpha=1.000667\n",
      "  => Total parameter prop_bintot_bin15[0.00,-7.00,7.00] to be gaussian constrained\n",
      "------------------------------------------------------------\n",
      "16         3893.260000     62.370126       total sum                     \n",
      "16         3890.000000     62.369865       excluding marked processes    \n",
      "16         3890.000000     62.369865       Unweighted events, alpha=1.000838\n",
      "  => Total parameter prop_bintot_bin16[0.00,-7.00,7.00] to be gaussian constrained\n",
      "------------------------------------------------------------\n",
      "17         3290.020000     57.323993       total sum                     \n",
      "17         3286.000000     57.323643       excluding marked processes    \n",
      "17         3286.000000     57.323643       Unweighted events, alpha=1.001223\n",
      "  => Total parameter prop_bintot_bin17[0.00,-7.00,7.00] to be gaussian constrained\n",
      "------------------------------------------------------------\n",
      "18         2742.380000     52.326320       total sum                     \n",
      "18         2738.000000     52.325902       excluding marked processes    \n",
      "18         2738.000000     52.325902       Unweighted events, alpha=1.001600\n",
      "  => Total parameter prop_bintot_bin18[0.00,-7.00,7.00] to be gaussian constrained\n",
      "------------------------------------------------------------\n",
      "19         2313.750000     48.052549       total sum                     \n",
      "19         2309.000000     48.052055       excluding marked processes    \n",
      "19         2309.000000     48.052055       Unweighted events, alpha=1.002057\n",
      "  => Total parameter prop_bintot_bin19[0.00,-7.00,7.00] to be gaussian constrained\n",
      "------------------------------------------------------------\n",
      "20         1960.730000     44.227224       total sum                     \n",
      "20         1956.000000     44.226689       excluding marked processes    \n",
      "20         1956.000000     44.226689       Unweighted events, alpha=1.002418\n",
      "  => Total parameter prop_bintot_bin20[0.00,-7.00,7.00] to be gaussian constrained\n",
      "------------------------------------------------------------\n",
      "21         1708.520000     41.268089       total sum                     \n",
      "21         1703.000000     41.267421       excluding marked processes    \n",
      "21         1703.000000     41.267421       Unweighted events, alpha=1.003241\n",
      "  => Total parameter prop_bintot_bin21[0.00,-7.00,7.00] to be gaussian constrained\n",
      "------------------------------------------------------------\n",
      "22         1554.560000     39.358044       total sum                     \n",
      "22         1549.000000     39.357337       excluding marked processes    \n",
      "22         1549.000000     39.357337       Unweighted events, alpha=1.003589\n",
      "  => Total parameter prop_bintot_bin22[0.00,-7.00,7.00] to be gaussian constrained\n",
      "------------------------------------------------------------\n",
      "23         1310.870000     36.125596       total sum                     \n"
     ]
    },
    {
     "name": "stdout",
     "output_type": "stream",
     "text": [
      "23         1305.000000     36.124784       excluding marked processes    \r\n",
      "23         1305.000000     36.124784       Unweighted events, alpha=1.004498\r\n",
      "  => Total parameter prop_bintot_bin23[0.00,-7.00,7.00] to be gaussian constrained\r\n",
      "------------------------------------------------------------\r\n",
      "24         1144.400000     33.735204       total sum                     \r\n",
      "24         1138.000000     33.734256       excluding marked processes    \r\n",
      "24         1138.000000     33.734256       Unweighted events, alpha=1.005624\r\n",
      "  => Total parameter prop_bintot_bin24[0.00,-7.00,7.00] to be gaussian constrained\r\n",
      "------------------------------------------------------------\r\n",
      "25         922.030000      30.266488       total sum                     \r\n",
      "25         916.000000      30.265492       excluding marked processes    \r\n",
      "25         916.000000      30.265492       Unweighted events, alpha=1.006583\r\n",
      "  => Total parameter prop_bintot_bin25[0.00,-7.00,7.00] to be gaussian constrained\r\n",
      "------------------------------------------------------------\r\n",
      "26         782.690000      27.857977       total sum                     \r\n",
      "26         776.000000      27.856777       excluding marked processes    \r\n",
      "26         776.000000      27.856777       Unweighted events, alpha=1.008621\r\n",
      "  => Total parameter prop_bintot_bin26[0.00,-7.00,7.00] to be gaussian constrained\r\n",
      "------------------------------------------------------------\r\n",
      "27         714.980000      26.609581       total sum                     \r\n",
      "27         708.000000      26.608269       excluding marked processes    \r\n",
      "27         708.000000      26.608269       Unweighted events, alpha=1.009859\r\n",
      "  => Total parameter prop_bintot_bin27[0.00,-7.00,7.00] to be gaussian constrained\r\n",
      "------------------------------------------------------------\r\n",
      "28         612.010000      24.598173       total sum                     \r\n",
      "28         605.000000      24.596748       excluding marked processes    \r\n",
      "28         605.000000      24.596748       Unweighted events, alpha=1.011587\r\n",
      "  => Total parameter prop_bintot_bin28[0.00,-7.00,7.00] to be gaussian constrained\r\n",
      "------------------------------------------------------------\r\n",
      "29         579.590000      23.938795       total sum                     \r\n",
      "29         573.000000      23.937418       excluding marked processes    \r\n",
      "29         573.000000      23.937418       Unweighted events, alpha=1.011501\r\n",
      "  => Total parameter prop_bintot_bin29[0.00,-7.00,7.00] to be gaussian constrained\r\n",
      "------------------------------------------------------------\r\n",
      "30         454.910000      21.191015       total sum                     \r\n",
      "30         449.000000      21.189620       excluding marked processes    \r\n",
      "30         449.000000      21.189620       Unweighted events, alpha=1.013163\r\n",
      "  => Total parameter prop_bintot_bin30[0.00,-7.00,7.00] to be gaussian constrained\r\n",
      "------------------------------------------------------------\r\n",
      "31         430.480000      20.616857       total sum                     \r\n",
      "31         425.000000      20.615528       excluding marked processes    \r\n",
      "31         425.000000      20.615528       Unweighted events, alpha=1.012894\r\n",
      "  => Total parameter prop_bintot_bin31[0.00,-7.00,7.00] to be gaussian constrained\r\n",
      "------------------------------------------------------------\r\n",
      "32         372.980000      19.184624       total sum                     \r\n",
      "32         368.000000      19.183326       excluding marked processes    \r\n",
      "32         368.000000      19.183326       Unweighted events, alpha=1.013533\r\n",
      "  => Total parameter prop_bintot_bin32[0.00,-7.00,7.00] to be gaussian constrained\r\n",
      "------------------------------------------------------------\r\n",
      "33         326.870000      17.973277       total sum                     \r\n",
      "33         323.000000      17.972201       excluding marked processes    \r\n",
      "33         323.000000      17.972201       Unweighted events, alpha=1.011981\r\n",
      "  => Total parameter prop_bintot_bin33[0.00,-7.00,7.00] to be gaussian constrained\r\n",
      "------------------------------------------------------------\r\n",
      "34         314.560000      17.636201       total sum                     \r\n",
      "34         311.000000      17.635192       excluding marked processes    \r\n",
      "34         311.000000      17.635192       Unweighted events, alpha=1.011447\r\n",
      "  => Total parameter prop_bintot_bin34[0.00,-7.00,7.00] to be gaussian constrained\r\n",
      "------------------------------------------------------------\r\n",
      "35         257.220000      15.969415       total sum                     \r\n",
      "35         255.000000      15.968719       excluding marked processes    \r\n",
      "35         255.000000      15.968719       Unweighted events, alpha=1.008706\r\n",
      "  => Total parameter prop_bintot_bin35[0.00,-7.00,7.00] to be gaussian constrained\r\n",
      "------------------------------------------------------------\r\n",
      "36         233.260000      15.231960       total sum                     \r\n",
      "36         232.000000      15.231546       excluding marked processes    \r\n",
      "36         232.000000      15.231546       Unweighted events, alpha=1.005431\r\n",
      "  => Total parameter prop_bintot_bin36[0.00,-7.00,7.00] to be gaussian constrained\r\n",
      "------------------------------------------------------------\r\n",
      "37         202.790000      14.212948       total sum                     \r\n",
      "37         202.000000      14.212670       excluding marked processes    \r\n",
      "37         202.000000      14.212670       Unweighted events, alpha=1.003911\r\n",
      "  => Total parameter prop_bintot_bin37[0.00,-7.00,7.00] to be gaussian constrained\r\n",
      "------------------------------------------------------------\r\n",
      "38         166.430000      12.884266       total sum                     \r\n",
      "38         166.000000      12.884099       excluding marked processes    \r\n",
      "38         166.000000      12.884099       Unweighted events, alpha=1.002590\r\n",
      "  => Total parameter prop_bintot_bin38[0.00,-7.00,7.00] to be gaussian constrained\r\n",
      "------------------------------------------------------------\r\n",
      "39         153.350000      12.369458       total sum                     \r\n",
      "39         153.000000      12.369317       excluding marked processes    \r\n",
      "39         153.000000      12.369317       Unweighted events, alpha=1.002288\r\n",
      "  => Total parameter prop_bintot_bin39[0.00,-7.00,7.00] to be gaussian constrained\r\n",
      "------------------------------------------------------------\r\n",
      "40         157.330000      12.530096       total sum                     \r\n",
      "40         157.000000      12.529964       excluding marked processes    \r\n",
      "40         157.000000      12.529964       Unweighted events, alpha=1.002102\r\n",
      "  => Total parameter prop_bintot_bin40[0.00,-7.00,7.00] to be gaussian constrained\r\n",
      "------------------------------------------------------------\r\n",
      "41         111.190000      10.535744       total sum                     \r\n",
      "41         111.000000      10.535654       excluding marked processes    \r\n",
      "41         111.000000      10.535654       Unweighted events, alpha=1.001712\r\n",
      "  => Total parameter prop_bintot_bin41[0.00,-7.00,7.00] to be gaussian constrained\r\n",
      "------------------------------------------------------------\r\n",
      "42         92.190000       9.591762        total sum                     \r\n",
      "42         92.000000       9.591663        excluding marked processes    \r\n",
      "42         92.000000       9.591663        Unweighted events, alpha=1.002065\r\n",
      "  => Total parameter prop_bintot_bin42[0.00,-7.00,7.00] to be gaussian constrained\r\n",
      "------------------------------------------------------------\r\n",
      "43         90.190000       9.486933        total sum                     \r\n",
      "43         90.000000       9.486833        excluding marked processes    \r\n",
      "43         90.000000       9.486833        Unweighted events, alpha=1.002111\r\n",
      "  => Total parameter prop_bintot_bin43[0.00,-7.00,7.00] to be gaussian constrained\r\n",
      "------------------------------------------------------------\r\n",
      "44         100.080000      10.000040       total sum                     \r\n",
      "44         100.000000      10.000000       excluding marked processes    \r\n",
      "44         100.000000      10.000000       Unweighted events, alpha=1.000800\r\n",
      "  => Total parameter prop_bintot_bin44[0.00,-7.00,7.00] to be gaussian constrained\r\n",
      "------------------------------------------------------------\r\n",
      "45         64.130000       8.000081        total sum                     \r\n",
      "45         64.000000       8.000000        excluding marked processes    \r\n",
      "45         64.000000       8.000000        Unweighted events, alpha=1.002031\r\n",
      "  => Total parameter prop_bintot_bin45[0.00,-7.00,7.00] to be gaussian constrained\r\n",
      "------------------------------------------------------------\r\n",
      "46         75.100000       8.660312        total sum                     \r\n",
      "46         75.000000       8.660254        excluding marked processes    \r\n",
      "46         75.000000       8.660254        Unweighted events, alpha=1.001333\r\n",
      "  => Total parameter prop_bintot_bin46[0.00,-7.00,7.00] to be gaussian constrained\r\n",
      "------------------------------------------------------------\r\n",
      "47         62.100000       7.874071        total sum                     \r\n",
      "47         62.000000       7.874008        excluding marked processes    \r\n",
      "47         62.000000       7.874008        Unweighted events, alpha=1.001613\r\n",
      "  => Total parameter prop_bintot_bin47[0.00,-7.00,7.00] to be gaussian constrained\r\n",
      "------------------------------------------------------------\r\n",
      "48         58.070000       7.615819        total sum                     \r\n",
      "48         58.000000       7.615773        excluding marked processes    \r\n",
      "48         58.000000       7.615773        Unweighted events, alpha=1.001207\r\n",
      "  => Total parameter prop_bintot_bin48[0.00,-7.00,7.00] to be gaussian constrained\r\n",
      "------------------------------------------------------------\r\n",
      "49         49.060000       7.000043        total sum                     \r\n",
      "49         49.000000       7.000000        excluding marked processes    \r\n",
      "49         49.000000       7.000000        Unweighted events, alpha=1.001224\r\n",
      "  => Total parameter prop_bintot_bin49[0.00,-7.00,7.00] to be gaussian constrained\r\n",
      "------------------------------------------------------------\r\n"
     ]
    },
    {
     "name": "stdout",
     "output_type": "stream",
     "text": [
      "\r\n",
      " -- AsymptoticLimits ( CLs ) --\r\n",
      "Observed Limit: r < 3.2250\r\n",
      "Expected  2.5%: r < 1.7225\r\n",
      "Expected 16.0%: r < 2.3070\r\n",
      "Expected 50.0%: r < 3.2188\r\n",
      "Expected 84.0%: r < 4.5402\r\n",
      "Expected 97.5%: r < 6.1596\r\n",
      "\r\n",
      "Done in 0.03 min (cpu), 0.03 min (real)\r\n"
     ]
    }
   ],
   "source": [
    "# using \"total\" region\n",
    "!combine -M AsymptoticLimits -d datacard_tot.txt -t -1"
   ]
  },
  {
   "cell_type": "code",
   "execution_count": 17,
   "metadata": {},
   "outputs": [
    {
     "name": "stdout",
     "output_type": "stream",
     "text": [
      " <<< Combine >>> \n",
      ">>> method used is AsymptoticLimits\n",
      ">>> random number generator seed is 123456\n",
      "Channel acc will use autoMCStats with settings: event-threshold=0, include-signal=0, hist-mode=1\n",
      "============================================================\n",
      "Analysing bin errors for: prop_binacc\n",
      "Poisson cut-off: 0\n",
      "Processes excluded for sums: GtoWW\n",
      "============================================================\n",
      "Bin        Contents        Error           Notes                         \n",
      "0          810.240000      28.460541       total sum                     \n",
      "0          810.000000      28.460499       excluding marked processes    \n",
      "0          810.000000      28.460499       Unweighted events, alpha=1.000296\n",
      "  => Total parameter prop_binacc_bin0[0.00,-7.00,7.00] to be gaussian constrained\n",
      "------------------------------------------------------------\n",
      "1          743.430000      27.258105       total sum                     \n",
      "1          743.000000      27.258026       excluding marked processes    \n",
      "1          743.000000      27.258026       Unweighted events, alpha=1.000579\n",
      "  => Total parameter prop_binacc_bin1[0.00,-7.00,7.00] to be gaussian constrained\n",
      "------------------------------------------------------------\n",
      "2          589.400000      24.269405       total sum                     \n",
      "2          589.000000      24.269322       excluding marked processes    \n",
      "2          589.000000      24.269322       Unweighted events, alpha=1.000679\n",
      "  => Total parameter prop_binacc_bin2[0.00,-7.00,7.00] to be gaussian constrained\n",
      "------------------------------------------------------------\n",
      "3          503.600000      22.427795       total sum                     \n",
      "3          503.000000      22.427661       excluding marked processes    \n",
      "3          503.000000      22.427661       Unweighted events, alpha=1.001193\n",
      "  => Total parameter prop_binacc_bin3[0.00,-7.00,7.00] to be gaussian constrained\n",
      "------------------------------------------------------------\n",
      "4          383.520000      19.570519       total sum                     \n",
      "4          383.000000      19.570386       excluding marked processes    \n",
      "4          383.000000      19.570386       Unweighted events, alpha=1.001358\n",
      "  => Total parameter prop_binacc_bin4[0.00,-7.00,7.00] to be gaussian constrained\n",
      "------------------------------------------------------------\n",
      "5          285.620000      16.882127       total sum                     \n",
      "5          285.000000      16.881943       excluding marked processes    \n",
      "5          285.000000      16.881943       Unweighted events, alpha=1.002175\n",
      "  => Total parameter prop_binacc_bin5[0.00,-7.00,7.00] to be gaussian constrained\n",
      "------------------------------------------------------------\n",
      "6          274.770000      16.553178       total sum                     \n",
      "6          274.000000      16.552945       excluding marked processes    \n",
      "6          274.000000      16.552945       Unweighted events, alpha=1.002810\n",
      "  => Total parameter prop_binacc_bin6[0.00,-7.00,7.00] to be gaussian constrained\n",
      "------------------------------------------------------------\n",
      "7          189.010000      13.711678       total sum                     \n",
      "7          188.000000      13.711309       excluding marked processes    \n",
      "7          188.000000      13.711309       Unweighted events, alpha=1.005372\n",
      "  => Total parameter prop_binacc_bin7[0.00,-7.00,7.00] to be gaussian constrained\n",
      "------------------------------------------------------------\n",
      "8          174.360000      13.153463       total sum                     \n",
      "8          173.000000      13.152946       excluding marked processes    \n",
      "8          173.000000      13.152946       Unweighted events, alpha=1.007861\n",
      "  => Total parameter prop_binacc_bin8[0.00,-7.00,7.00] to be gaussian constrained\n",
      "------------------------------------------------------------\n",
      "9          125.550000      11.136225       total sum                     \n",
      "9          124.000000      11.135529       excluding marked processes    \n",
      "9          124.000000      11.135529       Unweighted events, alpha=1.012500\n",
      "  => Total parameter prop_binacc_bin9[0.00,-7.00,7.00] to be gaussian constrained\n",
      "------------------------------------------------------------\n",
      "10         104.590000      10.149675       total sum                     \n",
      "10         103.000000      10.148892       excluding marked processes    \n",
      "10         103.000000      10.148892       Unweighted events, alpha=1.015437\n",
      "  => Total parameter prop_binacc_bin10[0.00,-7.00,7.00] to be gaussian constrained\n",
      "------------------------------------------------------------\n",
      "11         90.570000       9.434813        total sum                     \n",
      "11         89.000000       9.433981        excluding marked processes    \n",
      "11         89.000000       9.433981        Unweighted events, alpha=1.017640\n",
      "  => Total parameter prop_binacc_bin11[0.00,-7.00,7.00] to be gaussian constrained\n",
      "------------------------------------------------------------\n",
      "12         76.970000       8.661391        total sum                     \n",
      "12         75.000000       8.660254        excluding marked processes    \n",
      "12         75.000000       8.660254        Unweighted events, alpha=1.026267\n",
      "  => Total parameter prop_binacc_bin12[0.00,-7.00,7.00] to be gaussian constrained\n",
      "------------------------------------------------------------\n",
      "13         61.320000       7.682656        total sum                     \n",
      "13         59.000000       7.681146        excluding marked processes    \n",
      "13         59.000000       7.681146        Unweighted events, alpha=1.039322\n",
      "  => Total parameter prop_binacc_bin13[0.00,-7.00,7.00] to be gaussian constrained\n",
      "------------------------------------------------------------\n",
      "14         51.910000       7.002078        total sum                     \n",
      "14         49.000000       7.000000        excluding marked processes    \n",
      "14         49.000000       7.000000        Unweighted events, alpha=1.059388\n",
      "  => Total parameter prop_binacc_bin14[0.00,-7.00,7.00] to be gaussian constrained\n",
      "------------------------------------------------------------\n",
      "15         38.040000       5.918648        total sum                     \n",
      "15         35.000000       5.916080        excluding marked processes    \n",
      "15         35.000000       5.916080        Unweighted events, alpha=1.086857\n",
      "  => Total parameter prop_binacc_bin15[0.00,-7.00,7.00] to be gaussian constrained\n",
      "------------------------------------------------------------\n",
      "16         43.260000       6.327132        total sum                     \n",
      "16         40.000000       6.324555        excluding marked processes    \n",
      "16         40.000000       6.324555        Unweighted events, alpha=1.081500\n",
      "  => Total parameter prop_binacc_bin16[0.00,-7.00,7.00] to be gaussian constrained\n",
      "------------------------------------------------------------\n",
      "17         31.020000       5.200019        total sum                     \n",
      "17         27.000000       5.196152        excluding marked processes    \n",
      "17         27.000000       5.196152        Unweighted events, alpha=1.148889\n",
      "  => Total parameter prop_binacc_bin17[0.00,-7.00,7.00] to be gaussian constrained\n",
      "------------------------------------------------------------\n",
      "18         41.380000       6.086362        total sum                     \n",
      "18         37.000000       6.082763        excluding marked processes    \n",
      "18         37.000000       6.082763        Unweighted events, alpha=1.118378\n",
      "  => Total parameter prop_binacc_bin18[0.00,-7.00,7.00] to be gaussian constrained\n",
      "------------------------------------------------------------\n",
      "19         24.750000       4.477443        total sum                     \n",
      "19         20.000000       4.472136        excluding marked processes    \n",
      "19         20.000000       4.472136        Unweighted events, alpha=1.237500\n",
      "  => Total parameter prop_binacc_bin19[0.00,-7.00,7.00] to be gaussian constrained\n",
      "------------------------------------------------------------\n",
      "20         30.730000       5.103656        total sum                     \n",
      "20         26.000000       5.099020        excluding marked processes    \n",
      "20         26.000000       5.099020        Unweighted events, alpha=1.181923\n",
      "  => Total parameter prop_binacc_bin20[0.00,-7.00,7.00] to be gaussian constrained\n",
      "------------------------------------------------------------\n",
      "21         17.520000       3.472060        total sum                     \n",
      "21         12.000000       3.464102        excluding marked processes    \n",
      "21         12.000000       3.464102        Unweighted events, alpha=1.460000\n",
      "  => Total parameter prop_binacc_bin21[0.00,-7.00,7.00] to be gaussian constrained\n",
      "------------------------------------------------------------\n",
      "22         19.560000       3.749080        total sum                     \n",
      "22         14.000000       3.741657        excluding marked processes    \n",
      "22         14.000000       3.741657        Unweighted events, alpha=1.397143\n",
      "  => Total parameter prop_binacc_bin22[0.00,-7.00,7.00] to be gaussian constrained\n",
      "------------------------------------------------------------\n",
      "23         14.870000       3.009767        total sum                     \n",
      "23         9.000000        3.000000        excluding marked processes    \n",
      "23         9.000000        3.000000        Unweighted events, alpha=1.652222\n",
      "  => Total parameter prop_binacc_bin23[0.00,-7.00,7.00] to be gaussian constrained\n",
      "------------------------------------------------------------\n",
      "24         24.400000       4.250176        total sum                     \n",
      "24         18.000000       4.242641        excluding marked processes    \n",
      "24         18.000000       4.242641        Unweighted events, alpha=1.355556\n",
      "  => Total parameter prop_binacc_bin24[0.00,-7.00,7.00] to be gaussian constrained\n",
      "------------------------------------------------------------\n",
      "25         16.030000       3.171798        total sum                     \n",
      "25         10.000000       3.162278        excluding marked processes    \n",
      "25         10.000000       3.162278        Unweighted events, alpha=1.603000\n",
      "  => Total parameter prop_binacc_bin25[0.00,-7.00,7.00] to be gaussian constrained\n",
      "------------------------------------------------------------\n",
      "26         13.690000       2.658364        total sum                     \n",
      "26         7.000000        2.645751        excluding marked processes    \n",
      "26         7.000000        2.645751        Unweighted events, alpha=1.955714\n",
      "  => Total parameter prop_binacc_bin26[0.00,-7.00,7.00] to be gaussian constrained\n",
      "------------------------------------------------------------\n",
      "27         15.980000       3.011611        total sum                     \n",
      "27         9.000000        3.000000        excluding marked processes    \n",
      "27         9.000000        3.000000        Unweighted events, alpha=1.775556\n",
      "  => Total parameter prop_binacc_bin27[0.00,-7.00,7.00] to be gaussian constrained\n",
      "------------------------------------------------------------\n",
      "28         15.010000       2.840792        total sum                     \n",
      "28         8.000000        2.828427        excluding marked processes    \n",
      "28         8.000000        2.828427        Unweighted events, alpha=1.876250\n",
      "  => Total parameter prop_binacc_bin28[0.00,-7.00,7.00] to be gaussian constrained\n",
      "------------------------------------------------------------\n",
      "29         11.590000       2.250755        total sum                     \n",
      "29         5.000000        2.236068        excluding marked processes    \n",
      "29         5.000000        2.236068        Unweighted events, alpha=2.318000\n",
      "  => Total parameter prop_binacc_bin29[0.00,-7.00,7.00] to be gaussian constrained\n",
      "------------------------------------------------------------\n",
      "30         13.910000       2.838855        total sum                     \n",
      "30         8.000000        2.828427        excluding marked processes    \n",
      "30         8.000000        2.828427        Unweighted events, alpha=1.738750\n",
      "  => Total parameter prop_binacc_bin30[0.00,-7.00,7.00] to be gaussian constrained\n",
      "------------------------------------------------------------\n",
      "31         8.480000        1.747799        total sum                     \n",
      "31         3.000000        1.732051        excluding marked processes    \n",
      "31         3.000000        1.732051        Unweighted events, alpha=2.826667\n",
      "  => Total parameter prop_binacc_bin31[0.00,-7.00,7.00] to be gaussian constrained\n",
      "------------------------------------------------------------\n",
      "32         11.980000       2.655146        total sum                     \n",
      "32         7.000000        2.645751        excluding marked processes    \n",
      "32         7.000000        2.645751        Unweighted events, alpha=1.711429\n",
      "  => Total parameter prop_binacc_bin32[0.00,-7.00,7.00] to be gaussian constrained\n",
      "------------------------------------------------------------\n",
      "33         5.870000        1.427831        total sum                     \n",
      "33         2.000000        1.414214        excluding marked processes    \n",
      "33         2.000000        1.414214        Unweighted events, alpha=2.935000\n",
      "  => Total parameter prop_binacc_bin33[0.00,-7.00,7.00] to be gaussian constrained\n",
      "------------------------------------------------------------\n",
      "34         4.560000        1.017644        total sum                     \n",
      "34         1.000000        1.000000        excluding marked processes    \n",
      "34         1.000000        1.000000        Unweighted events, alpha=4.560000\n",
      "  => Total parameter prop_binacc_bin34[0.00,-7.00,7.00] to be gaussian constrained\n",
      "------------------------------------------------------------\n",
      "35         3.220000        1.011039        total sum                     \n",
      "35         1.000000        1.000000        excluding marked processes    \n",
      "35         1.000000        1.000000        Unweighted events, alpha=3.220000\n",
      "  => Total parameter prop_binacc_bin35[0.00,-7.00,7.00] to be gaussian constrained\n",
      "------------------------------------------------------------\n",
      "36         7.260000        2.452060        total sum                     \n",
      "36         6.000000        2.449490        excluding marked processes    \n",
      "36         6.000000        2.449490        Unweighted events, alpha=1.210000\n",
      "  => Total parameter prop_binacc_bin36[0.00,-7.00,7.00] to be gaussian constrained\n",
      "------------------------------------------------------------\n",
      "37         2.790000        1.417004        total sum                     \n",
      "37         2.000000        1.414214        excluding marked processes    \n",
      "37         2.000000        1.414214        Unweighted events, alpha=1.395000\n",
      "  => Total parameter prop_binacc_bin37[0.00,-7.00,7.00] to be gaussian constrained\n",
      "------------------------------------------------------------\n",
      "38         3.430000        1.733292        total sum                     \n",
      "38         3.000000        1.732051        excluding marked processes    \n",
      "38         3.000000        1.732051        Unweighted events, alpha=1.143333\n",
      "  => Total parameter prop_binacc_bin38[0.00,-7.00,7.00] to be gaussian constrained\n",
      "------------------------------------------------------------\n",
      "39         0.350000        0.059161        total sum                     \n",
      "39         0.000000        0.000000        excluding marked processes    \n",
      "  => Error is zero, ignore      \n",
      "------------------------------------------------------------\n",
      "40         0.330000        0.057446        total sum                     \n",
      "40         0.000000        0.000000        excluding marked processes    \n",
      "  => Error is zero, ignore      \n",
      "------------------------------------------------------------\n",
      "41         1.190000        1.000950        total sum                     \n",
      "41         1.000000        1.000000        excluding marked processes    \n",
      "41         1.000000        1.000000        Unweighted events, alpha=1.190000\n",
      "  => Total parameter prop_binacc_bin41[0.00,-7.00,7.00] to be gaussian constrained\n",
      "------------------------------------------------------------\n",
      "42         0.190000        0.043589        total sum                     \n",
      "42         0.000000        0.000000        excluding marked processes    \n",
      "  => Error is zero, ignore      \n",
      "------------------------------------------------------------\n",
      "43         1.190000        1.000950        total sum                     \n",
      "43         1.000000        1.000000        excluding marked processes    \n",
      "43         1.000000        1.000000        Unweighted events, alpha=1.190000\n",
      "  => Total parameter prop_binacc_bin43[0.00,-7.00,7.00] to be gaussian constrained\n",
      "------------------------------------------------------------\n",
      "44         1.080000        1.000400        total sum                     \n",
      "44         1.000000        1.000000        excluding marked processes    \n",
      "44         1.000000        1.000000        Unweighted events, alpha=1.080000\n",
      "  => Total parameter prop_binacc_bin44[0.00,-7.00,7.00] to be gaussian constrained\n",
      "------------------------------------------------------------\n",
      "45         0.130000        0.036056        total sum                     \n",
      "45         0.000000        0.000000        excluding marked processes    \n",
      "  => Error is zero, ignore      \n",
      "------------------------------------------------------------\n",
      "46         1.100000        1.000500        total sum                     \n",
      "46         1.000000        1.000000        excluding marked processes    \n",
      "46         1.000000        1.000000        Unweighted events, alpha=1.100000\n",
      "  => Total parameter prop_binacc_bin46[0.00,-7.00,7.00] to be gaussian constrained\n",
      "------------------------------------------------------------\n",
      "47         2.100000        1.414567        total sum                     \n",
      "47         2.000000        1.414214        excluding marked processes    \n",
      "47         2.000000        1.414214        Unweighted events, alpha=1.050000\n",
      "  => Total parameter prop_binacc_bin47[0.00,-7.00,7.00] to be gaussian constrained\n",
      "------------------------------------------------------------\n",
      "48         1.070000        1.000350        total sum                     \n",
      "48         1.000000        1.000000        excluding marked processes    \n",
      "48         1.000000        1.000000        Unweighted events, alpha=1.070000\n",
      "  => Total parameter prop_binacc_bin48[0.00,-7.00,7.00] to be gaussian constrained\n",
      "------------------------------------------------------------\n",
      "49         1.060000        1.000300        total sum                     \n",
      "49         1.000000        1.000000        excluding marked processes    \n",
      "49         1.000000        1.000000        Unweighted events, alpha=1.060000\n",
      "  => Total parameter prop_binacc_bin49[0.00,-7.00,7.00] to be gaussian constrained\n",
      "------------------------------------------------------------\n"
     ]
    },
    {
     "name": "stdout",
     "output_type": "stream",
     "text": [
      "\r\n",
      " -- AsymptoticLimits ( CLs ) --\r\n",
      "Observed Limit: r < 0.2899\r\n",
      "Expected  2.5%: r < 0.1428\r\n",
      "Expected 16.0%: r < 0.1991\r\n",
      "Expected 50.0%: r < 0.2900\r\n",
      "Expected 84.0%: r < 0.4230\r\n",
      "Expected 97.5%: r < 0.5897\r\n",
      "\r\n",
      "Done in 0.02 min (cpu), 0.02 min (real)\r\n"
     ]
    }
   ],
   "source": [
    "# using \"accept\" signal region\n",
    "!combine -M AsymptoticLimits -d datacard_acc.txt -t -1"
   ]
  },
  {
   "cell_type": "code",
   "execution_count": null,
   "metadata": {},
   "outputs": [],
   "source": []
  }
 ],
 "metadata": {
  "kernelspec": {
   "display_name": "Python 2",
   "language": "python",
   "name": "python2"
  },
  "language_info": {
   "codemirror_mode": {
    "name": "ipython",
    "version": 2
   },
   "file_extension": ".py",
   "mimetype": "text/x-python",
   "name": "python",
   "nbconvert_exporter": "python",
   "pygments_lexer": "ipython2",
   "version": "2.7.14+"
  }
 },
 "nbformat": 4,
 "nbformat_minor": 2
}
