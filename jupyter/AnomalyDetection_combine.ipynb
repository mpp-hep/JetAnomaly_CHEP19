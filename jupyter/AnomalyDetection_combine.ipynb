{
 "cells": [
  {
   "cell_type": "code",
   "execution_count": 1,
   "metadata": {
    "ExecuteTime": {
     "end_time": "2019-07-29T09:06:51.424044Z",
     "start_time": "2019-07-29T09:06:46.355439Z"
    }
   },
   "outputs": [
    {
     "name": "stdout",
     "output_type": "stream",
     "text": [
      "Requirement already satisfied: scikit-learn==0.20 in /uscms/homes/j/jduarte1/.local/lib/python2.7/site-packages\n",
      "Requirement already satisfied: scipy>=0.13.3 in /cvmfs/cms.cern.ch/slc7_amd64_gcc700/external/py2-scipy/1.1.0/lib/python2.7/site-packages (from scikit-learn==0.20)\n",
      "Requirement already satisfied: numpy>=1.8.2 in /uscms/homes/j/jduarte1/.local/lib/python2.7/site-packages (from scikit-learn==0.20)\n",
      "\u001b[33mYou are using pip version 9.0.3, however version 19.2.1 is available.\n",
      "You should consider upgrading via the 'pip install --upgrade pip' command.\u001b[0m\n",
      "Requirement already satisfied: numpy==1.15 in /uscms/homes/j/jduarte1/.local/lib/python2.7/site-packages\n",
      "\u001b[33mYou are using pip version 9.0.3, however version 19.2.1 is available.\n",
      "You should consider upgrading via the 'pip install --upgrade pip' command.\u001b[0m\n"
     ]
    },
    {
     "name": "stderr",
     "output_type": "stream",
     "text": [
      "/uscms/home/jduarte1/.local/lib/python2.7/site-packages/sklearn/utils/__init__.py:12: RuntimeWarning: numpy.dtype size changed, may indicate binary incompatibility. Expected 96, got 88\n",
      "  from .murmurhash import murmurhash3_32\n",
      "/uscms/home/jduarte1/.local/lib/python2.7/site-packages/sklearn/utils/extmath.py:23: RuntimeWarning: numpy.dtype size changed, may indicate binary incompatibility. Expected 96, got 88\n",
      "  from ._logistic_sigmoid import _log_logistic_sigmoid\n",
      "/uscms/home/jduarte1/.local/lib/python2.7/site-packages/sklearn/utils/extmath.py:25: RuntimeWarning: numpy.dtype size changed, may indicate binary incompatibility. Expected 96, got 88\n",
      "  from .sparsefuncs_fast import csr_row_norms\n",
      "/uscms/home/jduarte1/.local/lib/python2.7/site-packages/sklearn/metrics/cluster/supervised.py:25: RuntimeWarning: numpy.dtype size changed, may indicate binary incompatibility. Expected 96, got 88\n",
      "  from .expected_mutual_info_fast import expected_mutual_information\n",
      "/uscms/home/jduarte1/.local/lib/python2.7/site-packages/sklearn/metrics/pairwise.py:31: RuntimeWarning: numpy.dtype size changed, may indicate binary incompatibility. Expected 96, got 88\n",
      "  from .pairwise_fast import _chi2_kernel_fast, _sparse_manhattan\n",
      "/uscms/home/jduarte1/.local/lib/python2.7/site-packages/sklearn/tree/tree.py:40: RuntimeWarning: numpy.dtype size changed, may indicate binary incompatibility. Expected 96, got 88\n",
      "  from ._criterion import Criterion\n",
      "/uscms/home/jduarte1/.local/lib/python2.7/site-packages/sklearn/neighbors/__init__.py:6: RuntimeWarning: numpy.dtype size changed, may indicate binary incompatibility. Expected 96, got 88\n",
      "  from .ball_tree import BallTree\n",
      "/uscms/home/jduarte1/.local/lib/python2.7/site-packages/sklearn/neighbors/__init__.py:7: RuntimeWarning: numpy.dtype size changed, may indicate binary incompatibility. Expected 96, got 88\n",
      "  from .kd_tree import KDTree\n",
      "/uscms/home/jduarte1/.local/lib/python2.7/site-packages/sklearn/utils/random.py:10: RuntimeWarning: numpy.dtype size changed, may indicate binary incompatibility. Expected 96, got 88\n",
      "  from ._random import sample_without_replacement\n",
      "/uscms/home/jduarte1/.local/lib/python2.7/site-packages/sklearn/ensemble/gradient_boosting.py:34: RuntimeWarning: numpy.dtype size changed, may indicate binary incompatibility. Expected 96, got 88\n",
      "  from ._gradient_boosting import predict_stages\n"
     ]
    },
    {
     "name": "stdout",
     "output_type": "stream",
     "text": [
      "Welcome to JupyROOT 6.12/07\n"
     ]
    },
    {
     "name": "stderr",
     "output_type": "stream",
     "text": [
      "/cvmfs/cms.cern.ch/slc7_amd64_gcc700/external/py2-root_numpy/4.7.3-gnimlf6/lib/python2.7/site-packages/root_numpy/__init__.py:46: RuntimeWarning: numpy 1.15.0 is currently installed but you installed root_numpy against numpy 1.14.1. Please consider reinstalling root_numpy for this numpy version.\n",
      "  RuntimeWarning)\n"
     ]
    }
   ],
   "source": [
    "from __future__ import print_function\n",
    "\n",
    "import h5py, os, sys, glob\n",
    "sys.path.append('../lib')\n",
    "\n",
    "# to get newer sklearn for updated GradientBoostingRegressor options\n",
    "# to get newer numpy for numpy.quantile\n",
    "!pip install scikit-learn==0.20 --user\n",
    "!pip install numpy==1.15 --user\n",
    "sys.path.insert(0,'$HOME/.local/lib/python2.7/site-packages/')\n",
    "\n",
    "import numpy as np\n",
    "\n",
    "from glob import glob\n",
    "\n",
    "import matplotlib.pyplot as plt\n",
    "import matplotlib\n",
    "matplotlib.rcParams.update({'font.size': 16})\n",
    "from matplotlib.colors import LogNorm\n",
    "\n",
    "from sklearn.ensemble import GradientBoostingRegressor, GradientBoostingClassifier\n",
    "from prettytable import PrettyTable\n",
    "\n",
    "import ROOT as rt\n",
    "\n",
    "from histo_utilities import create_TH2D, create_TH1D, create_Canvas, make_effiency_plot, rootTH1_to_np\n",
    "\n",
    "from cebefo_style import cebefo_style\n",
    "cebefo_style()\n",
    "\n",
    "dnd = []"
   ]
  },
  {
   "cell_type": "code",
   "execution_count": 2,
   "metadata": {
    "ExecuteTime": {
     "end_time": "2019-07-29T09:06:51.446614Z",
     "start_time": "2019-07-29T09:06:51.430389Z"
    }
   },
   "outputs": [],
   "source": [
    "Mjj_selection = 700.\n",
    "\n",
    "vae_loss = 'mae'\n",
    "\n",
    "SM_eff = 1e-2\n",
    "\n",
    "def computeDiscriminatingVar(x):\n",
    "    out = x[:,-2]/x[:,1]+x[:,-1]/x[:,6]\n",
    "    out *= 1e5\n",
    "    return out"
   ]
  },
  {
   "cell_type": "markdown",
   "metadata": {},
   "source": [
    "# Get the discrimination on the side-band"
   ]
  },
  {
   "cell_type": "code",
   "execution_count": 3,
   "metadata": {
    "ExecuteTime": {
     "end_time": "2019-07-29T09:06:52.321489Z",
     "start_time": "2019-07-29T09:06:51.453150Z"
    }
   },
   "outputs": [
    {
     "name": "stdout",
     "output_type": "stream",
     "text": [
      "['mJJ', 'j1Pt', 'j1Eta', 'j1Phi', 'j1M', 'j1E', 'j2Pt', 'j2M', 'j2E', 'DeltaEtaJJ', 'DeltaPhiJJ', 'j1Loss', 'j2Loss']\n",
      "(209109, 13)\n"
     ]
    },
    {
     "data": {
      "image/png": "[encoded data removed]",
      "text/plain": [
       "<IPython.core.display.Image object>"
      ]
     },
     "metadata": {},
     "output_type": "display_data"
    }
   ],
   "source": [
    "f = h5py.File('../data/vae_'+vae_loss+'/qcd_dEta_sideband_results.h5', 'r')\n",
    "print(list(f.get(\"labels\")))\n",
    "\n",
    "data_side = np.array(f.get(\"results\"))\n",
    "\n",
    "# apply the dijet mass cut\n",
    "data_side = data_side[data_side[:,0] > Mjj_selection]\n",
    "print(data_side.shape)\n",
    "\n",
    "c = create_Canvas(size=(int(800/1.5),int(600/1.5)))\n",
    "h_Mjj_side = create_TH1D(data_side[:,0], title='', axis_title = ['M_{jj} [GeV]','Events'], \n",
    "                opt='overflow', \n",
    "                binning=[100, Mjj_selection, np.max(data_side[:,0])])\n",
    "\n",
    "h_Mjj_side.Draw()\n",
    "c.SetLogy()\n",
    "c.Draw()"
   ]
  },
  {
   "cell_type": "markdown",
   "metadata": {
    "ExecuteTime": {
     "end_time": "2019-07-25T14:02:14.795675Z",
     "start_time": "2019-07-25T14:02:14.664450Z"
    }
   },
   "source": [
    "### Train the model to predict the cut"
   ]
  },
  {
   "cell_type": "code",
   "execution_count": 4,
   "metadata": {
    "ExecuteTime": {
     "end_time": "2019-07-29T09:06:52.342876Z",
     "start_time": "2019-07-29T09:06:52.326604Z"
    }
   },
   "outputs": [
    {
     "name": "stdout",
     "output_type": "stream",
     "text": [
      "103.62135082607014\n"
     ]
    }
   ],
   "source": [
    "x = np.reshape(data_side[:,0], (-1,1))\n",
    "y = computeDiscriminatingVar(data_side)\n",
    "print(np.mean(y))"
   ]
  },
  {
   "cell_type": "code",
   "execution_count": 5,
   "metadata": {
    "ExecuteTime": {
     "end_time": "2019-07-29T09:06:53.329643Z",
     "start_time": "2019-07-29T09:06:52.349217Z"
    }
   },
   "outputs": [
    {
     "name": "stdout",
     "output_type": "stream",
     "text": [
      "      Iter       Train Loss   Remaining Time \n",
      "         1           0.3818           18.66s\n",
      "         2           0.3811           19.05s\n",
      "         3           0.3806           18.97s\n",
      "         4           0.3802           18.85s\n",
      "         5           0.3798           18.75s\n",
      "         6           0.3795           18.67s\n",
      "         7           0.3792           18.59s\n",
      "         8           0.3790           18.57s\n",
      "         9           0.3788           18.55s\n",
      "        10           0.3786           18.53s\n",
      "        20           0.3774           15.99s\n",
      "        30           0.3770           13.42s\n"
     ]
    },
    {
     "data": {
      "text/plain": [
       "GradientBoostingRegressor(alpha=0.99, criterion='friedman_mse', init=None,\n",
       "             learning_rate=0.1, loss='quantile', max_depth=3,\n",
       "             max_features=None, max_leaf_nodes=None,\n",
       "             min_impurity_decrease=0.0, min_impurity_split=None,\n",
       "             min_samples_leaf=5, min_samples_split=5,\n",
       "             min_weight_fraction_leaf=0.0, n_estimators=250,\n",
       "             n_iter_no_change=10, presort='auto', random_state=None,\n",
       "             subsample=1.0, tol=1e-05, validation_fraction=0.5, verbose=1,\n",
       "             warm_start=False)"
      ]
     },
     "execution_count": 5,
     "metadata": {},
     "output_type": "execute_result"
    }
   ],
   "source": [
    "gbr_cut = GradientBoostingRegressor(loss='quantile', alpha=1-SM_eff,\n",
    "                                n_estimators=250, max_depth=3,\n",
    "                                learning_rate=.1, min_samples_leaf=5,\n",
    "                                min_samples_split=5,\n",
    "                                validation_fraction=0.5,\n",
    "                                n_iter_no_change=10,\n",
    "                                tol=1e-5,\n",
    "                                verbose=1)\n",
    "\n",
    "\n",
    "gbr_cut.fit(x, y)"
   ]
  },
  {
   "cell_type": "code",
   "execution_count": 6,
   "metadata": {
    "ExecuteTime": {
     "end_time": "2019-07-29T09:06:54.213625Z",
     "start_time": "2019-07-29T09:06:53.333628Z"
    }
   },
   "outputs": [
    {
     "data": {
      "image/png": "[encoded data removed]",
      "text/plain": [
       "<matplotlib.figure.Figure at 0x7f31f40c1b90>"
      ]
     },
     "metadata": {},
     "output_type": "display_data"
    }
   ],
   "source": [
    "plt.figure(figsize=(8, 6))\n",
    "x_min = Mjj_selection*0.8\n",
    "x_max = np.quantile(x, 0.999)\n",
    "plt.hist2d(x[:,0], y,\n",
    "           range=((x_min , x_max), (np.min(y), np.quantile(y, 1-1e-4))), \n",
    "           norm=LogNorm(), bins=100,\n",
    "           label='Side band data'\n",
    "          )\n",
    "\n",
    "xs = np.arange(Mjj_selection, x_max, 0.001*(x_max-x_min))\n",
    "plt.plot(xs, gbr_cut.predict(np.reshape(xs, (-1,1))), '-', color='m', lw=3, label='GBR selection')\n",
    "\n",
    "plt.ylabel('$L_1/P^1_T + L_2/P^2_T$ [GeV^-1]')\n",
    "plt.xlabel('$M_{jj}$ [GeV]')\n",
    "plt.colorbar()\n",
    "plt.legend(loc='best')\n",
    "plt.draw()"
   ]
  },
  {
   "cell_type": "code",
   "execution_count": 7,
   "metadata": {
    "ExecuteTime": {
     "end_time": "2019-07-29T09:06:54.234242Z",
     "start_time": "2019-07-29T09:06:54.219163Z"
    }
   },
   "outputs": [],
   "source": [
    "def getSelection(x_Mjj, x_loss):\n",
    "    cut = gbr_cut.predict(np.reshape(x_Mjj, (-1,1)))\n",
    "    return x_loss > cut"
   ]
  },
  {
   "cell_type": "code",
   "execution_count": 8,
   "metadata": {
    "ExecuteTime": {
     "end_time": "2019-07-29T09:06:57.980547Z",
     "start_time": "2019-07-29T09:06:57.727758Z"
    }
   },
   "outputs": [
    {
     "data": {
      "image/png": "[encoded data removed]",
      "text/plain": [
       "<IPython.core.display.Image object>"
      ]
     },
     "metadata": {},
     "output_type": "display_data"
    }
   ],
   "source": [
    "x = x.flatten()\n",
    "binning=[50, Mjj_selection, np.quantile(x, 0.999)]\n",
    "\n",
    "sel = getSelection(x, y)\n",
    "h_a = create_TH1D(x[sel], \n",
    "                  name='h_acc', title='Accepted',\n",
    "                  binning=binning,\n",
    "                  opt='overflow'\n",
    "                 )\n",
    "h_a.SetLineColor(2)\n",
    "h_a.SetStats(0)\n",
    "h_a.Sumw2()\n",
    "h_r = create_TH1D(x[np.logical_not(sel)], \n",
    "                  name='h_rej', title='Rejected',\n",
    "                  axis_title=['M_{jj} [GeV]', 'Events'],\n",
    "                  binning=binning,\n",
    "                  opt='overflow'\n",
    "                 )\n",
    "h_r.GetYaxis().SetRangeUser(0.5, 1.2*h_r.GetMaximum())\n",
    "h_r.SetStats(0)\n",
    "h_r.Sumw2()\n",
    "\n",
    "c = make_effiency_plot([h_r, h_a], ratio_bounds=[1e-4, 0.2], draw_opt = 'E')\n",
    "c.pad1.SetLogy()\n",
    "c.pad2.SetLogy()\n",
    "\n",
    "c.pad2.cd()\n",
    "ln = rt.TLine(h_r.GetXaxis().GetXmin(), SM_eff, h_r.GetXaxis().GetXmax(), SM_eff)\n",
    "ln.SetLineWidth(2)\n",
    "ln.SetLineStyle(7)\n",
    "ln.SetLineColor(8)\n",
    "ln.DrawLine(h_r.GetXaxis().GetXmin(), SM_eff, h_r.GetXaxis().GetXmax(), SM_eff)\n",
    "\n",
    "c.Draw()"
   ]
  },
  {
   "cell_type": "code",
   "execution_count": 9,
   "metadata": {
    "ExecuteTime": {
     "end_time": "2019-07-29T09:31:27.430030Z",
     "start_time": "2019-07-29T09:31:27.400435Z"
    }
   },
   "outputs": [],
   "source": [
    "import scipy as sp\n",
    "def HypotesisTets(h_a, h_r, eff, N_asymov = 100000, show_hist = False):\n",
    "    aux, _ = rootTH1_to_np(h_r)\n",
    "    nu = eff*aux/(1-eff)\n",
    "    \n",
    "    o_asymov = np.random.poisson(nu, (N_asymov, nu.shape[0]))\n",
    "    \n",
    "    probs = sp.stats.poisson.pmf(o_asymov, nu)\n",
    "    nll = -np.log(probs)\n",
    "    s_asymov = np.sum(nll, axis=-1)\n",
    "    \n",
    "    aux, _ = rootTH1_to_np(h_a)\n",
    "    probs_obs = sp.stats.poisson.pmf(aux.astype(np.int), nu)\n",
    "    s_obs = np.sum(-np.log(probs_obs), axis=-1)\n",
    "    \n",
    "    p_val = np.sum(s_asymov > s_obs)/float(N_asymov)\n",
    "    \n",
    "    \n",
    "    if show_hist:\n",
    "        plt.hist(s_asymov)\n",
    "\n",
    "    return p_val"
   ]
  },
  {
   "cell_type": "code",
   "execution_count": 10,
   "metadata": {
    "ExecuteTime": {
     "end_time": "2019-07-29T09:31:29.017206Z",
     "start_time": "2019-07-29T09:31:28.114709Z"
    }
   },
   "outputs": [
    {
     "data": {
      "text/plain": [
       "0.45698"
      ]
     },
     "execution_count": 10,
     "metadata": {},
     "output_type": "execute_result"
    }
   ],
   "source": [
    "HypotesisTets(h_a, h_r, SM_eff)"
   ]
  },
  {
   "cell_type": "markdown",
   "metadata": {},
   "source": [
    "# Prepare combine inputs in signal region"
   ]
  },
  {
   "cell_type": "markdown",
   "metadata": {},
   "source": [
    "### Get the data"
   ]
  },
  {
   "cell_type": "code",
   "execution_count": 11,
   "metadata": {
    "ExecuteTime": {
     "end_time": "2019-07-29T09:25:22.036651Z",
     "start_time": "2019-07-29T09:25:22.019295Z"
    }
   },
   "outputs": [],
   "source": [
    "sample_loc = {'qcd':'qcd_dEta_signalregion_results.h5',\n",
    "              'AtoZZZ':'AtoHZ_to_ZZZ_13TeV_PU40_results.h5',\n",
    "              'GtoWW':'RSGraviton_WW_NARROW_13TeV_PU40_results.h5',\n",
    "              'GtoBtt':'RSGraviton_tt_BROAD_13TeV_PU40_results.h5',\n",
    "              'GtoNtt':'RSGraviton_tt_NARROW_13TeV_PU40_results.h5'\n",
    "             }\n",
    "\n",
    "sample_label = {'qcd':'QCD',\n",
    "                'AtoZZZ':'$A\\toZZZ$',\n",
    "                'GtoWW':'$G\\toWW$',\n",
    "                'GtoBtt':'$G_{B}\\tot\\bar{t}$',\n",
    "                'GtoNtt':'$G_{N}\\tot\\bar{t}$'\n",
    "               }\n",
    "\n",
    "BSM_samples = ['AtoZZZ', 'GtoWW', 'GtoBtt', 'GtoNtt']"
   ]
  },
  {
   "cell_type": "code",
   "execution_count": null,
   "metadata": {
    "ExecuteTime": {
     "end_time": "2019-07-29T09:25:26.046375Z",
     "start_time": "2019-07-29T09:25:22.672410Z"
    }
   },
   "outputs": [],
   "source": [
    "data = {}\n",
    "table = PrettyTable()\n",
    "table.field_names = ['Sample', 'Tot. evts', 'Sel. evts', 'Eff VAE[%]']\n",
    "\n",
    "for n, fname in sample_loc.iteritems():\n",
    "    f = h5py.File('../data/vae_'+vae_loss+'/'+fname, 'r')\n",
    "    x = np.array(f.get(\"results\"))\n",
    "\n",
    "    # apply the dijet mass cut\n",
    "    sel_Mjj = x[:,0] > Mjj_selection\n",
    "    x = x[sel_Mjj]\n",
    "    dVar = computeDiscriminatingVar(x)\n",
    "    sel = getSelection(x[:,0], dVar)\n",
    "    x = np.column_stack((x, dVar, sel))\n",
    "    \n",
    "    dt = [(str(s), '<f4') for s in list(f.get(\"labels\")) + ['dVar']]\n",
    "    dt += [('sel', '?')]\n",
    "    data[n] = np.array(list(zip(*x.T)), dtype=dt)\n",
    "    \n",
    "    eff = '{:.3f}'.format(100*np.sum(data[n]['sel'])/float(data[n]['sel'].shape[0]))\n",
    "    table.add_row([n, data[n]['sel'].shape[0], np.sum(data[n]['sel']), eff])\n",
    "    \n",
    "print(table)"
   ]
  },
  {
   "cell_type": "markdown",
   "metadata": {},
   "source": [
    "### See the distributions and dump (scaled) histograms into ROOT file"
   ]
  },
  {
   "cell_type": "code",
   "execution_count": null,
   "metadata": {
    "ExecuteTime": {
     "end_time": "2019-07-29T09:25:40.458878Z",
     "start_time": "2019-07-29T09:25:40.366006Z"
    }
   },
   "outputs": [],
   "source": [
    "binning=[50, Mjj_selection, np.quantile(data['qcd']['mJJ'], 0.999)]\n",
    "\n",
    "# scale factor to scale signal\n",
    "scale = 0.01\n",
    "\n",
    "datacard_hist = rt.TFile.Open('datacard_hist.root','recreate')\n",
    "\n",
    "h_t = create_TH1D(data['qcd']['mJJ'], \n",
    "                  name='h_tot', title='Total',\n",
    "                  binning=binning,\n",
    "                  opt=''\n",
    "                 )\n",
    "h_t.SetLineColor(rt.kGreen)\n",
    "h_t.SetStats(0)\n",
    "h_t.Sumw2()\n",
    "\n",
    "\n",
    "h_a = create_TH1D(data['qcd']['mJJ'][data['qcd']['sel']], \n",
    "                  name='h_acc', title='Accepted',\n",
    "                  binning=binning,\n",
    "                  opt=''\n",
    "                 )\n",
    "h_a.SetLineColor(rt.kGreen)\n",
    "h_a.SetStats(0)\n",
    "h_a.Sumw2()\n",
    "h_r = create_TH1D(data['qcd']['mJJ'][np.logical_not(data['qcd']['sel'])], \n",
    "                  name='h_rej', title='Rejected',\n",
    "                  axis_title=['M_{jj} [GeV]', 'Events'],\n",
    "                  binning=binning,\n",
    "                  opt=''\n",
    "                 )\n",
    "h_r.SetLineColor(rt.kGreen)\n",
    "h_r.GetYaxis().SetRangeUser(0.5, 1.2*h_r.GetMaximum())\n",
    "h_r.SetStats(0)\n",
    "h_r.Sumw2()\n",
    "\n",
    "datacard_hist.cd()\n",
    "h_t.Write('qcd_tot')\n",
    "h_a.Write('qcd_acc')\n",
    "h_r.Write('qcd_rej')\n",
    "\n",
    "h_t.Write('data_obs_tot')\n",
    "h_a.Write('data_obs_acc')\n",
    "h_r.Write('data_obs_rej')\n",
    "h_t.SetDirectory(0)\n",
    "h_a.SetDirectory(0)\n",
    "h_r.SetDirectory(0)\n",
    "\n",
    "for name_BSM in ['GtoWW']:\n",
    "    print('\\n'+name_BSM)\n",
    "    \n",
    "    \n",
    "    h_t_BSM = create_TH1D(data[name_BSM]['mJJ'][data[name_BSM]['sel']], \n",
    "                  name='h_t'+name_BSM,\n",
    "                  binning=h_t.binning,\n",
    "                  opt=''\n",
    "                 )\n",
    "    h_t_BSM.SetLineColor(rt.kBlue)\n",
    "    h_t_BSM.Sumw2()\n",
    "    h_t_BSM.Scale(scale)\n",
    "    \n",
    "    h_a_BSM = create_TH1D(data[name_BSM]['mJJ'][data[name_BSM]['sel']], \n",
    "                  name='h_a'+name_BSM,\n",
    "                  binning=h_a.binning,\n",
    "                  opt=''\n",
    "                 )\n",
    "    h_a_BSM.SetLineColor(rt.kBlue)\n",
    "    h_a_BSM.Sumw2()\n",
    "    h_a_BSM.Scale(scale)\n",
    "    \n",
    "    h_r_BSM = create_TH1D(data[name_BSM]['mJJ'][np.logical_not(data[name_BSM]['sel'])], \n",
    "                  name='h_r'+name_BSM,\n",
    "                  binning=h_r.binning,\n",
    "                  opt=''\n",
    "                 )\n",
    "    h_r_BSM.SetLineColor(rt.kBlue)\n",
    "    h_r_BSM.Sumw2()\n",
    "    h_r_BSM.Scale(scale)\n",
    "\n",
    "    \n",
    "    c_t = rt.TCanvas('c_t','c_t',500,400)\n",
    "    h_t.Draw()\n",
    "    h_t.SetMinimum(1)\n",
    "    h_t_BSM.Draw('same')\n",
    "    c_t.SetLogy()\n",
    "    c_t.Draw()\n",
    "    \n",
    "    c_a = rt.TCanvas('c_a','c_a',500,400)\n",
    "    h_a.Draw()\n",
    "    h_a_BSM.Draw('same')\n",
    "    c_a.SetLogy()\n",
    "    c_a.Draw()\n",
    "    \n",
    "    c_r = rt.TCanvas('c_r','c_r',500,400)\n",
    "    h_r.Draw()\n",
    "    h_r_BSM.Draw('same')\n",
    "    c_r.SetLogy()\n",
    "    c_r.Draw()\n",
    "    \n",
    "    datacard_hist.cd()\n",
    "    h_t_BSM.Write(name_BSM+'_tot')\n",
    "    h_a_BSM.Write(name_BSM+'_acc')\n",
    "    h_r_BSM.Write(name_BSM+'_rej')\n",
    "    h_t_BSM.SetDirectory(0)\n",
    "    h_a_BSM.SetDirectory(0)\n",
    "    h_r_BSM.SetDirectory(0)\n",
    "datacard_hist.Close()"
   ]
  },
  {
   "cell_type": "markdown",
   "metadata": {},
   "source": [
    "## Define datacard based on histogram template fit"
   ]
  },
  {
   "cell_type": "code",
   "execution_count": null,
   "metadata": {},
   "outputs": [],
   "source": [
    "datacard = \\\n",
    "'''\n",
    "imax 1\n",
    "jmax 1\n",
    "kmax *\n",
    "---------------\n",
    "shapes * * datacard_hist.root $PROCESS_$CHANNEL $PROCESS_$CHANNEL_$SYSTEMATIC\n",
    "---------------\n",
    "bin {BIN}\n",
    "observation {OBS}\n",
    "------------------------------\n",
    "bin             {BIN}      {BIN}\n",
    "process         {BSM}     qcd\n",
    "process         0          1\n",
    "rate            {BSMRATE}    {QCDRATE}\n",
    "--------------------------------\n",
    "lumi     lnN    1.10       1.10\n",
    "bgnorm   lnN    1.00       1.30\n",
    "* autoMCStats 0 0 1\n",
    "'''"
   ]
  },
  {
   "cell_type": "code",
   "execution_count": null,
   "metadata": {},
   "outputs": [],
   "source": [
    "datacard_tot = datacard.format(BIN='tot',\n",
    "                          OBS=h_t.Integral(),\n",
    "                          QCDRATE=h_t.Integral(),\n",
    "                          BSM=name_BSM,\n",
    "                          BSMRATE=h_t_BSM.Integral())\n",
    "print(datacard_tot)\n",
    "with open('datacard_tot.txt','w') as f:\n",
    "    f.write(datacard_tot)\n",
    "\n",
    "datacard_acc = datacard.format(BIN='acc',\n",
    "                          OBS=h_a.Integral(),\n",
    "                          QCDRATE=h_a.Integral(),\n",
    "                          BSM=name_BSM,\n",
    "                          BSMRATE=h_a_BSM.Integral())\n",
    "print(datacard_acc)\n",
    "with open('datacard_acc.txt','w') as f:\n",
    "    f.write(datacard_acc)"
   ]
  },
  {
   "cell_type": "markdown",
   "metadata": {},
   "source": [
    "# Run combine"
   ]
  },
  {
   "cell_type": "code",
   "execution_count": null,
   "metadata": {},
   "outputs": [],
   "source": [
    "# using \"total\" region\n",
    "!combine -M AsymptoticLimits -d datacard_tot.txt -t -1"
   ]
  },
  {
   "cell_type": "code",
   "execution_count": null,
   "metadata": {},
   "outputs": [],
   "source": [
    "# using \"accept\" signal region\n",
    "!combine -M AsymptoticLimits -d datacard_acc.txt -t -1"
   ]
  },
  {
   "cell_type": "code",
   "execution_count": null,
   "metadata": {},
   "outputs": [],
   "source": []
  }
 ],
 "metadata": {
  "kernelspec": {
   "display_name": "Python 2",
   "language": "python",
   "name": "python2"
  },
  "language_info": {
   "codemirror_mode": {
    "name": "ipython",
    "version": 2
   },
   "file_extension": ".py",
   "mimetype": "text/x-python",
   "name": "python",
   "nbconvert_exporter": "python",
   "pygments_lexer": "ipython2",
   "version": "2.7.14+"
  }
 },
 "nbformat": 4,
 "nbformat_minor": 2
}
