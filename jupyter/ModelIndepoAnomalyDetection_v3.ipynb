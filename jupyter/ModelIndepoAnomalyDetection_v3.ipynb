{
 "cells": [
  {
   "cell_type": "markdown",
   "metadata": {},
   "source": [
    "To be run in CMSSW_10_2_3 with adding:\n",
    "pip install --user joblib scikit-learn==0.20.4"
   ]
  },
  {
   "cell_type": "markdown",
   "metadata": {},
   "source": [
    "Like v2 but with BTD trained in signal region"
   ]
  },
  {
   "cell_type": "code",
   "execution_count": 30,
   "metadata": {
    "ExecuteTime": {
     "end_time": "2019-09-11T02:20:31.516668Z",
     "start_time": "2019-09-11T02:20:31.501972Z"
    }
   },
   "outputs": [],
   "source": [
    "Mjj_selection = 1000.\n",
    "\n",
    "SM_eff = 1e-2\n",
    "\n",
    "def computeDiscriminatingVar(x):\n",
    "    out = x[:,-3]/x[:,1]+x[:,-2]/x[:,6]\n",
    "    out *= 1e9\n",
    "    return out\n",
    "\n",
    "def computeDiscriminatingVar_str(l1, pt1, l2, pt2):\n",
    "    out = 1e9*(l1/pt1+l2/pt2)\n",
    "    return out\n",
    "\n",
    "# def computeDiscriminatingVar(x):\n",
    "#     out = 100*(x[:,-3]+x[:,-2])\n",
    "#     return out*1e4\n",
    "\n",
    "# def computeDiscriminatingVar_str(l1, l2):\n",
    "#     out = 100*(l1+l2)\n",
    "#     return out*1e4"
   ]
  },
  {
   "cell_type": "markdown",
   "metadata": {},
   "source": [
    "# Imports"
   ]
  },
  {
   "cell_type": "code",
   "execution_count": 2,
   "metadata": {
    "ExecuteTime": {
     "end_time": "2019-09-11T02:20:35.440069Z",
     "start_time": "2019-09-11T02:20:32.171242Z"
    }
   },
   "outputs": [
    {
     "name": "stdout",
     "output_type": "stream",
     "text": [
      "Welcome to JupyROOT 6.12/07\n"
     ]
    }
   ],
   "source": [
    "from __future__ import print_function\n",
    "\n",
    "import h5py, os, sys, glob, datetime, time\n",
    "sys.path.append('../lib')\n",
    "from glob import glob\n",
    "import numpy as np\n",
    "import scipy as sp\n",
    "from scipy.special import erf\n",
    "\n",
    "import matplotlib.pyplot as plt\n",
    "import matplotlib\n",
    "matplotlib.rcParams.update({'font.size': 18})\n",
    "from matplotlib.colors import LogNorm\n",
    "\n",
    "from sklearn.ensemble import GradientBoostingRegressor, GradientBoostingClassifier\n",
    "import joblib\n",
    "import pickle\n",
    "from prettytable import PrettyTable\n",
    "\n",
    "import ROOT as rt\n",
    "rt.gErrorIgnoreLevel = rt.kError\n",
    "\n",
    "from histo_utilities import create_TH2D, create_TH1D, create_Canvas, make_effiency_plot, rootTH1_to_np\n",
    "from progressBar import ProgressBar\n",
    "\n",
    "from cebefo_style import cebefo_style\n",
    "cebefo_style()\n",
    "\n",
    "dnd = []"
   ]
  },
  {
   "cell_type": "markdown",
   "metadata": {},
   "source": [
    "# Get the qcd sample for trainig"
   ]
  },
  {
   "cell_type": "code",
   "execution_count": 3,
   "metadata": {
    "ExecuteTime": {
     "end_time": "2019-08-07T23:09:13.047650Z",
     "start_time": "2019-08-07T23:09:11.478682Z"
    }
   },
   "outputs": [
    {
     "name": "stdout",
     "output_type": "stream",
     "text": [
      "Labels:\n",
      "[u'mJJ', u'j1Pt', u'j1Eta', u'j1Phi', u'j1M', u'j1E', u'j2Pt', u'j2M', u'j2E', u'DeltaEtaJJ', u'DeltaPhiJJ', u'Loss12', u'Loss2', u'EMD']\n",
      "[####################]  100% - ETA:   -0 s   \n",
      "Luminosity used for training\n",
      "1.3 fb^-1\n"
     ]
    }
   ],
   "source": [
    "file_dir = '/eos/project/d/dshep/TOPCLASS/DijetAnomaly/AE_Score/'\n",
    "maxEvts = int(1e6)\n",
    "pb = ProgressBar(maxEvts)\n",
    "\n",
    "data_train = None\n",
    "name_tag = 'qcd_sqrtshatTeV_13TeV_PU40'\n",
    "flist = glob(file_dir + name_tag + '/' + name_tag + '_*.h5')\n",
    "for i_file, fname in enumerate(flist):\n",
    "    f = h5py.File(fname, 'r')\n",
    "    aux_evts = np.array(f.get('data'))\n",
    "    aux_evts = aux_evts[aux_evts[:,0] > Mjj_selection]\n",
    "    if data_train is None:\n",
    "        print('Labels:')\n",
    "        print(list(f.get('labels')))\n",
    "        pb.show(0)\n",
    "        data_train = aux_evts\n",
    "    else:\n",
    "        data_train = np.append(data_train, aux_evts, axis=0)\n",
    "\n",
    "    pb.show(data_train.shape[0])\n",
    "\n",
    "    if data_train.shape[0] > maxEvts:\n",
    "        break\n",
    "        \n",
    "\n",
    "N_evts = i_file+1 * 10000\n",
    "QCD_xsec = 8.73e-6 #mb\n",
    "QCD_xsec *= 1e9 #fb\n",
    "print('\\nLuminosity used for training')\n",
    "print('{:.2} fb^-1'.format(N_evts/QCD_xsec))\n",
    "        "
   ]
  },
  {
   "cell_type": "code",
   "execution_count": 4,
   "metadata": {
    "ExecuteTime": {
     "end_time": "2019-08-07T23:09:13.047650Z",
     "start_time": "2019-08-07T23:09:11.478682Z"
    }
   },
   "outputs": [
    {
     "ename": "IOError",
     "evalue": "[Errno 28] No space left on device: '/eos/project/d/dshep/TOPCLASS/DijetAnomaly/AE_Score/tmp_qcd_sqrtshatTeV_13TeV_PU40.pkl'",
     "output_type": "error",
     "traceback": [
      "\u001b[0;31m\u001b[0m",
      "\u001b[0;31mIOError\u001b[0mTraceback (most recent call last)",
      "\u001b[0;32m<ipython-input-4-938a054b34b2>\u001b[0m in \u001b[0;36m<module>\u001b[0;34m()\u001b[0m\n\u001b[0;32m----> 1\u001b[0;31m \u001b[0mpickle\u001b[0m\u001b[0;34m.\u001b[0m\u001b[0mdump\u001b[0m\u001b[0;34m(\u001b[0m\u001b[0mdata_train\u001b[0m\u001b[0;34m,\u001b[0m \u001b[0mopen\u001b[0m\u001b[0;34m(\u001b[0m\u001b[0mfile_dir\u001b[0m \u001b[0;34m+\u001b[0m \u001b[0;34m'tmp_qcd_sqrtshatTeV_13TeV_PU40.pkl'\u001b[0m\u001b[0;34m,\u001b[0m \u001b[0;34m'wb'\u001b[0m\u001b[0;34m)\u001b[0m\u001b[0;34m)\u001b[0m\u001b[0;34m\u001b[0m\u001b[0m\n\u001b[0m",
      "\u001b[0;31mIOError\u001b[0m: [Errno 28] No space left on device: '/eos/project/d/dshep/TOPCLASS/DijetAnomaly/AE_Score/tmp_qcd_sqrtshatTeV_13TeV_PU40.pkl'"
     ]
    }
   ],
   "source": [
    "pickle.dump(data_train, open(file_dir + 'tmp_qcd_sqrtshatTeV_13TeV_PU40.pkl', 'wb'))"
   ]
  },
  {
   "cell_type": "code",
   "execution_count": 5,
   "metadata": {},
   "outputs": [],
   "source": [
    "# data_train = pickle.load(open(file_dir + 'tmp_qcd_sqrtshatTeV_13TeV_PU40_SIDEBAND_MIAD.pkl', 'rb'))"
   ]
  },
  {
   "cell_type": "code",
   "execution_count": 6,
   "metadata": {
    "ExecuteTime": {
     "end_time": "2019-08-07T23:09:13.047650Z",
     "start_time": "2019-08-07T23:09:11.478682Z"
    }
   },
   "outputs": [
    {
     "data": {
      "image/png": "[encoded data removed]",
      "text/plain": [
       "<IPython.core.display.Image object>"
      ]
     },
     "metadata": {},
     "output_type": "display_data"
    }
   ],
   "source": [
    "c = create_Canvas(size=(int(800/1.5),int(600/1.5)))\n",
    "h_Mjj_side = create_TH1D(data_train[:,0], title='', axis_title = ['M_{jj} [GeV]','Events'], \n",
    "                binning=[100, Mjj_selection, 0.8*np.max(data_train[:,0])])\n",
    "\n",
    "h_Mjj_side.Draw()\n",
    "c.SetLogy()\n",
    "c.Draw()"
   ]
  },
  {
   "cell_type": "markdown",
   "metadata": {
    "ExecuteTime": {
     "end_time": "2019-07-25T14:02:14.795675Z",
     "start_time": "2019-07-25T14:02:14.664450Z"
    }
   },
   "source": [
    "### Train the model to predict the cut"
   ]
  },
  {
   "cell_type": "code",
   "execution_count": 7,
   "metadata": {},
   "outputs": [],
   "source": [
    "# Compute weights to make it mass agnostic\n",
    "# hM = h_Mjj_side.Clone('hM')\n",
    "# print(hM.FindBin(10000))\n",
    "# scale = np.sqrt(hM.GetMaximum()*hM.GetMinimum(0))\n",
    "# print(scale)\n",
    "# hM.Scale(1./scale)\n",
    "\n",
    "# weights = np.ones_like(data_train[:,0])\n",
    "# for i, m in enumerate(data_train[:,0]):\n",
    "#     weights[i] = 1./hM.GetBinContent(hM.FindBin(m))\n",
    "#     if i%1000000 == 0:\n",
    "#         print(i)"
   ]
  },
  {
   "cell_type": "code",
   "execution_count": 47,
   "metadata": {
    "ExecuteTime": {
     "end_time": "2019-08-07T23:09:13.420984Z",
     "start_time": "2019-08-07T23:09:13.051732Z"
    }
   },
   "outputs": [
    {
     "name": "stdout",
     "output_type": "stream",
     "text": [
      "      Iter       Train Loss   Remaining Time \n",
      "         1           5.6282            1.36m\n",
      "         2           5.6272            1.44m\n",
      "         3           5.6261            1.44m\n",
      "         4           5.6253            1.42m\n",
      "         5           5.6248            1.42m\n",
      "         6           5.6244            1.41m\n",
      "         7           5.6241            1.40m\n",
      "         8           5.6239            1.39m\n",
      "         9           5.6236            1.38m\n",
      "        10           5.6235            1.37m\n",
      "        11           5.6232            1.37m\n",
      "        12           5.6228            1.36m\n",
      "        13           5.6227            1.38m\n",
      "        14           5.6223            1.38m\n",
      "        15           5.6222            1.37m\n",
      "        16           5.6220            1.37m\n",
      "        17           5.6219            1.36m\n",
      "        18           5.6214            1.36m\n",
      "        19           5.6210            1.35m\n",
      "        20           5.6208            1.35m\n",
      "        21           5.6205            1.34m\n",
      "        22           5.6202            1.33m\n",
      "        23           5.6201            1.33m\n",
      "        24           5.6198            1.33m\n",
      "        25           5.6196            1.32m\n"
     ]
    },
    {
     "data": {
      "text/plain": [
       "['../models/gbr_cut_trained_20190924.joblib']"
      ]
     },
     "execution_count": 47,
     "metadata": {},
     "output_type": "execute_result"
    }
   ],
   "source": [
    "gbr_cut = GradientBoostingRegressor(loss='quantile', alpha=1-SM_eff,\n",
    "                                n_estimators=250, max_depth=3,\n",
    "                                learning_rate=.05, min_samples_leaf=30,\n",
    "                                min_samples_split=30,\n",
    "                                validation_fraction=0.5,\n",
    "                                n_iter_no_change=5,\n",
    "                                tol=1e-5,\n",
    "                                verbose=2)\n",
    "\n",
    "x = np.reshape(data_train[:,0], (-1,1))\n",
    "y = computeDiscriminatingVar(data_train)\n",
    "gbr_cut.fit(x, y, sample_weight=None);\n",
    "\n",
    "date = datetime.date.today()\n",
    "date_str = '{}{:02d}{:02d}'.format(date.year, date.month, date.day)\n",
    "joblib.dump(gbr_cut, '../models/gbr_cut_trained_{}.joblib'.format(date_str)) "
   ]
  },
  {
   "cell_type": "code",
   "execution_count": 48,
   "metadata": {
    "ExecuteTime": {
     "end_time": "2019-08-07T23:09:21.195273Z",
     "start_time": "2019-08-07T23:09:19.992583Z"
    }
   },
   "outputs": [
    {
     "data": {
      "image/png": "[encoded data removed]",
      "text/plain": [
       "<matplotlib.figure.Figure at 0x7f8e9bab3f10>"
      ]
     },
     "metadata": {},
     "output_type": "display_data"
    }
   ],
   "source": [
    "plt.figure(figsize=(8, 8))\n",
    "x_min = Mjj_selection*0.8\n",
    "x_max = np.percentile(x, 99.9)\n",
    "plt.hist2d(x[:,0], y,\n",
    "           range=((x_min , x_max), (np.min(y), np.percentile(y, 1e2*(1-1e-4)))), \n",
    "           norm=LogNorm(), bins=100,\n",
    "           label='Side band data'\n",
    "          )\n",
    "\n",
    "xs = np.arange(Mjj_selection, x_max, 0.001*(x_max-Mjj_selection))\n",
    "plt.plot(xs, gbr_cut.predict(np.reshape(xs, (-1,1))), '-', color='m', lw=3, label='GBR selection')\n",
    "\n",
    "plt.ylabel('$L_1/P^1_T + L_2/P^2_T$ [GeV^-1]')\n",
    "plt.xlabel('$M_{jj}$ [GeV]')\n",
    "plt.colorbar()\n",
    "plt.legend(loc='best')\n",
    "plt.draw()"
   ]
  },
  {
   "cell_type": "code",
   "execution_count": 49,
   "metadata": {
    "ExecuteTime": {
     "end_time": "2019-08-07T23:09:26.371593Z",
     "start_time": "2019-08-07T23:09:26.351548Z"
    },
    "code_folding": []
   },
   "outputs": [],
   "source": [
    "def getSelection(x_Mjj, x_loss):\n",
    "    cut = gbr_cut.predict(np.reshape(x_Mjj, (-1,1)))\n",
    "    return x_loss > cut"
   ]
  },
  {
   "cell_type": "code",
   "execution_count": 50,
   "metadata": {
    "ExecuteTime": {
     "end_time": "2019-08-07T23:09:26.814635Z",
     "start_time": "2019-08-07T23:09:26.791643Z"
    },
    "code_folding": [
     0
    ]
   },
   "outputs": [],
   "source": [
    "def plotMassSpectrum(mJJ_pass, mJJ_rej, title=''):\n",
    "    h_a = create_TH1D(mJJ_pass, \n",
    "                      name='h_acc', title='Accepted',\n",
    "                      binning=binning,\n",
    "                      opt='overflow'\n",
    "                     )\n",
    "    h_a.SetLineColor(2)\n",
    "    h_a.SetStats(0)\n",
    "    h_a.Sumw2()\n",
    "    h_r = create_TH1D(mJJ_rej, \n",
    "                      name='h_rej', title='Rejected',\n",
    "                      axis_title=['M_{jj} [GeV]', 'Events'],\n",
    "                      binning=binning,\n",
    "                      opt='overflow'\n",
    "                     )\n",
    "    h_r.GetYaxis().SetRangeUser(0.5, 1.2*h_r.GetMaximum())\n",
    "    h_r.SetStats(0)\n",
    "    h_r.Sumw2()\n",
    "\n",
    "    c = make_effiency_plot([h_r, h_a], ratio_bounds=[1e-4, 0.2], draw_opt = 'E', title=title)\n",
    "    c.pad1.SetLogy()\n",
    "    c.pad2.SetLogy()\n",
    "\n",
    "    c.pad2.cd()\n",
    "    c.ln = rt.TLine(h_r.GetXaxis().GetXmin(), SM_eff, h_r.GetXaxis().GetXmax(), SM_eff)\n",
    "    c.ln.SetLineWidth(2)\n",
    "    c.ln.SetLineStyle(7)\n",
    "    c.ln.SetLineColor(8)\n",
    "    c.ln.DrawLine(h_r.GetXaxis().GetXmin(), SM_eff, h_r.GetXaxis().GetXmax(), SM_eff)\n",
    "\n",
    "    c.Draw()\n",
    "    return c"
   ]
  },
  {
   "cell_type": "code",
   "execution_count": 51,
   "metadata": {
    "ExecuteTime": {
     "end_time": "2019-08-07T23:09:27.433110Z",
     "start_time": "2019-08-07T23:09:27.222240Z"
    }
   },
   "outputs": [
    {
     "data": {
      "image/png": "[encoded data removed]",
      "text/plain": [
       "<IPython.core.display.Image object>"
      ]
     },
     "metadata": {},
     "output_type": "display_data"
    }
   ],
   "source": [
    "x = x.flatten()\n",
    "binning=[30, Mjj_selection, np.percentile(x, 99.9)]\n",
    "\n",
    "sel = getSelection(x, y)\n",
    "\n",
    "c = plotMassSpectrum(x[sel], x[np.logical_not(sel)], 'QCD quantile training dataset')\n",
    "h_a = c.h_list[1]\n",
    "h_r = c.h_list[0]"
   ]
  },
  {
   "cell_type": "markdown",
   "metadata": {
    "ExecuteTime": {
     "end_time": "2019-07-29T10:05:16.951453Z",
     "start_time": "2019-07-29T10:05:16.934409Z"
    }
   },
   "source": [
    "# Define and test Hypotesis test"
   ]
  },
  {
   "cell_type": "code",
   "execution_count": 52,
   "metadata": {
    "ExecuteTime": {
     "end_time": "2019-08-07T23:09:31.570671Z",
     "start_time": "2019-08-07T23:09:31.523994Z"
    }
   },
   "outputs": [],
   "source": [
    "def HypotesisTets(h_a_bin_content, h_r_bin_content, eff, N_asymov = 10000, max_N_asymov = 1e7, show_hist=False):\n",
    "    nu = eff*h_r_bin_content/(1-eff)\n",
    "\n",
    "    probs_obs = sp.stats.poisson.pmf(h_a_bin_content.astype(np.int), nu)\n",
    "    probs_obs = np.where(probs_obs < 1e-10, np.full_like(probs_obs, 1e-10), probs_obs)\n",
    "    s_obs = np.sum(-np.log(probs_obs), axis=-1)\n",
    "    print('S obs:', s_obs)\n",
    "\n",
    "    N_worse = 0\n",
    "    N_tot = 0\n",
    "    loops = 0\n",
    "    while N_worse < 25 and N_tot < max_N_asymov:\n",
    "        loops += 1\n",
    "        if loops > 1 and loops%10 == 0:\n",
    "            print(N_tot, N_worse)\n",
    "        if loops == 10:\n",
    "            print('Increasing by a factor 5 the number of asymov per loop')\n",
    "            N_asymov *=5\n",
    "        o_asymov = np.random.poisson(nu, (N_asymov, nu.shape[0]))\n",
    "        probs = sp.stats.poisson.pmf(o_asymov, nu)\n",
    "        probs = np.where(probs < 1e-10, np.full_like(probs, 1e-10), probs)\n",
    "        nll = -np.log(probs)\n",
    "        s_asymov = np.sum(nll, axis=-1)\n",
    "\n",
    "        N_worse += np.sum(s_asymov > s_obs)\n",
    "        N_tot += N_asymov\n",
    "\n",
    "        if max_N_asymov/N_tot < 25 and (N_worse * (max_N_asymov/N_tot) < 25):\n",
    "            print('Will never have enough stat - giving up.')\n",
    "            p_val = max(1, N_worse)/float(N_tot)\n",
    "            return p_val\n",
    "\n",
    "    print('Test stat reached after {} loops'.format(loops))\n",
    "\n",
    "    p_val = max(1, N_worse)/float(N_tot)\n",
    "    \n",
    "    if show_hist:\n",
    "        plt.figure()\n",
    "        binContent, _, _ = plt.hist(s_asymov, label='Distribution assuming eff={:.1f}%'.format(100*eff))\n",
    "        plt.plot([s_obs, s_obs], [0,np.max(binContent)], label='Observed')\n",
    "        plt.legend(loc='best')\n",
    "        plt.xlabel('Test statistic')\n",
    "        plt.ylabel('Entries')\n",
    "\n",
    "    return p_val"
   ]
  },
  {
   "cell_type": "code",
   "execution_count": 53,
   "metadata": {
    "ExecuteTime": {
     "end_time": "2019-08-07T23:09:32.564458Z",
     "start_time": "2019-08-07T23:09:32.444973Z"
    }
   },
   "outputs": [
    {
     "name": "stdout",
     "output_type": "stream",
     "text": [
      "S obs: 102.37238907462311\n",
      "Test stat reached after 1 loops\n"
     ]
    },
    {
     "data": {
      "text/plain": [
       "0.3589"
      ]
     },
     "execution_count": 53,
     "metadata": {},
     "output_type": "execute_result"
    }
   ],
   "source": [
    "h_a_bin_content, _ = rootTH1_to_np(h_a)\n",
    "h_r_bin_content, _ = rootTH1_to_np(h_r)\n",
    "HypotesisTets(h_a_bin_content, h_r_bin_content, SM_eff, N_asymov=10000)"
   ]
  },
  {
   "cell_type": "markdown",
   "metadata": {},
   "source": [
    "# Analyze signal region"
   ]
  },
  {
   "cell_type": "code",
   "execution_count": 22,
   "metadata": {
    "ExecuteTime": {
     "end_time": "2019-08-01T11:05:58.113458Z",
     "start_time": "2019-08-01T11:05:58.084800Z"
    }
   },
   "outputs": [],
   "source": [
    "sample_loc = {'qcd':'qcd_sqrtshatTeV_13TeV_PU40_EXT3',\n",
    "              'GtoWW1':'RSGraviton_WW_NARROW_13TeV_PU40_1.5TeV',\n",
    "              'GtoWW3':'RSGraviton_WW_NARROW_13TeV_PU40_3.5TeV',\n",
    "             }\n",
    "\n",
    "sample_label = {'qcd':r'QCD',\n",
    "                'GtoWW1':r'$G(1.5 TeV)\\to WW$',\n",
    "                'GtoWW3':r'$G(3.5 TeV)\\to WW$',\n",
    "               }\n",
    "\n",
    "sample_label_ROOT = {'qcd':'QCD',\n",
    "                'GtoWW1':'G(1.5 TeV) #rightarrow WW',\n",
    "                'GtoWW3':'G(3.5 TeV) #rightarrow WW',\n",
    "               }\n",
    "\n",
    "SM_samples = ['qcd']\n",
    "BSM_samples = ['GtoWW1', 'GtoWW3']\n",
    "\n",
    "sample_nGenEvts = {'qcd': 1992*10000,\n",
    "                   'GtoWW1': 90*10000,\n",
    "                   'GtoWW3': 92*10000,\n",
    "                  }\n",
    "\n",
    "sample_xsec = {'qcd': 8734.0 #pb\n",
    "              }"
   ]
  },
  {
   "cell_type": "code",
   "execution_count": 23,
   "metadata": {},
   "outputs": [
    {
     "name": "stdout",
     "output_type": "stream",
     "text": [
      "Lumi: 2280.7 pb^-1\n"
     ]
    }
   ],
   "source": [
    "lumi_generated = sample_nGenEvts['qcd']/sample_xsec['qcd']\n",
    "print('Lumi: {:.1f} pb^-1'.format(lumi_generated))"
   ]
  },
  {
   "cell_type": "markdown",
   "metadata": {},
   "source": [
    "### Get the data"
   ]
  },
  {
   "cell_type": "code",
   "execution_count": 28,
   "metadata": {
    "ExecuteTime": {
     "end_time": "2019-08-01T11:06:00.877455Z",
     "start_time": "2019-08-01T11:05:58.119894Z"
    },
    "code_folding": []
   },
   "outputs": [
    {
     "name": "stdout",
     "output_type": "stream",
     "text": [
      "GtoWW3\n",
      "92\n",
      "[####################]  100% - Tot. time: 6.3 s\n",
      "520907\n",
      "GtoWW1\n",
      "99\n",
      "[####################]  100% - Tot. time: 4.8 s\n",
      "414986\n",
      "qcd\n",
      "1992\n",
      "[####################]  100% - Tot. time: 332.4 s\n",
      "1034614\n",
      "+--------+----------+--------------+---------------+-------------+\n",
      "| Sample | Trg evts | Eff. trg [%] | VAE sel. evts | Eff VAE [%] |\n",
      "+--------+----------+--------------+---------------+-------------+\n",
      "| GtoWW3 |  520907  |     56.6     |     10779     |     2.07    |\n",
      "| GtoWW1 |  414986  |     46.1     |      6910     |     1.67    |\n",
      "|  qcd   | 1034614  |     5.2      |     10527     |     1.02    |\n",
      "+--------+----------+--------------+---------------+-------------+\n"
     ]
    }
   ],
   "source": [
    "data = {}\n",
    "sample_eff = {}\n",
    "table = PrettyTable()\n",
    "table.field_names = ['Sample', 'Trg evts', 'Eff. trg [%]', 'VAE sel. evts', 'Eff VAE [%]']\n",
    "\n",
    "for n, name_tag in sample_loc.iteritems():\n",
    "    print(n)\n",
    "    if True:#not 'GtoWW' == n[:-1]:\n",
    "        filename = name_tag.replace('_EXT3', '')\n",
    "        flist = glob(file_dir + name_tag + '/' + filename + '_*.h5')\n",
    "        x = None\n",
    "        pb = ProgressBar(len(flist))\n",
    "        for i, fname in enumerate(flist):\n",
    "            pb.show(i)\n",
    "            f = h5py.File(fname, 'r')\n",
    "            aux_evts = np.array(f.get('data'))\n",
    "            aux_evts = aux_evts[aux_evts[:,0] > Mjj_selection]\n",
    "            if x is None:\n",
    "                x = aux_evts\n",
    "            else:\n",
    "                x = np.append(x, aux_evts, axis=0)\n",
    "\n",
    "        # apply the dijet mass cut\n",
    "        dVar = computeDiscriminatingVar(x)\n",
    "        sel = getSelection(x[:,0], dVar)\n",
    "        x = np.column_stack((x, dVar, sel))\n",
    "        print(x.shape[0])\n",
    "        sample_eff[n] = float(x.shape[0])/sample_nGenEvts[n]\n",
    "\n",
    "        dt = [(str(s), '<f4') for s in list(f.get(\"labels\")) + ['dVar']]\n",
    "        dt += [('sel', '?')]\n",
    "        data[n] = np.array(list(zip(*x.T)), dtype=dt)\n",
    "    \n",
    "    eff = '{:.2f}'.format(100*np.sum(data[n]['sel'])/float(data[n]['sel'].shape[0]))\n",
    "    table.add_row([n, data[n]['sel'].shape[0], '{:.1f}'.format(100*sample_eff[n]), np.sum(data[n]['sel']), eff])\n",
    "    \n",
    "print(table)"
   ]
  },
  {
   "cell_type": "code",
   "execution_count": 31,
   "metadata": {},
   "outputs": [
    {
     "data": {
      "image/png": "[encoded data removed]",
      "text/plain": [
       "<matplotlib.figure.Figure at 0x7f8e9bdd4f10>"
      ]
     },
     "metadata": {},
     "output_type": "display_data"
    }
   ],
   "source": [
    "x = np.reshape(data['qcd']['mJJ'], (-1,1))\n",
    "y = computeDiscriminatingVar_str(data['qcd']['Loss12'], data['qcd']['j1Pt'], data['qcd']['Loss2'], data['qcd']['j2Pt'])\n",
    "\n",
    "plt.figure(figsize=(8, 8))\n",
    "x_min = Mjj_selection*0.8\n",
    "x_max = np.percentile(x, 99.9)\n",
    "plt.hist2d(x[:,0], y,\n",
    "           range=((x_min , x_max), (np.min(y), np.percentile(y, 1e2*(1-1e-4)))), \n",
    "           norm=LogNorm(), bins=100,\n",
    "           label='Side band data'\n",
    "          )\n",
    "\n",
    "xs = np.arange(Mjj_selection, x_max, 0.001*(x_max-Mjj_selection))\n",
    "plt.plot(xs, gbr_cut.predict(np.reshape(xs, (-1,1))), '-', color='m', lw=3, label='GBR selection')\n",
    "\n",
    "plt.ylabel('$L_1/P^1_T + L_2/P^2_T$ [GeV^-1]')\n",
    "plt.xlabel('$M_{jj}$ [GeV]')\n",
    "plt.colorbar()\n",
    "plt.legend(loc='best')\n",
    "plt.draw()"
   ]
  },
  {
   "cell_type": "markdown",
   "metadata": {},
   "source": [
    "### Define utilitities"
   ]
  },
  {
   "cell_type": "code",
   "execution_count": 32,
   "metadata": {
    "ExecuteTime": {
     "end_time": "2019-08-01T11:06:00.921841Z",
     "start_time": "2019-08-01T11:06:00.883604Z"
    },
    "code_folding": []
   },
   "outputs": [],
   "source": [
    "def plotMassSpectrum_wSig(h_r, h_a, h_a_sig, name_BSM, lumi_text, p_val):\n",
    "    h_r.GetYaxis().SetRangeUser(0.5, 1.2*h_r.GetMaximum())\n",
    "    h_r.SetStats(0)\n",
    "    h_r.Sumw2()\n",
    "    h_r.SetLineWidth(2)\n",
    "    \n",
    "    h_a.SetLineColor(2)\n",
    "    h_a.SetStats(0)\n",
    "    h_a.Sumw2()\n",
    "    h_a.SetLineWidth(2)\n",
    "    \n",
    "    h_a_sig.SetFillStyle(3001)\n",
    "    h_a_sig.SetFillColor(8)\n",
    "    h_a_sig.SetLineWidth(0)\n",
    "\n",
    "    c = make_effiency_plot([h_r, h_a], ratio_bounds=[1e-3, None], draw_opt = 'E')\n",
    "    c.pad1.SetLogy()\n",
    "    c.pad1.cd()\n",
    "    h_a_sig.Draw('SAME')\n",
    "    c.leg.AddEntry(h_a_sig, 'Acc. '+sample_label_ROOT[name_BSM], 'f')\n",
    "    \n",
    "    latex = rt.TLatex()\n",
    "    latex.SetNDC()\n",
    "    latex.SetTextSize(0.04)\n",
    "    latex.SetTextAlign(31)\n",
    "    t = c.pad1.GetTopMargin()\n",
    "    r = c.pad1.GetRightMargin()\n",
    "    latex.DrawLatex(1-r, 1-0.85*t, lumi_text)\n",
    "\n",
    "    c.pad2.SetLogy()\n",
    "    c.pad2.cd()\n",
    "    c.ln = rt.TLine(h_r.GetXaxis().GetXmin(), SM_eff, h_r.GetXaxis().GetXmax(), SM_eff)\n",
    "    c.ln.SetLineWidth(2)\n",
    "    c.ln.SetLineStyle(7)\n",
    "    c.ln.SetLineColor(6)\n",
    "    c.ln.DrawLine(h_r.GetXaxis().GetXmin(), SM_eff, h_r.GetXaxis().GetXmax(), SM_eff)\n",
    "    \n",
    "    latex.SetTextSize(0.1)\n",
    "    latex.SetTextAlign(13)\n",
    "    l = c.pad2.GetLeftMargin()\n",
    "    t = c.pad2.GetTopMargin()\n",
    "    latex.DrawLatex(l*1.1, 1-2*t, 'p-value: {:.1f} %'.format(100*p_val))\n",
    "\n",
    "    c.Draw()\n",
    "    return c"
   ]
  },
  {
   "cell_type": "markdown",
   "metadata": {
    "ExecuteTime": {
     "end_time": "2019-07-26T13:30:40.258958Z",
     "start_time": "2019-07-26T13:30:40.240906Z"
    }
   },
   "source": [
    "## Find the p-value as a function of xsec"
   ]
  },
  {
   "cell_type": "code",
   "execution_count": 54,
   "metadata": {
    "ExecuteTime": {
     "end_time": "2019-08-01T11:06:00.935480Z",
     "start_time": "2019-08-01T11:06:00.926854Z"
    }
   },
   "outputs": [],
   "source": [
    "lumi = 2000 #pb^-1\n",
    "\n",
    "N_asymov = 10000\n",
    "N_exp_per_xsec = 5"
   ]
  },
  {
   "cell_type": "code",
   "execution_count": 55,
   "metadata": {
    "ExecuteTime": {
     "end_time": "2019-08-01T11:06:00.956627Z",
     "start_time": "2019-08-01T11:06:00.939665Z"
    }
   },
   "outputs": [],
   "source": [
    "dic_p_val = {}\n",
    "rt.gROOT.SetBatch(True)"
   ]
  },
  {
   "cell_type": "code",
   "execution_count": 57,
   "metadata": {
    "ExecuteTime": {
     "end_time": "2019-08-01T11:46:23.351576Z",
     "start_time": "2019-08-01T11:06:00.962212Z"
    },
    "code_folding": [],
    "scrolled": false
   },
   "outputs": [
    {
     "name": "stdout",
     "output_type": "stream",
     "text": [
      "\n",
      "\n",
      "GtoWW1\n",
      "xsec BSM 1.0e-05 pb\n",
      "Experiment: 0\n",
      "S obs: 119.92909060003018\n",
      "90000 2\n",
      "Increasing by a factor 5 the number of asymov per loop\n",
      "590000 16\n",
      "Test stat reached after 24 loops\n",
      "Experiment: 1\n",
      "S obs: 114.48209186775794\n",
      "Test stat reached after 3 loops\n",
      "Experiment: 2\n",
      "S obs: 112.77799034454819\n",
      "Test stat reached after 2 loops\n",
      "Experiment: 3\n",
      "S obs: 117.4786041371669\n",
      "90000 15\n",
      "Increasing by a factor 5 the number of asymov per loop\n",
      "Test stat reached after 11 loops\n",
      "Experiment: 4\n",
      "S obs: 119.17494836613372\n",
      "90000 4\n",
      "Increasing by a factor 5 the number of asymov per loop\n",
      "Test stat reached after 17 loops\n",
      "xsec BSM 1.0e-04 pb\n",
      "Experiment: 0\n",
      "S obs: 120.24064333835653\n",
      "90000 3\n",
      "Increasing by a factor 5 the number of asymov per loop\n",
      "590000 14\n",
      "Test stat reached after 26 loops\n",
      "Experiment: 1\n",
      "S obs: 132.40640340377593\n",
      "90000 0\n",
      "Increasing by a factor 5 the number of asymov per loop\n",
      "Will never have enough stat - giving up.\n",
      "Experiment: 2\n",
      "S obs: 124.80957073063351\n",
      "90000 0\n",
      "Increasing by a factor 5 the number of asymov per loop\n",
      "590000 3\n",
      "1090000 4\n",
      "1590000 5\n",
      "2090000 6\n",
      "2590000 8\n",
      "3090000 9\n",
      "3590000 10\n",
      "4090000 11\n",
      "4590000 13\n",
      "5090000 14\n",
      "5590000 14\n",
      "Will never have enough stat - giving up.\n",
      "Experiment: 3\n",
      "S obs: 131.77598092264665\n",
      "90000 0\n",
      "Increasing by a factor 5 the number of asymov per loop\n",
      "Will never have enough stat - giving up.\n",
      "Experiment: 4\n",
      "S obs: 112.73059773150854\n",
      "Test stat reached after 1 loops\n",
      "\n",
      "\n",
      "GtoWW3\n",
      "xsec BSM 1.0e-05 pb\n",
      "Experiment: 0\n",
      "S obs: 115.414780580358\n",
      "Test stat reached after 5 loops\n",
      "Experiment: 1\n",
      "S obs: 134.64702478601544\n",
      "90000 0\n",
      "Increasing by a factor 5 the number of asymov per loop\n",
      "Will never have enough stat - giving up.\n",
      "Experiment: 2\n",
      "S obs: 109.05445397849975\n",
      "Test stat reached after 1 loops\n",
      "Experiment: 3\n",
      "S obs: 118.55681284869488\n",
      "90000 7\n",
      "Increasing by a factor 5 the number of asymov per loop\n",
      "Test stat reached after 13 loops\n",
      "Experiment: 4\n",
      "S obs: 124.3667626593778\n",
      "90000 0\n",
      "Increasing by a factor 5 the number of asymov per loop\n",
      "Will never have enough stat - giving up.\n",
      "xsec BSM 1.0e-04 pb\n",
      "Experiment: 0\n",
      "S obs: 116.46798799712597\n",
      "90000 20\n",
      "Increasing by a factor 5 the number of asymov per loop\n",
      "Test stat reached after 10 loops\n",
      "Experiment: 1\n",
      "S obs: 125.71320447553865\n",
      "90000 0\n",
      "Increasing by a factor 5 the number of asymov per loop\n",
      "Will never have enough stat - giving up.\n",
      "Experiment: 2\n",
      "S obs: 117.67754013960543\n",
      "90000 13\n",
      "Increasing by a factor 5 the number of asymov per loop\n",
      "Test stat reached after 11 loops\n",
      "Experiment: 3\n",
      "S obs: 114.51758054871465\n",
      "Test stat reached after 3 loops\n",
      "Experiment: 4\n",
      "S obs: 98.34542524156615\n",
      "Test stat reached after 1 loops\n"
     ]
    },
    {
     "data": {
      "image/png": "[encoded data removed]",
      "text/plain": [
       "<IPython.core.display.Image object>"
      ]
     },
     "metadata": {},
     "output_type": "display_data"
    }
   ],
   "source": [
    "for name_BSM in BSM_samples:\n",
    "    print('\\n\\n'+name_BSM)\n",
    "    dic_p_val[name_BSM] = []\n",
    "    for xsec_BSM in np.logspace(-5, -4, 2): \n",
    "        print('xsec BSM {:.1e} pb'.format(xsec_BSM))\n",
    "        lumi_text = '{:.1f} fb^{{-1}} (14 TeV), '.format(1e-3*lumi) + sample_label_ROOT[name_BSM] + ' ({:.2} pb)'.format(xsec_BSM)\n",
    "\n",
    "        p_val_test = []\n",
    "        for i_exp in range(N_exp_per_xsec):\n",
    "            print('Experiment:', i_exp)\n",
    "            d_obs = np.zeros((0,2))\n",
    "\n",
    "            sample_xsec[name_BSM] = xsec_BSM\n",
    "            for n in SM_samples + [name_BSM]:\n",
    "                nExpEvts = lumi*sample_xsec[n]*sample_eff[n]\n",
    "                nEvts = np.random.poisson(nExpEvts)\n",
    "                if data[n]['mJJ'].shape[0] < nEvts:\n",
    "                    print('[WARNING] ' + n + ' re-use factor = {:.2f}'.format(float(nEvts)/data[n]['mJJ'].shape[0]))\n",
    "                evtsIdx = np.random.randint(0, data[n]['mJJ'].shape[0], size=(nEvts,))\n",
    "\n",
    "                d_aux = np.column_stack((data[n]['mJJ'][evtsIdx], data[n]['sel'][evtsIdx]))\n",
    "                d_obs = np.concatenate((d_obs, d_aux))\n",
    "\n",
    "            h_a = create_TH1D(d_obs[:, 0][d_obs[:,1].astype(np.bool)], \n",
    "                                 name='h_acc', title='Accepted',\n",
    "                                 binning=binning,\n",
    "                                 opt='overflow'\n",
    "                                )\n",
    "\n",
    "            h_r = create_TH1D(d_obs[:, 0][np.logical_not(d_obs[:,1]).astype(np.bool)], \n",
    "                                 name='h_rej', title='Rejected',\n",
    "                                 axis_title=['M_{jj} [GeV]', ''],\n",
    "                                 binning=binning,\n",
    "                                 opt='overflow'\n",
    "                                )\n",
    "            h_r.SetYTitle('Events / {:.0f} GeV'.format(h_r.GetBinWidth(1)))\n",
    "\n",
    "            h_a_bin_content, _ = rootTH1_to_np(h_a)\n",
    "            h_r_bin_content, _ = rootTH1_to_np(h_r)\n",
    "            p_val = HypotesisTets(h_a_bin_content, h_r_bin_content, SM_eff, N_asymov = N_asymov, show_hist=False)\n",
    "            p_val_test.append(p_val)\n",
    "\n",
    "            if i_exp > 3 and np.max(p_val_test) == 0:\n",
    "                break\n",
    "\n",
    "            if i_exp == 0:\n",
    "                h_a_sig = create_TH1D(d_obs[-nEvts-1:, 0][d_obs[-nEvts-1:, 1].astype(np.bool)], \n",
    "                                     name='h_acc', title='Accepted',\n",
    "                                     binning=binning,\n",
    "                                     opt='overflow'\n",
    "                                    )\n",
    "                c = plotMassSpectrum_wSig(h_r, h_a, h_a_sig, name_BSM, lumi_text, p_val)\n",
    "                fig_name = '../fig/ModelIndependentAnalysis_v3/massSpectrum/'\n",
    "                fig_name += name_BSM + '{:1.2e}'.format(xsec_BSM) + 'pb' + '_L' + str(lumi) + 'pb-1_wEff'\n",
    "                c.SaveAs(fig_name + '.png')\n",
    "\n",
    "        aux = [xsec_BSM] + list(np.percentile(p_val_test, [2.5, 16, 50, 84, 97.5]))\n",
    "        dic_p_val[name_BSM].append(aux)"
   ]
  },
  {
   "cell_type": "markdown",
   "metadata": {},
   "source": [
    "# Make the p-value plot"
   ]
  },
  {
   "cell_type": "code",
   "execution_count": 36,
   "metadata": {
    "ExecuteTime": {
     "end_time": "2019-08-01T11:46:23.377368Z",
     "start_time": "2019-08-01T11:46:23.360830Z"
    }
   },
   "outputs": [],
   "source": [
    "sample_col = {\n",
    "              'GtoWW1':'b',\n",
    "              'GtoWW3':'g',\n",
    "             }"
   ]
  },
  {
   "cell_type": "code",
   "execution_count": 58,
   "metadata": {
    "ExecuteTime": {
     "end_time": "2019-08-01T12:05:16.303344Z",
     "start_time": "2019-08-01T12:05:13.777854Z"
    }
   },
   "outputs": [
    {
     "name": "stdout",
     "output_type": "stream",
     "text": [
      "[1.e-05 1.e-04] [1.84210526e-04 2.48226950e-06]\n",
      "[1.e-05 1.e-04] [8.96551724e-05 2.78571429e-04]\n"
     ]
    },
    {
     "data": {
      "image/png": "[encoded data removed]",
      "text/plain": [
       "<matplotlib.figure.Figure at 0x7f8e9b982910>"
      ]
     },
     "metadata": {},
     "output_type": "display_data"
    }
   ],
   "source": [
    "matplotlib.rcParams.update({'font.size': 18})\n",
    "fig, ax1 = plt.subplots(figsize=(8,8))\n",
    "\n",
    "for n, val_aux in dic_p_val.iteritems():\n",
    "    val_aux = np.array(val_aux)\n",
    "    x_sec = val_aux[:, 0]\n",
    "    quant = val_aux[:, 1:]\n",
    "    \n",
    "    ax1.plot(x_sec, quant[:, 2], color=sample_col[n], label=sample_label[n])\n",
    "    print(x_sec, quant[:,2])\n",
    "    ax1.fill_between(x_sec, quant[:, 1], quant[:, 3], color=sample_col[n], alpha = 0.1, lw=0)\n",
    "#     ax1.fill_between(x_sec, quant[:, 0], quant[:, 4], color=sample_col[n], alpha = 0.1, lw=0)\n",
    "    \n",
    "    \n",
    "plt.xscale('log')\n",
    "plt.xlabel('Cross section [pb]')\n",
    "plt.yscale('log')\n",
    "plt.ylabel('p-value')\n",
    "plt.ylim(1 - erf(5.5/np.sqrt(2)), 1)\n",
    "plt.legend(loc='upper right')\n",
    "ax2 = ax1.twinx()\n",
    "for i in range(1, 6):\n",
    "    p = 1 - erf(i/np.sqrt(2))\n",
    "    ax2.plot([x_sec[0], x_sec[-1]], 2*[p], '--', color='grey')\n",
    "plt.yscale('log')\n",
    "ax2.set_yticks(1 - erf(np.arange(1,6)/np.sqrt(2)))\n",
    "ax2.set_yticklabels(['{}$\\sigma$'.format(i) for i in range(1,6)])\n",
    "ax2.tick_params(axis='y', labelcolor='grey')\n",
    "\n",
    "fig.savefig('../fig/ModelIndependentAnalysis_v3/' + 'pValueScan_L' + str(lumi) + 'pb-1.png', bbox_inches='tight')"
   ]
  },
  {
   "cell_type": "code",
   "execution_count": null,
   "metadata": {},
   "outputs": [],
   "source": []
  },
  {
   "cell_type": "code",
   "execution_count": null,
   "metadata": {},
   "outputs": [],
   "source": []
  }
 ],
 "metadata": {
  "kernelspec": {
   "display_name": "Python 2",
   "language": "python",
   "name": "python2"
  },
  "language_info": {
   "codemirror_mode": {
    "name": "ipython",
    "version": 2
   },
   "file_extension": ".py",
   "mimetype": "text/x-python",
   "name": "python",
   "nbconvert_exporter": "python",
   "pygments_lexer": "ipython2",
   "version": "2.7.14+"
  }
 },
 "nbformat": 4,
 "nbformat_minor": 2
}
