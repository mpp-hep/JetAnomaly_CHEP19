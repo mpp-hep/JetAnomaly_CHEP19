{
 "cells": [
  {
   "cell_type": "code",
   "execution_count": 1,
   "metadata": {},
   "outputs": [
    {
     "name": "stdout",
     "output_type": "stream",
     "text": [
      "Welcome to JupyROOT 6.12/07\n"
     ]
    }
   ],
   "source": [
    "import numpy as np\n",
    "import ROOT as rt\n",
    "import uproot"
   ]
  },
  {
   "cell_type": "code",
   "execution_count": 2,
   "metadata": {},
   "outputs": [],
   "source": [
    "# Expecting 540629 qcdSigExt events\n",
    "# qcdSigExt\n",
    "h_t_bin_content = [201768.0, 120440.0, 73590.0, 47403.0, 30366.0, 20378.0, 13591.0, \n",
    "                   9490.0, 6295.0, 4591.0, 3336.0, 2332.0, 1740.0, 1354.0, 1004.0, \n",
    "                   710.0, 537.0, 401.0, 274.0, 243.0, 177.0, 148.0, 99.0, 77.0, 56.0, \n",
    "                   43.0, 39.0, 24.0, 22.0, 23.0]\n",
    "h_a_bin_content = [1782.0, 1103.0, 786.0, 491.0, 291.0, 195.0, 120.0, 88.0, 53.0, 60.0, \n",
    "                   32.0, 24.0, 19.0, 11.0, 3.0, 4.0, 11.0, 3.0, 4.0, 6.0, 2.0, 5.0, 1.0, \n",
    "                   1.0, 1.0, 1.0, 1.0, 0.0, 0.0, 0.0]\n",
    "h_r_bin_content = [199986.0, 119337.0, 72804.0, 46912.0, 30075.0, 20183.0, 13471.0, 9402.0, \n",
    "                   6242.0, 4531.0, 3304.0, 2308.0, 1721.0, 1343.0, 1001.0, 706.0, 526.0, 398.0, \n",
    "                   270.0, 237.0, 175.0, 143.0, 98.0, 76.0, 55.0, 42.0, 38.0, 24.0, 22.0, 23.0]\n",
    "\n",
    "# xsec BSM = 1.00E+1\n",
    "# Expecting 11281 GtoWW3 events\n",
    "# GtoWW3\n",
    "h_t_signal = [61.0, 66.0, 100.0, 126.0, 142.0, 213.0, 218.0, 294.0, 356.0, 398.0, 438.0, 438.0, \n",
    "              499.0, 548.0, 484.0, 504.0, 499.0, 524.0, 505.0, 510.0, 525.0, 629.0, 706.0, 764.0, \n",
    "              826.0, 563.0, 219.0, 49.0, 23.0, 14.0]\n",
    "h_a_signal = [28.0, 35.0, 44.0, 63.0, 74.0, 109.0, 92.0, 109.0, 124.0, 128.0, 109.0, 86.0, 68.0, \n",
    "              53.0, 23.0, 24.0, 17.0, 10.0, 16.0, 9.0, 7.0, 10.0, 14.0, 15.0, 14.0, 11.0, 6.0, 2.0, \n",
    "              0.0, 0.0]\n",
    "h_r_signal = [33.0, 31.0, 56.0, 63.0, 68.0, 104.0, 126.0, 185.0, 232.0, 270.0, 329.0, 352.0, 431.0, \n",
    "              495.0, 461.0, 480.0, 482.0, 514.0, 489.0, 501.0, 518.0, 619.0, 692.0, 749.0, 812.0, \n",
    "              552.0, 213.0, 47.0, 23.0, 14.0]\n",
    "\n",
    "bin_edges = np.linspace(1100,4000,31)\n",
    "\n",
    "n_bins = len(bin_edges)-1\n",
    "max_bin = bin_edges[-1]\n",
    "min_bin = bin_edges[0]"
   ]
  },
  {
   "cell_type": "code",
   "execution_count": 3,
   "metadata": {},
   "outputs": [],
   "source": [
    "# prepare histograms and scale\n",
    "background_hist_acc = rt.TH1D('background_acc','background_acc', n_bins, min_bin, max_bin)\n",
    "signal_hist_acc = rt.TH1D('signal_acc','signal_acc', n_bins, min_bin, max_bin)\n",
    "data_hist_acc = rt.TH1D('data_obs_acc','data_obs_acc', n_bins, min_bin, max_bin)\n",
    "\n",
    "background_hist_rej = rt.TH1D('background_rej','background_rej', n_bins, min_bin, max_bin)\n",
    "signal_hist_rej = rt.TH1D('signal_rej','signal_rej', n_bins, min_bin, max_bin)\n",
    "data_hist_rej = rt.TH1D('data_obs_rej','data_obs_rej', n_bins, min_bin, max_bin)\n",
    "\n",
    "for i, b in enumerate(h_a_bin_content):\n",
    "    background_hist_acc.SetBinContent(i+1, b)\n",
    "    data_hist_acc.SetBinContent(i+1, b)\n",
    "for i, s in enumerate(h_a_signal):\n",
    "    signal_hist_acc.SetBinContent(i+1, s)\n",
    "    \n",
    "for i, b in enumerate(h_r_bin_content):\n",
    "    background_hist_rej.SetBinContent(i+1, b)\n",
    "    data_hist_rej.SetBinContent(i+1, b)\n",
    "for i, s in enumerate(h_r_signal):\n",
    "    signal_hist_rej.SetBinContent(i+1, s)"
   ]
  },
  {
   "cell_type": "code",
   "execution_count": 4,
   "metadata": {},
   "outputs": [
    {
     "data": {
      "image/png": "[encoded data removed]",
      "text/plain": [
       "<IPython.core.display.Image object>"
      ]
     },
     "metadata": {},
     "output_type": "display_data"
    }
   ],
   "source": [
    "# plot background, signal, data\n",
    "c = rt.TCanvas('c','c',1000,400)\n",
    "c.Divide(2,1)\n",
    "\n",
    "c.cd(1)\n",
    "background_hist_rej.SetLineColor(rt.kBlue)\n",
    "background_hist_rej.Draw('hist')\n",
    "signal_hist_rej.SetLineColor(rt.kRed)\n",
    "signal_hist_rej.Draw('histsame')\n",
    "data_hist_rej.SetLineColor(rt.kBlack)\n",
    "data_hist_rej.SetMarkerColor(rt.kBlack)\n",
    "data_hist_rej.SetMarkerStyle(20)\n",
    "data_hist_rej.SetMarkerSize(0.5)\n",
    "data_hist_rej.Draw('pezsame')\n",
    "\n",
    "c.cd(2)\n",
    "background_hist_acc.SetLineColor(rt.kBlue)\n",
    "background_hist_acc.Draw('hist')\n",
    "signal_hist_acc.SetLineColor(rt.kRed)\n",
    "signal_hist_acc.Draw('histsame')\n",
    "data_hist_acc.SetLineColor(rt.kBlack)\n",
    "data_hist_acc.SetMarkerColor(rt.kBlack)\n",
    "data_hist_acc.SetMarkerStyle(20)\n",
    "data_hist_acc.SetMarkerSize(0.5)\n",
    "data_hist_acc.Draw('pezsame')\n",
    "\n",
    "c.Draw()"
   ]
  },
  {
   "cell_type": "code",
   "execution_count": null,
   "metadata": {},
   "outputs": [],
   "source": [
    "# set up workspace\n",
    "\n",
    "datacard_ws = rt.TFile.Open('datacard_ws.root','recreate')\n",
    "w = rt.RooWorkspace('w','w')\n",
    "x = rt.RooRealVar('x','x',min_bin,max_bin)\n",
    "w.factory('x[%.1f,%.1f]'%(min_bin, max_bin))\n",
    "\n",
    "acc_bin_functions = rt.RooArgList()\n",
    "rej_bin_functions = rt.RooArgList()\n",
    "w.factory('eff[%f,0,1]'%(background_hist_acc.Integral()/background_hist_rej.Integral()))\n",
    "w.var('eff').setConstant(True)\n",
    "\n",
    "empty_hist = rt.TH1D('empty_hist','empty_hist', n_bins, min_bin, max_bin)\n",
    "for iBinX in range(1,n_bins+1):\n",
    "    empty_hist.SetBinContent(iBinX,1)\n",
    "    w.factory('crBin%i_In[%.1f]'%(iBinX,background_hist_rej.GetBinContent(iBinX)))\n",
    "    w.factory('crBin%i[0,-100,100]'%(iBinX))\n",
    "    w.var('crBin%i_In'%iBinX).setConstant(True)\n",
    "    w.var('crBin%i'%iBinX).setConstant(False)\n",
    "    w.factory(\"expr::crBin%iFunc('max(0,@0*pow(1.0+%f,@1))',crBin%i_In,crBin%i)\"%(iBinX,1/rt.TMath.Sqrt(background_hist_rej.GetBinContent(iBinX)),iBinX,iBinX))\n",
    "    w.factory(\"expr::bin%iFunc('max(0,@0*@1)',eff,crBin%iFunc)\"%(iBinX,iBinX))\n",
    "    rej_bin_functions.add(w.function('crBin%iFunc'%iBinX))\n",
    "    acc_bin_functions.add(w.function('bin%iFunc'%iBinX))\n",
    "    \n",
    "qcd_rph_rej = rt.RooParametricHist('background_rej','background_acc',w.var('x'),rej_bin_functions,empty_hist)\n",
    "qcd_rph_rej_norm = rt.RooAddition('background_rej_norm','background_rej_norm',rej_bin_functions)\n",
    "qcd_rph_acc = rt.RooParametricHist('background_acc','background_acc',w.var('x'),acc_bin_functions,empty_hist)\n",
    "qcd_rph_acc_norm = rt.RooAddition('background_acc_norm','background_acc_norm',acc_bin_functions)\n",
    "getattr(w,'import')(qcd_rph_rej, rt.RooCmdArg())\n",
    "getattr(w,'import')(qcd_rph_rej_norm, rt.RooFit.RecycleConflictNodes())\n",
    "getattr(w,'import')(qcd_rph_acc, rt.RooCmdArg())\n",
    "getattr(w,'import')(qcd_rph_acc_norm, rt.RooFit.RecycleConflictNodes())\n",
    "\n",
    "ds_signal_acc = rt.RooDataHist('signal_acc','signal_acc',rt.RooArgList(w.var('x')),signal_hist_acc)\n",
    "ds_signal_rej = rt.RooDataHist('signal_rej','signal_rej',rt.RooArgList(w.var('x')),signal_hist_rej)\n",
    "getattr(w,'import')(ds_signal_acc, rt.RooCmdArg())\n",
    "getattr(w,'import')(ds_signal_rej, rt.RooCmdArg())\n",
    "\n",
    "ds_data_acc = rt.RooDataHist('data_obs_acc','data_obs_acc',rt.RooArgList(w.var('x')),data_hist_acc)\n",
    "ds_data_rej = rt.RooDataHist('data_obs_rej','data_obs_rej',rt.RooArgList(w.var('x')),data_hist_rej)\n",
    "getattr(w,'import')(ds_data_acc, rt.RooCmdArg())\n",
    "getattr(w,'import')(ds_data_rej, rt.RooCmdArg())\n",
    "\n",
    "datacard_ws.cd()\n",
    "w.Write()\n",
    "datacard_ws.Close()\n",
    "\n",
    "w.Print('v')"
   ]
  },
  {
   "cell_type": "code",
   "execution_count": 6,
   "metadata": {},
   "outputs": [],
   "source": [
    "# datacard template\n",
    "# no background normalization uncertainty\n",
    "\n",
    "datacard_ratio = \\\n",
    "'''\n",
    "imax 1\n",
    "jmax 1\n",
    "kmax *\n",
    "---------------\n",
    "shapes * * datacard_ws.root w:$PROCESS_$CHANNEL w:$PROCESS_$CHANNEL_$SYSTEMATIC\n",
    "---------------\n",
    "bin {BIN}\n",
    "observation {OBS}\n",
    "------------------------------\n",
    "bin             {BIN}      {BIN}\n",
    "process         signal     background\n",
    "process         0          1\n",
    "rate            {SIGRATE}    {BKGRATE}\n",
    "--------------------------------\n",
    "lumi lnN 1.01 -\n",
    "eff   flatParam\n",
    "crBin1   flatParam\n",
    "crBin2   flatParam\n",
    "crBin3   flatParam\n",
    "crBin4   flatParam\n",
    "crBin5   flatParam\n",
    "crBin6   flatParam\n",
    "crBin7   flatParam\n",
    "crBin8   flatParam\n",
    "crBin9   flatParam\n",
    "crBin10   flatParam\n",
    "crBin11   flatParam\n",
    "crBin12   flatParam\n",
    "crBin13   flatParam\n",
    "crBin14   flatParam\n",
    "crBin15   flatParam\n",
    "crBin16   flatParam\n",
    "crBin17   flatParam\n",
    "crBin18   flatParam\n",
    "crBin19   flatParam\n",
    "crBin20   flatParam\n",
    "crBin21   flatParam\n",
    "crBin22   flatParam\n",
    "crBin23   flatParam\n",
    "crBin24   flatParam\n",
    "crBin25   flatParam\n",
    "crBin26   flatParam\n",
    "crBin27   flatParam\n",
    "crBin28   flatParam\n",
    "crBin29   flatParam\n",
    "crBin30   flatParam\n",
    "'''"
   ]
  },
  {
   "cell_type": "code",
   "execution_count": 7,
   "metadata": {},
   "outputs": [
    {
     "name": "stdout",
     "output_type": "stream",
     "text": [
      "\n",
      "imax 1\n",
      "jmax 1\n",
      "kmax *\n",
      "---------------\n",
      "shapes * * datacard_ws.root w:$PROCESS_$CHANNEL w:$PROCESS_$CHANNEL_$SYSTEMATIC\n",
      "---------------\n",
      "bin acc\n",
      "observation 5098.0\n",
      "------------------------------\n",
      "bin             acc      acc\n",
      "process         signal     background\n",
      "process         0          1\n",
      "rate            1300.0    1\n",
      "--------------------------------\n",
      "lumi lnN 1.01 -\n",
      "eff   flatParam\n",
      "crBin1   flatParam\n",
      "crBin2   flatParam\n",
      "crBin3   flatParam\n",
      "crBin4   flatParam\n",
      "crBin5   flatParam\n",
      "crBin6   flatParam\n",
      "crBin7   flatParam\n",
      "crBin8   flatParam\n",
      "crBin9   flatParam\n",
      "crBin10   flatParam\n",
      "crBin11   flatParam\n",
      "crBin12   flatParam\n",
      "crBin13   flatParam\n",
      "crBin14   flatParam\n",
      "crBin15   flatParam\n",
      "crBin16   flatParam\n",
      "crBin17   flatParam\n",
      "crBin18   flatParam\n",
      "crBin19   flatParam\n",
      "crBin20   flatParam\n",
      "crBin21   flatParam\n",
      "crBin22   flatParam\n",
      "crBin23   flatParam\n",
      "crBin24   flatParam\n",
      "crBin25   flatParam\n",
      "crBin26   flatParam\n",
      "crBin27   flatParam\n",
      "crBin28   flatParam\n",
      "crBin29   flatParam\n",
      "crBin30   flatParam\n",
      "\n",
      "\n",
      "imax 1\n",
      "jmax 1\n",
      "kmax *\n",
      "---------------\n",
      "shapes * * datacard_ws.root w:$PROCESS_$CHANNEL w:$PROCESS_$CHANNEL_$SYSTEMATIC\n",
      "---------------\n",
      "bin rej\n",
      "observation 535453.0\n",
      "------------------------------\n",
      "bin             rej      rej\n",
      "process         signal     background\n",
      "process         0          1\n",
      "rate            9941.0    1\n",
      "--------------------------------\n",
      "lumi lnN 1.01 -\n",
      "eff   flatParam\n",
      "crBin1   flatParam\n",
      "crBin2   flatParam\n",
      "crBin3   flatParam\n",
      "crBin4   flatParam\n",
      "crBin5   flatParam\n",
      "crBin6   flatParam\n",
      "crBin7   flatParam\n",
      "crBin8   flatParam\n",
      "crBin9   flatParam\n",
      "crBin10   flatParam\n",
      "crBin11   flatParam\n",
      "crBin12   flatParam\n",
      "crBin13   flatParam\n",
      "crBin14   flatParam\n",
      "crBin15   flatParam\n",
      "crBin16   flatParam\n",
      "crBin17   flatParam\n",
      "crBin18   flatParam\n",
      "crBin19   flatParam\n",
      "crBin20   flatParam\n",
      "crBin21   flatParam\n",
      "crBin22   flatParam\n",
      "crBin23   flatParam\n",
      "crBin24   flatParam\n",
      "crBin25   flatParam\n",
      "crBin26   flatParam\n",
      "crBin27   flatParam\n",
      "crBin28   flatParam\n",
      "crBin29   flatParam\n",
      "crBin30   flatParam\n",
      "\n"
     ]
    }
   ],
   "source": [
    "# write datacard\n",
    "datacard_ratio_acc = datacard_ratio.format(BIN='acc',\n",
    "                          OBS=data_hist_acc.Integral(),\n",
    "                          BKGRATE=1,\n",
    "                          SIGRATE=signal_hist_acc.Integral())\n",
    "print(datacard_ratio_acc)\n",
    "with open('datacard_ratio_acc.txt','w') as f:\n",
    "    f.write(datacard_ratio_acc)\n",
    "    \n",
    "    \n",
    "datacard_ratio_rej = datacard_ratio.format(BIN='rej',\n",
    "                          OBS=data_hist_rej.Integral(),\n",
    "                          BKGRATE=1,\n",
    "                          SIGRATE=signal_hist_rej.Integral())\n",
    "print(datacard_ratio_rej)\n",
    "with open('datacard_ratio_rej.txt','w') as f:\n",
    "    f.write(datacard_ratio_rej)"
   ]
  },
  {
   "cell_type": "code",
   "execution_count": null,
   "metadata": {},
   "outputs": [],
   "source": [
    "!combineCards.py rej=datacard_ratio_rej.txt acc=datacard_ratio_acc.txt > datacard_ratio.txt\n",
    "\n",
    "# get obseverved goodness of fit test statistic (signal strength = 0)\n",
    "!combine -M GoodnessOfFit --algo saturated --fixedSignalStrength 0 -d datacard_ratio.txt\n",
    "\n",
    "# get expected goodness of fit test statistic distribution from frequentist toys\n",
    "!combine -M GoodnessOfFit --algo saturated --fixedSignalStrength 0 -d datacard_ratio.txt -t 100 --toysFreq"
   ]
  },
  {
   "cell_type": "code",
   "execution_count": 9,
   "metadata": {},
   "outputs": [
    {
     "name": "stdout",
     "output_type": "stream",
     "text": [
      "p-value = 0.01\n"
     ]
    }
   ],
   "source": [
    "# open file\n",
    "obs_gof_file = uproot.open('higgsCombineTest.GoodnessOfFit.mH120.root')\n",
    "obs_gof = obs_gof_file['limit'].arrays('limit')['limit'][0]\n",
    "\n",
    "exp_gof_file = uproot.open('higgsCombineTest.GoodnessOfFit.mH120.123456.root')\n",
    "exp_gof = exp_gof_file['limit'].arrays('limit')['limit']\n",
    "\n",
    "# # get p-value\n",
    "n_extreme = len(exp_gof[exp_gof > obs_gof])\n",
    "n_total = len(exp_gof)\n",
    "pval = 1.*n_extreme/n_total\n",
    "print 'p-value = %.2f'%pval"
   ]
  },
  {
   "cell_type": "code",
   "execution_count": 10,
   "metadata": {},
   "outputs": [
    {
     "data": {
      "image/png": "[encoded data removed]",
      "text/plain": [
       "<IPython.core.display.Image object>"
      ]
     },
     "metadata": {},
     "output_type": "display_data"
    }
   ],
   "source": [
    "exp_gof_hist = rt.TH1D('gof','gof',30,min(exp_gof)-10, max(exp_gof)+10)\n",
    "exp_gof_hist_gt = rt.TH1D('gof_gt','gof_gt',30,min(exp_gof)-10, max(exp_gof)+10)\n",
    "for g in exp_gof: \n",
    "    exp_gof_hist.Fill(g)\n",
    "    if g > obs_gof: \n",
    "        exp_gof_hist_gt.Fill(g)\n",
    "d = rt.TCanvas('d','d',500,400)\n",
    "tleg = rt.TLegend(0.58,0.6,0.88,0.7)\n",
    "tleg.SetLineWidth(0)\n",
    "exp_gof_hist.Draw('hist')\n",
    "exp_gof_hist_gt.SetFillColor(rt.kBlue-10)\n",
    "exp_gof_hist_gt.Draw('fhistsame')\n",
    "line = rt.TLine(obs_gof,0,obs_gof,exp_gof_hist.GetMaximum())\n",
    "line.SetLineWidth(2)\n",
    "line.Draw()\n",
    "tleg.AddEntry(exp_gof_hist_gt,'p-value = %.2f'%pval)\n",
    "tleg.Draw()\n",
    "d.Draw()"
   ]
  },
  {
   "cell_type": "code",
   "execution_count": null,
   "metadata": {},
   "outputs": [],
   "source": [
    "# get significance for a range of signal cross sections\n",
    "import os\n",
    "\n",
    "orig_xsec = 10.\n",
    "xsec_to_scan = np.logspace(-4,0,10)\n",
    "\n",
    "for mu in xsec_to_scan/orig_xsec:    \n",
    "    os.environ['MU'] = str(mu)\n",
    "    !combine -M Significance --setParameters r=${MU} -d datacard_ratio.txt -t -1 -n mu_${MU}"
   ]
  },
  {
   "cell_type": "code",
   "execution_count": 12,
   "metadata": {},
   "outputs": [
    {
     "name": "stdout",
     "output_type": "stream",
     "text": [
      "('xsec', 0.0001, 'mu', 1e-05, 'pval', 0.5, 'signif', 0.0)\n",
      "('xsec', 0.0002782559402207126, 'mu', 2.7825594022071256e-05, 'pval', 0.5, 'signif', 0.0)\n",
      "('xsec', 0.000774263682681127, 'mu', 7.74263682681127e-05, 'pval', 0.5, 'signif', 0.0)\n",
      "('xsec', 0.002154434690031882, 'mu', 0.0002154434690031882, 'pval', 0.49650983725510334, 'signif', 0.008748652220199582)\n",
      "('xsec', 0.005994842503189409, 'mu', 0.0005994842503189409, 'pval', 0.48868605676915694, 'signif', 0.028363652619024182)\n",
      "('xsec', 0.016681005372000592, 'mu', 0.0016681005372000592, 'pval', 0.4668083592913855, 'signif', 0.08329532362318469)\n",
      "('xsec', 0.046415888336127774, 'mu', 0.004641588833612777, 'pval', 0.4083512056567598, 'signif', 0.23178834318751462)\n",
      "('xsec', 0.12915496650148828, 'mu', 0.012915496650148827, 'pval', 0.26149654340481976, 'signif', 0.6387384625155118)\n",
      "('xsec', 0.3593813663804626, 'mu', 0.03593813663804626, 'pval', 0.04144765215349881, 'signif', 1.7341283952814823)\n",
      "('xsec', 1.0, 'mu', 0.1, 'pval', 2.1808004816063374e-06, 'signif', 4.593362665379403)\n"
     ]
    }
   ],
   "source": [
    "# open file\n",
    "for mu in xsec_to_scan/orig_xsec:    \n",
    "    xsec = mu*orig_xsec\n",
    "    signif_file = uproot.open('higgsCombinemu_%s.Significance.mH120.root'%str(mu))\n",
    "    signif = signif_file['limit'].arrays('limit')['limit'][0]\n",
    "    pval = rt.RooStats.SignificanceToPValue(signif)\n",
    "    \n",
    "    print('xsec', xsec, 'mu', mu, 'pval', pval, 'signif', signif)"
   ]
  },
  {
   "cell_type": "code",
   "execution_count": null,
   "metadata": {},
   "outputs": [],
   "source": [
    "# check just regular fit\n",
    "!combine -M FitDiagnostics -d datacard_ratio.txt --plots -v 2"
   ]
  },
  {
   "cell_type": "code",
   "execution_count": 14,
   "metadata": {},
   "outputs": [
    {
     "data": {
      "image/png": "[encoded data removed]",
      "text/plain": [
       "<IPython.core.display.Image object>"
      ]
     },
     "execution_count": 14,
     "metadata": {},
     "output_type": "execute_result"
    }
   ],
   "source": [
    "# accept region doesn't look great\n",
    "from IPython.display import Image\n",
    "Image(filename='acc_x_fit_b.png') "
   ]
  },
  {
   "cell_type": "code",
   "execution_count": null,
   "metadata": {},
   "outputs": [],
   "source": []
  }
 ],
 "metadata": {
  "kernelspec": {
   "display_name": "Python 2",
   "language": "python",
   "name": "python2"
  },
  "language_info": {
   "codemirror_mode": {
    "name": "ipython",
    "version": 2
   },
   "file_extension": ".py",
   "mimetype": "text/x-python",
   "name": "python",
   "nbconvert_exporter": "python",
   "pygments_lexer": "ipython2",
   "version": "2.7.14+"
  }
 },
 "nbformat": 4,
 "nbformat_minor": 2
}
