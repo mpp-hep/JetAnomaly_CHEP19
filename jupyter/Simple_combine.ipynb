{
 "cells": [
  {
   "cell_type": "code",
   "execution_count": 1,
   "metadata": {},
   "outputs": [
    {
     "name": "stdout",
     "output_type": "stream",
     "text": [
      "Welcome to JupyROOT 6.12/07\n"
     ]
    }
   ],
   "source": [
    "import numpy as np\n",
    "import ROOT as rt\n",
    "import uproot"
   ]
  },
  {
   "cell_type": "code",
   "execution_count": 2,
   "metadata": {},
   "outputs": [],
   "source": [
    "# background, data counts taken from Thong in Slack\n",
    "h_a_bin_content = [2867.0, 1958.0, 1354.0, 943.0, 733.0, 544.0, 385.0, 283.0, 208.0, 159.0, 137.0, \n",
    "                   88.0, 87.0, 64.0, 40.0, 30.0, 36.0, 27.0, 15.0, 11.0, 14.0, 8.0, 4.0, 5.0, 5.0, \n",
    "                   8.0, 5.0, 3.0, 5.0, 2.0]\n",
    "h_r_bin_content = [282266.0, 194922.0, 136354.0, 96062.0, 69503.0, 51147.0, 37484.0, 28032.0, 20982.0, \n",
    "                   15861.0, 12286.0, 9284.0, 7283.0, 5580.0, 4476.0, 3594.0, 2792.0, 2293.0, 1822.0, \n",
    "                   1469.0, 1188.0, 961.0, 797.0, 624.0, 540.0, 444.0, 334.0, 310.0, 247.0, 188.0]\n",
    "bin_center_value = [1134.5267613891604, 1203.580284167481, 1272.6338069458018, 1341.6873297241227, \n",
    "                    1410.7408525024434, 1479.7943752807641, 1548.847898059085, 1617.9014208374058, \n",
    "                    1686.9549436157265, 1756.0084663940472, 1825.061989172368, 1894.1155119506889, \n",
    "                    1963.1690347290096, 2032.2225575073303, 2101.2760802856515, 2170.329603063972, \n",
    "                    2239.383125842293, 2308.4366486206136, 2377.4901713989343, 2446.5436941772555, \n",
    "                    2515.5972169555757, 2584.650739733897, 2653.7042625122176, 2722.7577852905383, \n",
    "                    2791.811308068859, 2860.8648308471797, 2929.9183536255005, 2998.971876403821, \n",
    "                    3068.0253991821423, 3137.0789219604626]\n",
    "bin_width = bin_center_value[1]-bin_center_value[0]\n",
    "bin_edges = [b-bin_width/2. for b in bin_center_value]+[bin_center_value[-1]+b-bin_width/2.]\n",
    "\n",
    "n_bins = len(bin_edges)-1\n",
    "max_bin = bin_edges[-1]\n",
    "min_bin = bin_edges[0]"
   ]
  },
  {
   "cell_type": "code",
   "execution_count": 3,
   "metadata": {},
   "outputs": [],
   "source": [
    "# dummy signal (not used)\n",
    "PEAK = 3000\n",
    "WIDTH = 300\n",
    "SIGEVENTS = 300\n",
    "signal = np.random.normal(PEAK, WIDTH, SIGEVENTS)"
   ]
  },
  {
   "cell_type": "code",
   "execution_count": 4,
   "metadata": {},
   "outputs": [
    {
     "name": "stdout",
     "output_type": "stream",
     "text": [
      "('before scaling', 531.287116350472)\n",
      "('before scaling', 282266.0)\n",
      "('after scaling', 5.3863234705042675)\n",
      "('after scaling', 2861.684264375079)\n"
     ]
    }
   ],
   "source": [
    "# prepare histograms and scale\n",
    "background_hist = rt.TH1D('background','background', n_bins, min_bin, max_bin)\n",
    "signal_hist = rt.TH1D('signal','signal', n_bins, min_bin, max_bin)\n",
    "data_hist = rt.TH1D('data_obs','data_obs', n_bins, min_bin, max_bin)\n",
    "for i, b in enumerate(h_r_bin_content):\n",
    "    background_hist.SetBinContent(i+1, b)\n",
    "for s in signal:\n",
    "    signal_hist.Fill(s)\n",
    "for i, d in enumerate(h_a_bin_content):\n",
    "    data_hist.SetBinContent(i+1, d)\n",
    "    \n",
    "print(\"before scaling\", background_hist.GetBinError(1))\n",
    "print(\"before scaling\", background_hist.GetBinContent(1))\n",
    "data_hist.Sumw2()\n",
    "signal_hist.Sumw2()\n",
    "background_hist.Sumw2()\n",
    "epsilon = data_hist.Integral()/background_hist.Integral()\n",
    "background_hist.Scale(epsilon)\n",
    "print(\"after scaling\", background_hist.GetBinError(1))\n",
    "print(\"after scaling\", background_hist.GetBinContent(1))"
   ]
  },
  {
   "cell_type": "code",
   "execution_count": 5,
   "metadata": {},
   "outputs": [
    {
     "data": {
      "image/png": "[encoded data removed]",
      "text/plain": [
       "<IPython.core.display.Image object>"
      ]
     },
     "metadata": {},
     "output_type": "display_data"
    }
   ],
   "source": [
    "# plot background, signal, data\n",
    "c = rt.TCanvas('c','c',500,400)\n",
    "background_hist.SetLineColor(rt.kBlue)\n",
    "background_hist.Draw('hist')\n",
    "\n",
    "signal_hist.SetLineColor(rt.kRed)\n",
    "signal_hist.Draw('histsame')\n",
    "\n",
    "data_hist.SetLineColor(rt.kBlack)\n",
    "data_hist.SetMarkerColor(rt.kBlack)\n",
    "data_hist.SetMarkerStyle(20)\n",
    "data_hist.SetMarkerSize(0.5)\n",
    "data_hist.Draw('pezsame')\n",
    "c.Draw()"
   ]
  },
  {
   "cell_type": "code",
   "execution_count": 6,
   "metadata": {},
   "outputs": [],
   "source": [
    "# datacard template\n",
    "# no background normalization uncertainty\n",
    "# autoMCStats uncertainty\n",
    "datacard = \\\n",
    "'''\n",
    "imax 1\n",
    "jmax 1\n",
    "kmax *\n",
    "---------------\n",
    "shapes * * datacard_hist.root $PROCESS $PROCESS_$SYSTEMATIC\n",
    "---------------\n",
    "bin acc\n",
    "observation {OBS}\n",
    "------------------------------\n",
    "bin             acc     acc\n",
    "process         signal     background\n",
    "process         0          1\n",
    "rate            {SIGRATE}    {BKGRATE}\n",
    "--------------------------------\n",
    "#bgnorm   lnN    1.00       1.30\n",
    "* autoMCStats 0 0 1\n",
    "'''"
   ]
  },
  {
   "cell_type": "code",
   "execution_count": 7,
   "metadata": {},
   "outputs": [
    {
     "name": "stdout",
     "output_type": "stream",
     "text": [
      "\n",
      "imax 1\n",
      "jmax 1\n",
      "kmax *\n",
      "---------------\n",
      "shapes * * datacard_hist.root $PROCESS $PROCESS_$SYSTEMATIC\n",
      "---------------\n",
      "bin acc\n",
      "observation 10028.0\n",
      "------------------------------\n",
      "bin             acc     acc\n",
      "process         signal     background\n",
      "process         0          1\n",
      "rate            300.0    10028.0\n",
      "--------------------------------\n",
      "#bgnorm   lnN    1.00       1.30\n",
      "* autoMCStats 0 0 1\n",
      "\n"
     ]
    }
   ],
   "source": [
    "# write histograms to root file \n",
    "datacard_hist = rt.TFile.Open('datacard_hist.root','recreate')\n",
    "datacard_hist.cd()\n",
    "background_hist.Write()\n",
    "signal_hist.Write()\n",
    "data_hist.Write()\n",
    "datacard_hist.Close()\n",
    "\n",
    "# write datacard\n",
    "datacard_real = datacard.format(SIGRATE=signal_hist.Integral(), BKGRATE=background_hist.Integral(), OBS=data_hist.Integral())\n",
    "print(datacard_real)\n",
    "with open('datacard.txt','w') as f:\n",
    "    f.write(datacard_real)"
   ]
  },
  {
   "cell_type": "code",
   "execution_count": null,
   "metadata": {},
   "outputs": [],
   "source": [
    "# get obseverved goodness of fit test statistic (signal strength = 0)\n",
    "!combine -M GoodnessOfFit --algo saturated --fixedSignalStrength 0 -d datacard.txt\n",
    "\n",
    "# get expected goodness of fit test statistic distribution from frequentist toys\n",
    "!combine -M GoodnessOfFit --algo saturated --fixedSignalStrength 0 -d datacard.txt -t 500 --toysFreq "
   ]
  },
  {
   "cell_type": "code",
   "execution_count": 9,
   "metadata": {},
   "outputs": [
    {
     "name": "stdout",
     "output_type": "stream",
     "text": [
      "p-value = 0.81\n"
     ]
    }
   ],
   "source": [
    "# open file\n",
    "obs_gof_file = uproot.open('higgsCombineTest.GoodnessOfFit.mH120.root')\n",
    "obs_gof = obs_gof_file['limit'].arrays('limit')['limit'][0]\n",
    "\n",
    "exp_gof_file = uproot.open('higgsCombineTest.GoodnessOfFit.mH120.123456.root')\n",
    "exp_gof = exp_gof_file['limit'].arrays('limit')['limit']\n",
    "\n",
    "# # get p-value\n",
    "n_extreme = len(exp_gof[exp_gof > obs_gof])\n",
    "n_total = len(exp_gof)\n",
    "pval = 1.*n_extreme/n_total\n",
    "print 'p-value = %.2f'%pval"
   ]
  },
  {
   "cell_type": "code",
   "execution_count": 10,
   "metadata": {},
   "outputs": [
    {
     "data": {
      "image/png": "[encoded data removed]",
      "text/plain": [
       "<IPython.core.display.Image object>"
      ]
     },
     "metadata": {},
     "output_type": "display_data"
    }
   ],
   "source": [
    "exp_gof_hist = rt.TH1D('gof','gof',30,min(exp_gof)-10, max(exp_gof)+10)\n",
    "exp_gof_hist_gt = rt.TH1D('gof_gt','gof_gt',30,min(exp_gof)-10, max(exp_gof)+10)\n",
    "for g in exp_gof: \n",
    "    exp_gof_hist.Fill(g)\n",
    "    if g > obs_gof: \n",
    "        exp_gof_hist_gt.Fill(g)\n",
    "d = rt.TCanvas('d','d',500,400)\n",
    "tleg = rt.TLegend(0.58,0.6,0.88,0.7)\n",
    "tleg.SetLineWidth(0)\n",
    "exp_gof_hist.Draw('hist')\n",
    "exp_gof_hist_gt.SetFillColor(rt.kBlue-10)\n",
    "exp_gof_hist_gt.Draw('fhistsame')\n",
    "line = rt.TLine(obs_gof,0,obs_gof,exp_gof_hist.GetMaximum())\n",
    "line.SetLineWidth(2)\n",
    "line.Draw()\n",
    "tleg.AddEntry(exp_gof_hist_gt,'p-value = %.2f'%pval)\n",
    "tleg.Draw()\n",
    "d.Draw()"
   ]
  },
  {
   "cell_type": "code",
   "execution_count": null,
   "metadata": {},
   "outputs": [],
   "source": []
  }
 ],
 "metadata": {
  "kernelspec": {
   "display_name": "Python 2",
   "language": "python",
   "name": "python2"
  },
  "language_info": {
   "codemirror_mode": {
    "name": "ipython",
    "version": 2
   },
   "file_extension": ".py",
   "mimetype": "text/x-python",
   "name": "python",
   "nbconvert_exporter": "python",
   "pygments_lexer": "ipython2",
   "version": "2.7.14+"
  }
 },
 "nbformat": 4,
 "nbformat_minor": 2
}
