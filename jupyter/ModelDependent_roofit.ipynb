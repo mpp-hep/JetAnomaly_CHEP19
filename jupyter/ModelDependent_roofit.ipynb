{
 "cells": [
  {
   "cell_type": "code",
   "execution_count": 1,
   "metadata": {
    "ExecuteTime": {
     "end_time": "2019-08-02T11:11:35.407272Z",
     "start_time": "2019-08-02T11:11:35.396244Z"
    }
   },
   "outputs": [],
   "source": [
    "Mjj_selection = 1000.\n",
    "\n",
    "binning=[50, Mjj_selection, 3000.]\n",
    "\n",
    "#Used just to get some files\n",
    "vae_loss = 'mae'"
   ]
  },
  {
   "cell_type": "markdown",
   "metadata": {},
   "source": [
    "# Imports"
   ]
  },
  {
   "cell_type": "code",
   "execution_count": 2,
   "metadata": {
    "ExecuteTime": {
     "end_time": "2019-08-02T11:11:42.211684Z",
     "start_time": "2019-08-02T11:11:35.412376Z"
    }
   },
   "outputs": [
    {
     "name": "stdout",
     "output_type": "stream",
     "text": [
      "Welcome to JupyROOT 6.16/00\n"
     ]
    }
   ],
   "source": [
    "from __future__ import print_function\n",
    "\n",
    "import h5py, os, sys, glob, datetime, time, pickle\n",
    "sys.path.append('../lib')\n",
    "from glob import glob\n",
    "import numpy as np\n",
    "import scipy as sp\n",
    "from scipy.special import erf\n",
    "\n",
    "import matplotlib.pyplot as plt\n",
    "import matplotlib\n",
    "matplotlib.rcParams.update({'font.size': 18})\n",
    "from matplotlib.colors import LogNorm\n",
    "\n",
    "from prettytable import PrettyTable\n",
    "\n",
    "import ROOT as rt\n",
    "rt.gErrorIgnoreLevel = rt.kError\n",
    "rt.RooMsgService.instance().setGlobalKillBelow(rt.RooFit.ERROR)\n",
    "import ROOT.RooFit as rf\n",
    "\n",
    "from histo_utilities import create_TH2D, create_TH1D, create_Canvas, make_effiency_plot, rootTH1_to_np\n",
    "from progressBar import ProgressBar\n",
    "\n",
    "from cebefo_style import cebefo_style\n",
    "cebefo_style()\n",
    "\n",
    "dnd = []"
   ]
  },
  {
   "cell_type": "markdown",
   "metadata": {},
   "source": [
    "# Analyze signal region"
   ]
  },
  {
   "cell_type": "code",
   "execution_count": 3,
   "metadata": {
    "ExecuteTime": {
     "end_time": "2019-08-02T11:11:42.236908Z",
     "start_time": "2019-08-02T11:11:42.217647Z"
    }
   },
   "outputs": [],
   "source": [
    "sample_loc = {'qcd':'qcd_dEta_signalregion_results.h5',\n",
    "              'AtoZZZ':'AtoHZ_to_ZZZ_13TeV_PU40_results.h5',\n",
    "              'GtoWW':'RSGraviton_WW_NARROW_13TeV_PU40_results.h5',\n",
    "              'GtoBtt':'RSGraviton_tt_BROAD_13TeV_PU40_results.h5',\n",
    "              'GtoNtt':'RSGraviton_tt_NARROW_13TeV_PU40_results.h5'\n",
    "             }\n",
    "\n",
    "sample_label = {'qcd':r'QCD',\n",
    "                'AtoZZZ':r'$A\\to ZZZ$',\n",
    "                'GtoWW':r'$G\\to WW$',\n",
    "                'GtoBtt':r'$G_{B}\\to t\\bar{t}$',\n",
    "                'GtoNtt':r'$G_{N}\\to t\\bar{t}$'\n",
    "               }\n",
    "\n",
    "sample_label_ROOT = {'qcd':'QCD',\n",
    "                'AtoZZZ':'A #rightarrow ZZZ',\n",
    "                'GtoWW':'G #rightarrow WW',\n",
    "                'GtoBtt':'G_{B} #rightarrow t#bar{t}',\n",
    "                'GtoNtt':'G_{N} #rightarrow t#bar{t}'\n",
    "               }\n",
    "\n",
    "SM_samples = ['qcd']\n",
    "BSM_samples = ['AtoZZZ', 'GtoWW', 'GtoBtt', 'GtoNtt']\n",
    "\n",
    "sample_nGenEvts = {'qcd': 418*10000,\n",
    "                   'AtoZZZ': 100*1000,\n",
    "                   'GtoWW': 100*1000,\n",
    "                   'GtoBtt': 96*1000,\n",
    "                   'GtoNtt': 96*1000\n",
    "                  }\n",
    "\n",
    "sample_xsec = {'qcd': 8734.0 #pb\n",
    "              }"
   ]
  },
  {
   "cell_type": "markdown",
   "metadata": {},
   "source": [
    "### Get the data"
   ]
  },
  {
   "cell_type": "code",
   "execution_count": 4,
   "metadata": {
    "ExecuteTime": {
     "end_time": "2019-08-02T11:11:44.470935Z",
     "start_time": "2019-08-02T11:11:42.243127Z"
    },
    "code_folding": []
   },
   "outputs": [
    {
     "name": "stdout",
     "output_type": "stream",
     "text": [
      "+--------+----------+--------------+\n",
      "| Sample | Trg evts | Eff. trg [%] |\n",
      "+--------+----------+--------------+\n",
      "| GtoBtt |  65082   |     67.8     |\n",
      "| GtoWW  |  52408   |     52.4     |\n",
      "| GtoNtt |  63748   |     66.4     |\n",
      "| AtoZZZ |  63490   |     63.5     |\n",
      "|  qcd   |  86911   |     2.1      |\n",
      "+--------+----------+--------------+\n"
     ]
    }
   ],
   "source": [
    "data = {}\n",
    "sample_eff = {}\n",
    "table = PrettyTable()\n",
    "table.field_names = ['Sample', 'Trg evts', 'Eff. trg [%]']\n",
    "\n",
    "for n, fname in sample_loc.iteritems():\n",
    "    f = h5py.File('../data/vae_'+vae_loss+'/'+fname, 'r')\n",
    "    x = np.array(f.get(\"results\"))\n",
    "\n",
    "    # apply the dijet mass cut\n",
    "    sel_Mjj = x[:,0] > Mjj_selection\n",
    "    x = x[sel_Mjj]\n",
    "    \n",
    "    sample_eff[n] = float(x.shape[0])/sample_nGenEvts[n]\n",
    "    \n",
    "    dt = [(str(s), '<f4') for s in list(f.get(\"labels\"))]\n",
    "    data[n] = np.array(list(zip(*x.T)), dtype=dt)\n",
    "    \n",
    "    table.add_row([n, data[n]['mJJ'].shape[0], '{:.1f}'.format(100*sample_eff[n])])\n",
    "    \n",
    "print(table)"
   ]
  },
  {
   "cell_type": "markdown",
   "metadata": {
    "ExecuteTime": {
     "end_time": "2019-07-26T13:30:40.258958Z",
     "start_time": "2019-07-26T13:30:40.240906Z"
    }
   },
   "source": [
    "## Find the p-value as a function of xsec"
   ]
  },
  {
   "cell_type": "code",
   "execution_count": 5,
   "metadata": {
    "ExecuteTime": {
     "end_time": "2019-08-02T11:11:44.492052Z",
     "start_time": "2019-08-02T11:11:44.476214Z"
    }
   },
   "outputs": [],
   "source": [
    "lumi = 100. #pb^-1\n",
    "\n",
    "N_exp_per_xsec = 300"
   ]
  },
  {
   "cell_type": "code",
   "execution_count": 6,
   "metadata": {
    "ExecuteTime": {
     "end_time": "2019-08-02T11:11:44.866396Z",
     "start_time": "2019-08-02T11:11:44.497867Z"
    }
   },
   "outputs": [],
   "source": [
    "mjj = rt.RooRealVar('m', 'M_{jj}', binning[1], binning[2], 'GeV')\n",
    "mjj.setBins(binning[0])\n",
    "\n",
    "h_SM = create_TH1D(data['qcd']['mJJ'], name='h_SM_full', title='SM full stat', \n",
    "                   binning=binning, opt='overflow')\n",
    "rdh_SM = rt.RooDataHist('rdh_SM_full', 'SM full stat', rt.RooArgList(mjj), h_SM)\n",
    "pdf_SM = rt.RooHistPdf('pdf_SM', 'pdf_SM', rt.RooArgSet(mjj), rdh_SM)\n",
    "\n",
    "nExpEvtsSM = 0\n",
    "for n in SM_samples:\n",
    "    nExpEvtsSM += lumi*sample_xsec[n]*sample_eff[n]\n",
    "nSM = rt.RooRealVar('nSM', 'Number of background events', nExpEvtsSM, 0, 100*nExpEvtsSM)"
   ]
  },
  {
   "cell_type": "code",
   "execution_count": null,
   "metadata": {
    "ExecuteTime": {
     "start_time": "2019-08-02T11:11:35.404Z"
    },
    "code_folding": [],
    "scrolled": false
   },
   "outputs": [
    {
     "name": "stdout",
     "output_type": "stream",
     "text": [
      "\n",
      "\n",
      "AtoZZZ\n",
      "xsec BSM 1.0e-02 pb\n",
      "xsec BSM 1.4e-02 pb\n",
      "xsec BSM 1.8e-02 pb\n",
      "xsec BSM 2.5e-02 pb\n",
      "xsec BSM 3.3e-02 pb\n",
      "xsec BSM 4.5e-02 pb\n",
      "xsec BSM 6.1e-02 pb\n",
      "xsec BSM 8.2e-02 pb\n",
      "xsec BSM 1.1e-01 pb\n",
      "xsec BSM 1.5e-01 pb\n",
      "xsec BSM 2.0e-01 pb\n",
      "xsec BSM 2.7e-01 pb\n",
      "xsec BSM 3.7e-01 pb\n",
      "xsec BSM 5.0e-01 pb\n",
      "xsec BSM 6.7e-01 pb\n",
      "xsec BSM 9.0e-01 pb\n",
      "xsec BSM 1.2e+00 pb\n",
      "xsec BSM 1.6e+00 pb\n",
      "xsec BSM 2.2e+00 pb\n",
      "xsec BSM 3.0e+00 pb\n",
      "\n",
      "\n",
      "GtoWW\n",
      "xsec BSM 1.0e-02 pb\n",
      "xsec BSM 1.4e-02 pb\n",
      "xsec BSM 1.8e-02 pb\n",
      "xsec BSM 2.5e-02 pb\n",
      "xsec BSM 3.3e-02 pb\n",
      "xsec BSM 4.5e-02 pb\n",
      "xsec BSM 6.1e-02 pb\n",
      "xsec BSM 8.2e-02 pb\n",
      "xsec BSM 1.1e-01 pb\n",
      "xsec BSM 1.5e-01 pb\n",
      "xsec BSM 2.0e-01 pb\n",
      "xsec BSM 2.7e-01 pb\n",
      "xsec BSM 3.7e-01 pb\n",
      "xsec BSM 5.0e-01 pb\n",
      "xsec BSM 6.7e-01 pb\n",
      "xsec BSM 9.0e-01 pb\n",
      "xsec BSM 1.2e+00 pb\n",
      "xsec BSM 1.6e+00 pb\n",
      "xsec BSM 2.2e+00 pb\n",
      "xsec BSM 3.0e+00 pb\n",
      "\n",
      "\n",
      "GtoBtt\n",
      "xsec BSM 1.0e-02 pb\n",
      "xsec BSM 1.4e-02 pb\n",
      "xsec BSM 1.8e-02 pb\n",
      "xsec BSM 2.5e-02 pb\n",
      "xsec BSM 3.3e-02 pb\n",
      "xsec BSM 4.5e-02 pb\n",
      "xsec BSM 6.1e-02 pb\n",
      "xsec BSM 8.2e-02 pb\n",
      "xsec BSM 1.1e-01 pb\n",
      "xsec BSM 1.5e-01 pb\n",
      "xsec BSM 2.0e-01 pb\n",
      "xsec BSM 2.7e-01 pb\n",
      "xsec BSM 3.7e-01 pb\n",
      "xsec BSM 5.0e-01 pb\n",
      "xsec BSM 6.7e-01 pb\n",
      "xsec BSM 9.0e-01 pb\n",
      "xsec BSM 1.2e+00 pb\n",
      "xsec BSM 1.6e+00 pb\n",
      "xsec BSM 2.2e+00 pb\n",
      "xsec BSM 3.0e+00 pb\n",
      "\n",
      "\n",
      "GtoNtt\n",
      "xsec BSM 1.0e-02 pb\n",
      "xsec BSM 1.4e-02 pb\n",
      "xsec BSM 1.8e-02 pb\n",
      "xsec BSM 2.5e-02 pb\n",
      "xsec BSM 3.3e-02 pb\n",
      "xsec BSM 4.5e-02 pb\n",
      "xsec BSM 6.1e-02 pb\n",
      "xsec BSM 8.2e-02 pb\n",
      "xsec BSM 1.1e-01 pb\n",
      "xsec BSM 1.5e-01 pb\n",
      "xsec BSM 2.0e-01 pb\n",
      "xsec BSM 2.7e-01 pb\n",
      "xsec BSM 3.7e-01 pb\n",
      "xsec BSM 5.0e-01 pb\n",
      "xsec BSM 6.7e-01 pb\n",
      "xsec BSM 9.0e-01 pb\n",
      "xsec BSM 1.2e+00 pb\n",
      "xsec BSM 1.6e+00 pb\n",
      "xsec BSM 2.2e+00 pb\n",
      "xsec BSM 3.0e+00 pb\n"
     ]
    }
   ],
   "source": [
    "dic_p_val = {}\n",
    "\n",
    "for name_BSM in BSM_samples:\n",
    "    print('\\n\\n'+name_BSM)\n",
    "    dic_p_val[name_BSM] = []\n",
    "    \n",
    "    h_BSM = create_TH1D(data[name_BSM]['mJJ'], name='h_BSM_full', title='BSM full stat', \n",
    "                    binning=binning, opt='overflow')\n",
    "    rdh_BSM = rt.RooDataHist('rdh_BSM_full', 'BSM full stat', rt.RooArgList(mjj), h_BSM)\n",
    "    pdf_BSM = rt.RooHistPdf('pdf_BSM', 'pdf_BSM', rt.RooArgSet(mjj), rdh_BSM)\n",
    "    \n",
    "    nBSM = rt.RooRealVar('nBSM', 'Number of signal events', 100, 0, 1000)\n",
    "    pdf_tot = rt.RooAddPdf('pdf_tot', 'pdf_tot', rt.RooArgList(pdf_SM, pdf_BSM), rt.RooArgList(nSM, nBSM))\n",
    "\n",
    "    for xsec_BSM in np.logspace(-2, np.log10(3), 20): \n",
    "        print('xsec BSM {:.1e} pb'.format(xsec_BSM))\n",
    "        \n",
    "        nExpEvtsBSM = lumi*xsec_BSM*sample_eff[name_BSM]\n",
    "        nBSM.setMax(100*nExpEvtsBSM)\n",
    "\n",
    "        p_val_test = []\n",
    "        for i_exp in range(N_exp_per_xsec):\n",
    "            d_obs = np.zeros((0,))\n",
    "\n",
    "            sample_xsec[name_BSM] = xsec_BSM\n",
    "            for n in SM_samples + [name_BSM]:\n",
    "                nExpEvts = lumi*sample_xsec[n]*sample_eff[n]\n",
    "                nEvts = np.random.poisson(nExpEvts)\n",
    "                if data[n]['mJJ'].shape[0] < nEvts:\n",
    "                    print('[WARNING] ' + n + ' re-use factor = {:.2f}'.format(float(nEvts)/data[n]['mJJ'].shape[0]))\n",
    "                evtsIdx = np.random.randint(0, data[n]['mJJ'].shape[0], size=(nEvts,))\n",
    "\n",
    "                d_obs = np.concatenate((d_obs, data[n]['mJJ'][evtsIdx]))\n",
    "\n",
    "            h_data = create_TH1D(d_obs, name='h_data', title='Pseudo-data', binning=binning, opt='overflow')\n",
    "            rdh_data = rt.RooDataHist('rdh_data', 'Pseudo-data', rt.RooArgList(mjj), h_data)\n",
    "\n",
    "            nBSM.setVal(10*nExpEvtsBSM)\n",
    "            nBSM.setConstant(False)\n",
    "            nSM.setVal(nExpEvtsSM)\n",
    "            nSM.setConstant(False)\n",
    "            res_SB = pdf_tot.fitTo(rdh_data, rf.Save(), rf.PrintLevel(-1))\n",
    "\n",
    "            #print\n",
    "            if i_exp == 0:\n",
    "                frame = mjj.frame(rt.RooFit.Title(' '))\n",
    "                leg = rt.TLegend(0.6, 0.7, 0.9, 0.9)\n",
    "                leg.SetBorderSize(0)\n",
    "                leg.SetFillStyle(1001)\n",
    "                leg.SetFillColor(0)\n",
    "\n",
    "                rdh_data.plotOn(frame, rf.Name('data'))\n",
    "                leg.AddEntry(frame.findObject('data'),'Pseudo-data','lep')\n",
    "\n",
    "                pdf_tot.plotOn(frame,\n",
    "                               rf.Normalization(1.0, rt.RooAbsReal.RelativeExpected),\n",
    "                               rf.LineColor(4), rf.LineWidth(2), rf.Name('sig_p_bkg'))\n",
    "                leg.AddEntry(frame.findObject('sig_p_bkg'),'S + B','l')\n",
    "\n",
    "                pdf_tot.plotOn(frame, rf.Components('pdf_BSM'), \n",
    "                               rf.Normalization(1.0, rt.RooAbsReal.RelativeExpected),\n",
    "                               rf.LineColor(2), rf.LineWidth(2), rf.Name('sig'))\n",
    "                leg.AddEntry(frame.findObject('sig'),'Signal','l')\n",
    "\n",
    "\n",
    "                pdf_tot.plotOn(frame, rf.Components('pdf_SM'), \n",
    "                               rf.Normalization(1.0, rt.RooAbsReal.RelativeExpected),\n",
    "                               rf.LineColor(4), rf.LineWidth(2), rf.LineStyle(rt.kDashed), rf.Name('bkg'))\n",
    "                leg.AddEntry(frame.findObject('bkg'),'Background','l')\n",
    "\n",
    "                c = create_Canvas(size=(600,600))\n",
    "                rt.gPad.SetLeftMargin(0.14)\n",
    "                rt.gPad.SetRightMargin(0.05)\n",
    "                frame.GetYaxis().SetTitleOffset(1.3)\n",
    "                frame.GetXaxis().SetNdivisions(506)\n",
    "                frame.SetAxisRange(0.5, 2*h_data.GetMaximum(), 'Y')\n",
    "                frame.Draw()\n",
    "\n",
    "                lumi_text = '{:.1f} fb^{{-1}} (14 TeV), '.format(1e-3*lumi) + sample_label_ROOT[name_BSM] + ' ({:.2} pb)'.format(xsec_BSM)\n",
    "                latex = rt.TLatex()\n",
    "                latex.SetNDC()\n",
    "                latex.SetTextSize(0.04)\n",
    "                latex.SetTextAlign(31)\n",
    "                t = rt.gPad.GetTopMargin()\n",
    "                r = rt.gPad.GetRightMargin()\n",
    "                latex.DrawLatex(1-r, 1-0.85*t, lumi_text)\n",
    "\n",
    "                leg.Draw()\n",
    "                c.SetLogy()\n",
    "\n",
    "            nBSM.setVal(0)\n",
    "            nBSM.setConstant(True)\n",
    "            nSM.setVal(nExpEvtsSM)\n",
    "            res_B = pdf_tot.fitTo(rdh_data, rf.Save(), rf.PrintLevel(-1))\n",
    "\n",
    "            l = 2*(res_B.minNll() - res_SB.minNll())\n",
    "\n",
    "            p_val = rt.Math.chisquared_cdf_c(l, 1)\n",
    "\n",
    "            if i_exp == 0:\n",
    "                latex.SetTextAlign(13)\n",
    "                l = rt.gPad.GetLeftMargin()\n",
    "                latex.DrawLatex(l*1.3, 1-1.4*t, 'p-val: {:1.2e} %'.format(100*p_val))\n",
    "\n",
    "                fig_name = '../fig/ModelDependentAnalysis_roofit/massSpectrum/'\n",
    "                fig_name += name_BSM + '{:1.2e}'.format(xsec_BSM) + 'pb' + '_L' + str(lumi) + 'pb-1'\n",
    "                c.SaveAs(fig_name + '.png')\n",
    "\n",
    "            p_val_test.append(p_val)\n",
    "\n",
    "        aux = [xsec_BSM] + list(np.percentile(p_val_test, [2.5, 16, 50, 84, 97.5]))\n",
    "        dic_p_val[name_BSM].append(aux)"
   ]
  },
  {
   "cell_type": "code",
   "execution_count": null,
   "metadata": {
    "ExecuteTime": {
     "start_time": "2019-08-02T11:11:35.406Z"
    }
   },
   "outputs": [],
   "source": [
    "pickle.dump(dic_p_val, \n",
    "            open('../data/ModelDependentAnalysis_roofit/pval_dict_L' + str(lumi) + 'pb-1.pkl', 'wb')\n",
    "           )"
   ]
  },
  {
   "cell_type": "markdown",
   "metadata": {},
   "source": [
    "# Make the p-value plot"
   ]
  },
  {
   "cell_type": "code",
   "execution_count": null,
   "metadata": {
    "ExecuteTime": {
     "start_time": "2019-08-02T11:11:35.408Z"
    }
   },
   "outputs": [],
   "source": [
    "sample_col = {\n",
    "              'AtoZZZ':'r',\n",
    "              'GtoWW':'b',\n",
    "              'GtoBtt':'g',\n",
    "              'GtoNtt':'c'\n",
    "             }"
   ]
  },
  {
   "cell_type": "code",
   "execution_count": null,
   "metadata": {
    "ExecuteTime": {
     "start_time": "2019-08-02T11:11:35.412Z"
    }
   },
   "outputs": [],
   "source": [
    "matplotlib.rcParams.update({'font.size': 18})\n",
    "fig, ax1 = plt.subplots(figsize=(8,8))\n",
    "\n",
    "for n, val_aux in dic_p_val.iteritems():\n",
    "    val_aux = np.array(val_aux)\n",
    "    x_sec = val_aux[:, 0]\n",
    "    quant = val_aux[:, 1:]\n",
    "    \n",
    "    ax1.plot(x_sec, quant[:, 2], color=sample_col[n], label=sample_label[n])\n",
    "    ax1.fill_between(x_sec, quant[:, 1], quant[:, 3], color=sample_col[n], alpha = 0.1, lw=0)\n",
    "#     ax1.fill_between(x_sec, quant[:, 0], quant[:, 4], color=sample_col[n], alpha = 0.1, lw=0)\n",
    "    \n",
    "    \n",
    "plt.xscale('log')\n",
    "plt.xlabel('Cross section [pb]')\n",
    "plt.yscale('log')\n",
    "plt.ylabel('p-value')\n",
    "plt.ylim(1 - erf(5.5/np.sqrt(2)), 1)\n",
    "plt.legend(loc='upper right')\n",
    "ax2 = ax1.twinx()\n",
    "for i in range(1, 6):\n",
    "    p = 1 - erf(i/np.sqrt(2))\n",
    "    ax2.plot([x_sec[0], x_sec[-1]], 2*[p], '--', color='grey')\n",
    "plt.yscale('log')\n",
    "ax2.set_yticks(1 - erf(np.arange(1,6)/np.sqrt(2)))\n",
    "ax2.set_yticklabels(['{}$\\sigma$'.format(i) for i in range(1,6)])\n",
    "ax2.tick_params(axis='y', labelcolor='grey')\n",
    "\n",
    "fig.savefig('../fig/ModelDependentAnalysis_roofit/' + 'pValueScan_L' + str(lumi) + 'pb-1.png', bbox_inches='tight')"
   ]
  },
  {
   "cell_type": "code",
   "execution_count": null,
   "metadata": {},
   "outputs": [],
   "source": []
  }
 ],
 "metadata": {
  "kernelspec": {
   "display_name": "Python 2",
   "language": "python",
   "name": "python2"
  },
  "language_info": {
   "codemirror_mode": {
    "name": "ipython",
    "version": 2
   },
   "file_extension": ".py",
   "mimetype": "text/x-python",
   "name": "python",
   "nbconvert_exporter": "python",
   "pygments_lexer": "ipython2",
   "version": "2.7.15"
  }
 },
 "nbformat": 4,
 "nbformat_minor": 2
}
