{
 "cells": [
  {
   "cell_type": "markdown",
   "metadata": {},
   "source": [
    "To be run in CMSSW_10_2_3 with adding:\n",
    "pip install --user joblib scikit-learn==0.20.4"
   ]
  },
  {
   "cell_type": "code",
   "execution_count": 34,
   "metadata": {
    "ExecuteTime": {
     "end_time": "2019-09-11T02:20:31.516668Z",
     "start_time": "2019-09-11T02:20:31.501972Z"
    }
   },
   "outputs": [],
   "source": [
    "Mjj_selection = 1000.\n",
    "\n",
    "vae_loss = 'mse_190806'\n",
    "\n",
    "SM_eff = 1e-2\n",
    "\n",
    "# def computeDiscriminatingVar(x):\n",
    "#     out = x[:,-3]/x[:,1]+x[:,-2]/x[:,6]\n",
    "#     out *= 1e8\n",
    "#     return out\n",
    "\n",
    "def computeDiscriminatingVar(x):\n",
    "    out = 100*(x[:,-3]+x[:,-2])\n",
    "    return out*1e4\n",
    "\n",
    "def computeDiscriminatingVar_str(l1, l2):\n",
    "    out = 100*(l1+l2)\n",
    "    return out*1e4"
   ]
  },
  {
   "cell_type": "markdown",
   "metadata": {},
   "source": [
    "# Imports"
   ]
  },
  {
   "cell_type": "code",
   "execution_count": 2,
   "metadata": {
    "ExecuteTime": {
     "end_time": "2019-09-11T02:20:35.440069Z",
     "start_time": "2019-09-11T02:20:32.171242Z"
    }
   },
   "outputs": [
    {
     "name": "stdout",
     "output_type": "stream",
     "text": [
      "Welcome to JupyROOT 6.12/07\n"
     ]
    }
   ],
   "source": [
    "from __future__ import print_function\n",
    "\n",
    "import h5py, os, sys, glob, datetime, time\n",
    "sys.path.append('../lib')\n",
    "from glob import glob\n",
    "import numpy as np\n",
    "import scipy as sp\n",
    "from scipy.special import erf\n",
    "\n",
    "import matplotlib.pyplot as plt\n",
    "import matplotlib\n",
    "matplotlib.rcParams.update({'font.size': 18})\n",
    "from matplotlib.colors import LogNorm\n",
    "\n",
    "from sklearn.ensemble import GradientBoostingRegressor, GradientBoostingClassifier\n",
    "import joblib\n",
    "import pickle\n",
    "from prettytable import PrettyTable\n",
    "\n",
    "import ROOT as rt\n",
    "rt.gErrorIgnoreLevel = rt.kError\n",
    "\n",
    "from histo_utilities import create_TH2D, create_TH1D, create_Canvas, make_effiency_plot, rootTH1_to_np\n",
    "from progressBar import ProgressBar\n",
    "\n",
    "from cebefo_style import cebefo_style\n",
    "cebefo_style()\n",
    "\n",
    "dnd = []"
   ]
  },
  {
   "cell_type": "markdown",
   "metadata": {},
   "source": [
    "# Get the discrimination on the side-band"
   ]
  },
  {
   "cell_type": "code",
   "execution_count": 3,
   "metadata": {
    "ExecuteTime": {
     "end_time": "2019-08-07T23:09:13.047650Z",
     "start_time": "2019-08-07T23:09:11.478682Z"
    }
   },
   "outputs": [],
   "source": [
    "file_dir = '/eos/project/d/dshep/TOPCLASS/DijetAnomaly/AE_Score/'\n",
    "maxEvts = int(5e6)\n",
    "# pb = ProgressBar(maxEvts)\n",
    "\n",
    "# data_side = None\n",
    "# for tag in ['EXT', 'EXT2']:\n",
    "#     name_tag = 'qcd_sqrtshatTeV_13TeV_PU40_SIDEBAND_' + tag\n",
    "#     flist = glob(file_dir + name_tag + '/' + name_tag + '_*.h5')\n",
    "#     for fname in flist:\n",
    "#         f = h5py.File(fname, 'r')\n",
    "#         aux_evts = np.array(f.get('data'))\n",
    "#         aux_evts = aux_evts[aux_evts[:,0] > Mjj_selection]\n",
    "#         if data_side is None:\n",
    "#             print('Labels:')\n",
    "#             print(list(f.get('labels')))\n",
    "#             raise\n",
    "#             pb.show(0)\n",
    "#             data_side = aux_evts\n",
    "#         else:\n",
    "#             data_side = np.append(data_side, aux_evts, axis=0)\n",
    "        \n",
    "#         pb.show(data_side.shape[0])\n",
    "\n",
    "#         if data_side.shape[0] > maxEvts:\n",
    "#             break\n",
    "#     if data_side.shape[0] > maxEvts:\n",
    "#         break"
   ]
  },
  {
   "cell_type": "code",
   "execution_count": 4,
   "metadata": {},
   "outputs": [],
   "source": [
    "# pickle.dump(data_side, open(file_dir + 'tmp_qcd_sqrtshatTeV_13TeV_PU40_SIDEBAND_MIAD.pkl', 'wb'))"
   ]
  },
  {
   "cell_type": "code",
   "execution_count": 5,
   "metadata": {},
   "outputs": [],
   "source": [
    "data_side = pickle.load(open(file_dir + 'tmp_qcd_sqrtshatTeV_13TeV_PU40_SIDEBAND_MIAD.pkl', 'rb'))"
   ]
  },
  {
   "cell_type": "code",
   "execution_count": 6,
   "metadata": {
    "ExecuteTime": {
     "end_time": "2019-08-07T23:09:13.047650Z",
     "start_time": "2019-08-07T23:09:11.478682Z"
    }
   },
   "outputs": [
    {
     "data": {
      "image/png": "[encoded data removed]",
      "text/plain": [
       "<IPython.core.display.Image object>"
      ]
     },
     "metadata": {},
     "output_type": "display_data"
    }
   ],
   "source": [
    "c = create_Canvas(size=(int(800/1.5),int(600/1.5)))\n",
    "h_Mjj_side = create_TH1D(data_side[:,0], title='', axis_title = ['M_{jj} [GeV]','Events'], \n",
    "                binning=[100, Mjj_selection, 0.8*np.max(data_side[:,0])])\n",
    "\n",
    "h_Mjj_side.Draw()\n",
    "c.SetLogy()\n",
    "c.Draw()"
   ]
  },
  {
   "cell_type": "markdown",
   "metadata": {
    "ExecuteTime": {
     "end_time": "2019-07-25T14:02:14.795675Z",
     "start_time": "2019-07-25T14:02:14.664450Z"
    }
   },
   "source": [
    "### Train the model to predict the cut"
   ]
  },
  {
   "cell_type": "code",
   "execution_count": 7,
   "metadata": {},
   "outputs": [
    {
     "name": "stdout",
     "output_type": "stream",
     "text": [
      "101\n",
      "637.8463764888846\n",
      "0\n",
      "1000000\n",
      "2000000\n",
      "3000000\n",
      "4000000\n",
      "5000000\n"
     ]
    }
   ],
   "source": [
    "# Compute weights to make it mass agnostic\n",
    "hM = h_Mjj_side.Clone('hM')\n",
    "print(hM.FindBin(10000))\n",
    "scale = np.sqrt(hM.GetMaximum()*hM.GetMinimum(0))\n",
    "print(scale)\n",
    "hM.Scale(1./scale)\n",
    "\n",
    "weights = np.ones_like(data_side[:,0])\n",
    "for i, m in enumerate(data_side[:,0]):\n",
    "    weights[i] = 1./hM.GetBinContent(hM.FindBin(m))\n",
    "    if i%1000000 == 0:\n",
    "        print(i)"
   ]
  },
  {
   "cell_type": "code",
   "execution_count": 10,
   "metadata": {
    "ExecuteTime": {
     "end_time": "2019-08-07T23:09:13.420984Z",
     "start_time": "2019-08-07T23:09:13.051732Z"
    }
   },
   "outputs": [
    {
     "name": "stdout",
     "output_type": "stream",
     "text": [
      "      Iter       Train Loss   Remaining Time \n",
      "         1           2.1710           14.45m\n",
      "         2           2.1655           13.64m\n",
      "         3           2.1611           13.22m\n",
      "         4           2.1577           13.00m\n",
      "         5           2.1550           12.78m\n",
      "         6           2.1529           12.62m\n",
      "         7           2.1511           12.46m\n",
      "         8           2.1497           12.36m\n",
      "         9           2.1486           12.25m\n",
      "        10           2.1477           12.15m\n",
      "        11           2.1469           12.05m\n",
      "        12           2.1463           11.95m\n",
      "        13           2.1457           11.86m\n",
      "        14           2.1453           11.80m\n",
      "        15           2.1450           11.74m\n",
      "        16           2.1447           11.67m\n",
      "        17           2.1445           11.59m\n",
      "        18           2.1443           11.53m\n",
      "        19           2.1442           11.47m\n",
      "        20           2.1441           11.40m\n",
      "        21           2.1440           11.40m\n",
      "        22           2.1439           11.35m\n",
      "        23           2.1438           11.29m\n",
      "        24           2.1437           11.23m\n",
      "        25           2.1437           11.18m\n",
      "        26           2.1436           11.13m\n",
      "        27           2.1436           11.20m\n",
      "        28           2.1435           11.12m\n",
      "        29           2.1435           11.07m\n",
      "        30           2.1435           11.02m\n",
      "        31           2.1434           10.95m\n",
      "        32           2.1434           10.90m\n",
      "        33           2.1433           10.85m\n",
      "        34           2.1433           10.80m\n",
      "        35           2.1433           10.73m\n",
      "        36           2.1433           10.68m\n",
      "        37           2.1432           10.62m\n",
      "        38           2.1432           10.56m\n",
      "        39           2.1432           10.49m\n",
      "        40           2.1432           10.44m\n",
      "        41           2.1432           10.37m\n",
      "        42           2.1431           10.32m\n",
      "        43           2.1431           10.27m\n"
     ]
    },
    {
     "data": {
      "text/plain": [
       "['../models/gbr_cut_trained_20190917.joblib']"
      ]
     },
     "execution_count": 10,
     "metadata": {},
     "output_type": "execute_result"
    }
   ],
   "source": [
    "gbr_cut = GradientBoostingRegressor(loss='quantile', alpha=1-SM_eff,\n",
    "                                n_estimators=250, max_depth=3,\n",
    "                                learning_rate=.1, min_samples_leaf=5,\n",
    "                                min_samples_split=5,\n",
    "                                validation_fraction=0.5,\n",
    "                                n_iter_no_change=5,\n",
    "                                tol=1e-6,\n",
    "                                verbose=2)\n",
    "\n",
    "x = np.reshape(data_side[:,0], (-1,1))\n",
    "y = computeDiscriminatingVar(data_side)\n",
    "gbr_cut.fit(x, y, sample_weight=None);\n",
    "\n",
    "date = datetime.date.today()\n",
    "date_str = '{}{:02d}{:02d}'.format(date.year, date.month, date.day)\n",
    "joblib.dump(gbr_cut, '../models/gbr_cut_trained_{}.joblib'.format(date_str)) "
   ]
  },
  {
   "cell_type": "code",
   "execution_count": 11,
   "metadata": {
    "ExecuteTime": {
     "end_time": "2019-08-07T23:09:21.195273Z",
     "start_time": "2019-08-07T23:09:19.992583Z"
    }
   },
   "outputs": [
    {
     "data": {
      "image/png": "[encoded data removed]",
      "text/plain": [
       "<matplotlib.figure.Figure at 0x7f2b5d5dbc10>"
      ]
     },
     "metadata": {},
     "output_type": "display_data"
    }
   ],
   "source": [
    "plt.figure(figsize=(8, 8))\n",
    "x_min = Mjj_selection*0.8\n",
    "x_max = np.percentile(x, 99.9)\n",
    "plt.hist2d(x[:,0], y,\n",
    "           range=((x_min , x_max), (np.min(y), np.percentile(y, 1e2*(1-1e-4)))), \n",
    "           norm=LogNorm(), bins=100,\n",
    "           label='Side band data'\n",
    "          )\n",
    "\n",
    "xs = np.arange(Mjj_selection, x_max, 0.001*(x_max-Mjj_selection))\n",
    "plt.plot(xs, gbr_cut.predict(np.reshape(xs, (-1,1))), '-', color='m', lw=3, label='GBR selection')\n",
    "\n",
    "plt.ylabel('$L_1/P^1_T + L_2/P^2_T$ [GeV^-1]')\n",
    "plt.xlabel('$M_{jj}$ [GeV]')\n",
    "plt.colorbar()\n",
    "plt.legend(loc='best')\n",
    "plt.draw()"
   ]
  },
  {
   "cell_type": "code",
   "execution_count": 12,
   "metadata": {
    "ExecuteTime": {
     "end_time": "2019-08-07T23:09:26.371593Z",
     "start_time": "2019-08-07T23:09:26.351548Z"
    },
    "code_folding": []
   },
   "outputs": [],
   "source": [
    "def getSelection(x_Mjj, x_loss):\n",
    "    cut = gbr_cut.predict(np.reshape(x_Mjj, (-1,1)))\n",
    "    return x_loss > cut"
   ]
  },
  {
   "cell_type": "code",
   "execution_count": 13,
   "metadata": {
    "ExecuteTime": {
     "end_time": "2019-08-07T23:09:26.814635Z",
     "start_time": "2019-08-07T23:09:26.791643Z"
    },
    "code_folding": [
     0
    ]
   },
   "outputs": [],
   "source": [
    "def plotMassSpectrum(mJJ_pass, mJJ_rej, title=''):\n",
    "    h_a = create_TH1D(mJJ_pass, \n",
    "                      name='h_acc', title='Accepted',\n",
    "                      binning=binning,\n",
    "                      opt='overflow'\n",
    "                     )\n",
    "    h_a.SetLineColor(2)\n",
    "    h_a.SetStats(0)\n",
    "    h_a.Sumw2()\n",
    "    h_r = create_TH1D(mJJ_rej, \n",
    "                      name='h_rej', title='Rejected',\n",
    "                      axis_title=['M_{jj} [GeV]', 'Events'],\n",
    "                      binning=binning,\n",
    "                      opt='overflow'\n",
    "                     )\n",
    "    h_r.GetYaxis().SetRangeUser(0.5, 1.2*h_r.GetMaximum())\n",
    "    h_r.SetStats(0)\n",
    "    h_r.Sumw2()\n",
    "\n",
    "    c = make_effiency_plot([h_r, h_a], ratio_bounds=[1e-4, 0.2], draw_opt = 'E', title=title)\n",
    "    c.pad1.SetLogy()\n",
    "    c.pad2.SetLogy()\n",
    "\n",
    "    c.pad2.cd()\n",
    "    c.ln = rt.TLine(h_r.GetXaxis().GetXmin(), SM_eff, h_r.GetXaxis().GetXmax(), SM_eff)\n",
    "    c.ln.SetLineWidth(2)\n",
    "    c.ln.SetLineStyle(7)\n",
    "    c.ln.SetLineColor(8)\n",
    "    c.ln.DrawLine(h_r.GetXaxis().GetXmin(), SM_eff, h_r.GetXaxis().GetXmax(), SM_eff)\n",
    "\n",
    "    c.Draw()\n",
    "    return c"
   ]
  },
  {
   "cell_type": "code",
   "execution_count": 14,
   "metadata": {
    "ExecuteTime": {
     "end_time": "2019-08-07T23:09:27.433110Z",
     "start_time": "2019-08-07T23:09:27.222240Z"
    }
   },
   "outputs": [
    {
     "data": {
      "image/png": "[encoded data removed]",
      "text/plain": [
       "<IPython.core.display.Image object>"
      ]
     },
     "metadata": {},
     "output_type": "display_data"
    }
   ],
   "source": [
    "x = x.flatten()\n",
    "binning=[30, Mjj_selection, np.percentile(x, 99.9)]\n",
    "\n",
    "sel = getSelection(x, y)\n",
    "\n",
    "c = plotMassSpectrum(x[sel], x[np.logical_not(sel)], 'QCD side-band')\n",
    "h_a = c.h_list[1]\n",
    "h_r = c.h_list[0]"
   ]
  },
  {
   "cell_type": "markdown",
   "metadata": {
    "ExecuteTime": {
     "end_time": "2019-07-29T10:05:16.951453Z",
     "start_time": "2019-07-29T10:05:16.934409Z"
    }
   },
   "source": [
    "# Define and test Hypotesis test"
   ]
  },
  {
   "cell_type": "code",
   "execution_count": 15,
   "metadata": {
    "ExecuteTime": {
     "end_time": "2019-08-07T23:09:31.570671Z",
     "start_time": "2019-08-07T23:09:31.523994Z"
    }
   },
   "outputs": [],
   "source": [
    "def HypotesisTets(h_a_bin_content, h_r_bin_content, eff, N_asymov = 10000, max_N_asymov = 1e7, show_hist=False):\n",
    "    nu = eff*h_r_bin_content/(1-eff)\n",
    "\n",
    "    probs_obs = sp.stats.poisson.pmf(h_a_bin_content.astype(np.int), nu)\n",
    "    probs_obs = np.where(probs_obs < 1e-10, np.full_like(probs_obs, 1e-10), probs_obs)\n",
    "    s_obs = np.sum(-np.log(probs_obs), axis=-1)\n",
    "    print('S obs:', s_obs)\n",
    "\n",
    "    N_worse = 0\n",
    "    N_tot = 0\n",
    "    loops = 0\n",
    "    while N_worse < 25 and N_tot < max_N_asymov:\n",
    "        loops += 1\n",
    "        if loops > 1 and loops%10 == 0:\n",
    "            print(N_tot, N_worse)\n",
    "        if loops == 10:\n",
    "            print('Increasing by a factor 5 the number of asymov per loop')\n",
    "            N_asymov *=5\n",
    "        o_asymov = np.random.poisson(nu, (N_asymov, nu.shape[0]))\n",
    "        probs = sp.stats.poisson.pmf(o_asymov, nu)\n",
    "        probs = np.where(probs < 1e-10, np.full_like(probs, 1e-10), probs)\n",
    "        nll = -np.log(probs)\n",
    "        s_asymov = np.sum(nll, axis=-1)\n",
    "\n",
    "        N_worse += np.sum(s_asymov > s_obs)\n",
    "        N_tot += N_asymov\n",
    "\n",
    "        if max_N_asymov/N_tot < 25 and (N_worse * (max_N_asymov/N_tot) < 25):\n",
    "            print('Will never have enough stat - giving up.')\n",
    "            p_val = max(1, N_worse)/float(N_tot)\n",
    "            return p_val\n",
    "\n",
    "    print('Test stat reached after {} loops'.format(loops))\n",
    "\n",
    "    p_val = max(1, N_worse)/float(N_tot)\n",
    "    \n",
    "    if show_hist:\n",
    "        plt.figure()\n",
    "        binContent, _, _ = plt.hist(s_asymov, label='Distribution assuming eff={:.1f}%'.format(100*eff))\n",
    "        plt.plot([s_obs, s_obs], [0,np.max(binContent)], label='Observed')\n",
    "        plt.legend(loc='best')\n",
    "        plt.xlabel('Test statistic')\n",
    "        plt.ylabel('Entries')\n",
    "\n",
    "    return p_val"
   ]
  },
  {
   "cell_type": "code",
   "execution_count": 16,
   "metadata": {
    "ExecuteTime": {
     "end_time": "2019-08-07T23:09:32.564458Z",
     "start_time": "2019-08-07T23:09:32.444973Z"
    }
   },
   "outputs": [
    {
     "name": "stdout",
     "output_type": "stream",
     "text": [
      "S obs: 129.1725675740883\n",
      "Test stat reached after 1 loops\n"
     ]
    },
    {
     "data": {
      "text/plain": [
       "0.3213"
      ]
     },
     "execution_count": 16,
     "metadata": {},
     "output_type": "execute_result"
    }
   ],
   "source": [
    "h_a_bin_content, _ = rootTH1_to_np(h_a)\n",
    "h_r_bin_content, _ = rootTH1_to_np(h_r)\n",
    "HypotesisTets(h_a_bin_content, h_r_bin_content, SM_eff, N_asymov=10000)"
   ]
  },
  {
   "cell_type": "markdown",
   "metadata": {},
   "source": [
    "# Analyze signal region"
   ]
  },
  {
   "cell_type": "code",
   "execution_count": 17,
   "metadata": {
    "ExecuteTime": {
     "end_time": "2019-08-01T11:05:58.113458Z",
     "start_time": "2019-08-01T11:05:58.084800Z"
    }
   },
   "outputs": [],
   "source": [
    "sample_loc = {'qcd':'qcd_sqrtshatTeV_13TeV_PU40',\n",
    "#               'AtoZZZ':'AtoHZ_to_ZZZ_13TeV_PU40_results.h5',\n",
    "              'GtoWW':'RSGraviton_WW_NARROW_13TeV_PU40_3.5TeV',\n",
    "#               'GtoBtt':'RSGraviton_tt_BROAD_13TeV_PU40_results.h5',\n",
    "#               'GtoNtt':'RSGraviton_tt_NARROW_13TeV_PU40_results.h5'\n",
    "             }\n",
    "\n",
    "sample_label = {'qcd':r'QCD',\n",
    "                'AtoZZZ':r'$A\\to ZZZ$',\n",
    "                'GtoWW':r'$G\\to WW$',\n",
    "                'GtoBtt':r'$G_{B}\\to t\\bar{t}$',\n",
    "                'GtoNtt':r'$G_{N}\\to t\\bar{t}$'\n",
    "               }\n",
    "\n",
    "sample_label_ROOT = {'qcd':'QCD',\n",
    "                'AtoZZZ':'A #rightarrow ZZZ',\n",
    "                'GtoWW':'G #rightarrow WW',\n",
    "                'GtoBtt':'G_{B} #rightarrow t#bar{t}',\n",
    "                'GtoNtt':'G_{N} #rightarrow t#bar{t}'\n",
    "               }\n",
    "\n",
    "SM_samples = ['qcd']\n",
    "BSM_samples = ['GtoWW'] #, 'AtoZZZ', 'GtoBtt', 'GtoNtt']\n",
    "\n",
    "sample_nGenEvts = {'qcd': 1990*10000,\n",
    "#                    'AtoZZZ': 100*1000,\n",
    "                   'GtoWW': 92*10000,\n",
    "#                    'GtoBtt': 96*1000,\n",
    "#                    'GtoNtt': 96*1000\n",
    "                  }\n",
    "\n",
    "sample_xsec = {'qcd': 8734.0 #pb\n",
    "              }"
   ]
  },
  {
   "cell_type": "code",
   "execution_count": 18,
   "metadata": {},
   "outputs": [
    {
     "name": "stdout",
     "output_type": "stream",
     "text": [
      "Lumi: 2278.5 pb^-1\n"
     ]
    }
   ],
   "source": [
    "lumi_generated = sample_nGenEvts['qcd']/sample_xsec['qcd']\n",
    "print('Lumi: {:.1f} pb^-1'.format(lumi_generated))"
   ]
  },
  {
   "cell_type": "markdown",
   "metadata": {},
   "source": [
    "### Get the data"
   ]
  },
  {
   "cell_type": "code",
   "execution_count": 21,
   "metadata": {
    "ExecuteTime": {
     "end_time": "2019-08-01T11:06:00.877455Z",
     "start_time": "2019-08-01T11:05:58.119894Z"
    },
    "code_folding": []
   },
   "outputs": [
    {
     "name": "stdout",
     "output_type": "stream",
     "text": [
      "GtoWW\n",
      "[####################]  100% - Tot. time: 4.2 s\n",
      "520907\n",
      "qcd\n",
      "[####################]  100% - Tot. time: 329.5 s\n",
      "1884511\n",
      "+--------+----------+--------------+---------------+-------------+\n",
      "| Sample | Trg evts | Eff. trg [%] | VAE sel. evts | Eff VAE [%] |\n",
      "+--------+----------+--------------+---------------+-------------+\n",
      "| GtoWW  |  520907  |     56.6     |     112830    |    21.66    |\n",
      "|  qcd   | 1884511  |     9.5      |     45509     |     2.41    |\n",
      "+--------+----------+--------------+---------------+-------------+\n"
     ]
    }
   ],
   "source": [
    "data = {}\n",
    "sample_eff = {}\n",
    "table = PrettyTable()\n",
    "table.field_names = ['Sample', 'Trg evts', 'Eff. trg [%]', 'VAE sel. evts', 'Eff VAE [%]']\n",
    "\n",
    "for n, name_tag in sample_loc.iteritems():\n",
    "    print(n)\n",
    "    if not n == 'qcdfail':\n",
    "        flist = glob(file_dir + name_tag + '/' + name_tag + '_*.h5')\n",
    "        x = None\n",
    "        pb = ProgressBar(len(flist))\n",
    "        for i, fname in enumerate(flist):\n",
    "            pb.show(i)\n",
    "            f = h5py.File(fname, 'r')\n",
    "            aux_evts = np.array(f.get('data'))\n",
    "            aux_evts = aux_evts[aux_evts[:,0] > Mjj_selection]\n",
    "            if x is None:\n",
    "                x = aux_evts\n",
    "            else:\n",
    "                x = np.append(x, aux_evts, axis=0)\n",
    "\n",
    "        # apply the dijet mass cut\n",
    "        dVar = computeDiscriminatingVar(x)\n",
    "        sel = getSelection(x[:,0], dVar)\n",
    "        x = np.column_stack((x, dVar, sel))\n",
    "        print(x.shape[0])\n",
    "        sample_eff[n] = float(x.shape[0])/sample_nGenEvts[n]\n",
    "\n",
    "        dt = [(str(s), '<f4') for s in list(f.get(\"labels\")) + ['dVar']]\n",
    "        dt += [('sel', '?')]\n",
    "        data[n] = np.array(list(zip(*x.T)), dtype=dt)\n",
    "    \n",
    "    eff = '{:.2f}'.format(100*np.sum(data[n]['sel'])/float(data[n]['sel'].shape[0]))\n",
    "    table.add_row([n, data[n]['sel'].shape[0], '{:.1f}'.format(100*sample_eff[n]), np.sum(data[n]['sel']), eff])\n",
    "    \n",
    "print(table)"
   ]
  },
  {
   "cell_type": "code",
   "execution_count": 35,
   "metadata": {},
   "outputs": [
    {
     "data": {
      "text/plain": [
       "array([(1106.7974, 523.57465,  1.7132808 , -1.066997  ,  40.182556, 1499.9001 , 493.99908,  38.572838, 706.0038,  0.81920964, -3.120862 , 1.3748943e-05, 2.8682530e-06,  72.22885 , 16.617197, False),\n",
       "       (1475.5671, 811.6071 , -0.95211416,  2.8576565 ,  43.821663, 1208.9148 , 552.5144 , 109.45299 , 565.1846, -0.8676803 ,  2.9502017, 1.8433428e-05, 7.6672441e-06, 343.6185  , 26.100672, False),\n",
       "       (1201.2148, 579.6924 ,  0.8908201 ,  1.7099438 , 227.59885 ,  856.129  , 568.8518 ,  51.136314, 937.9512, -0.19244367, -3.0481048, 5.3091015e-05, 1.8157369e-06, 303.70898 , 54.90675 , False),\n",
       "       ...,\n",
       "       (1097.5317, 332.40994,  0.7298418 , -0.49361962,   7.625863,  425.01093, 299.86353,  40.422726, 752.1502,  2.2986827 , -3.0783064, 1.9152581e-05, 5.8446167e-06,  48.131775, 24.997198, False),\n",
       "       (1418.5803, 318.6446 ,  2.4290743 ,  1.6094216 ,  45.215054, 1822.6488 , 253.93198,  74.83399 , 326.1404,  3.1223469 ,  2.528655 , 2.2312449e-06, 3.0588286e-05,  87.360374, 32.81953 , False),\n",
       "       (1234.9718, 365.86105, -1.6564382 , -2.5246458 ,  54.093575,  995.0456 , 349.44388,  61.54243 , 422.1649, -2.2715154 ,  3.1310954, 1.7020237e-06, 2.4834646e-06,  44.04041 ,  4.185488, False)],\n",
       "      dtype=[('mJJ', '<f4'), ('j1Pt', '<f4'), ('j1Eta', '<f4'), ('j1Phi', '<f4'), ('j1M', '<f4'), ('j1E', '<f4'), ('j2Pt', '<f4'), ('j2M', '<f4'), ('j2E', '<f4'), ('DeltaEtaJJ', '<f4'), ('DeltaPhiJJ', '<f4'), ('Loss12', '<f4'), ('Loss2', '<f4'), ('EMD', '<f4'), ('dVar', '<f4'), ('sel', '?')])"
      ]
     },
     "execution_count": 35,
     "metadata": {},
     "output_type": "execute_result"
    }
   ],
   "source": [
    "data['qcd']"
   ]
  },
  {
   "cell_type": "code",
   "execution_count": 36,
   "metadata": {},
   "outputs": [
    {
     "data": {
      "image/png": "[encoded data removed]",
      "text/plain": [
       "<matplotlib.figure.Figure at 0x7f2b5d556190>"
      ]
     },
     "metadata": {},
     "output_type": "display_data"
    }
   ],
   "source": [
    "x = np.reshape(data['qcd']['mJJ'], (-1,1))\n",
    "y = computeDiscriminatingVar_str(data['qcd']['Loss12'], data['qcd']['Loss2'])\n",
    "\n",
    "plt.figure(figsize=(8, 8))\n",
    "x_min = Mjj_selection*0.8\n",
    "x_max = np.percentile(x, 99.9)\n",
    "plt.hist2d(x[:,0], y,\n",
    "           range=((x_min , x_max), (np.min(y), np.percentile(y, 1e2*(1-1e-4)))), \n",
    "           norm=LogNorm(), bins=100,\n",
    "           label='Side band data'\n",
    "          )\n",
    "\n",
    "xs = np.arange(Mjj_selection, x_max, 0.001*(x_max-Mjj_selection))\n",
    "plt.plot(xs, gbr_cut.predict(np.reshape(xs, (-1,1))), '-', color='m', lw=3, label='GBR selection')\n",
    "\n",
    "plt.ylabel('$L_1/P^1_T + L_2/P^2_T$ [GeV^-1]')\n",
    "plt.xlabel('$M_{jj}$ [GeV]')\n",
    "plt.colorbar()\n",
    "plt.legend(loc='best')\n",
    "plt.draw()"
   ]
  },
  {
   "cell_type": "markdown",
   "metadata": {},
   "source": [
    "### Define utilitities"
   ]
  },
  {
   "cell_type": "code",
   "execution_count": 22,
   "metadata": {
    "ExecuteTime": {
     "end_time": "2019-08-01T11:06:00.921841Z",
     "start_time": "2019-08-01T11:06:00.883604Z"
    },
    "code_folding": []
   },
   "outputs": [],
   "source": [
    "def plotMassSpectrum_wSig(h_r, h_a, h_a_sig, name_BSM, lumi_text, p_val):\n",
    "    h_r.GetYaxis().SetRangeUser(0.5, 1.2*h_r.GetMaximum())\n",
    "    h_r.SetStats(0)\n",
    "    h_r.Sumw2()\n",
    "    h_r.SetLineWidth(2)\n",
    "    \n",
    "    h_a.SetLineColor(2)\n",
    "    h_a.SetStats(0)\n",
    "    h_a.Sumw2()\n",
    "    h_a.SetLineWidth(2)\n",
    "    \n",
    "    h_a_sig.SetFillStyle(3001)\n",
    "    h_a_sig.SetFillColor(8)\n",
    "    h_a_sig.SetLineWidth(0)\n",
    "\n",
    "    c = make_effiency_plot([h_r, h_a], ratio_bounds=[1e-3, None], draw_opt = 'E')\n",
    "    c.pad1.SetLogy()\n",
    "    c.pad1.cd()\n",
    "    h_a_sig.Draw('SAME')\n",
    "    c.leg.AddEntry(h_a_sig, 'Acc. '+sample_label_ROOT[name_BSM], 'f')\n",
    "    \n",
    "    latex = rt.TLatex()\n",
    "    latex.SetNDC()\n",
    "    latex.SetTextSize(0.04)\n",
    "    latex.SetTextAlign(31)\n",
    "    t = c.pad1.GetTopMargin()\n",
    "    r = c.pad1.GetRightMargin()\n",
    "    latex.DrawLatex(1-r, 1-0.85*t, lumi_text)\n",
    "\n",
    "    c.pad2.SetLogy()\n",
    "    c.pad2.cd()\n",
    "    c.ln = rt.TLine(h_r.GetXaxis().GetXmin(), SM_eff, h_r.GetXaxis().GetXmax(), SM_eff)\n",
    "    c.ln.SetLineWidth(2)\n",
    "    c.ln.SetLineStyle(7)\n",
    "    c.ln.SetLineColor(6)\n",
    "    c.ln.DrawLine(h_r.GetXaxis().GetXmin(), SM_eff, h_r.GetXaxis().GetXmax(), SM_eff)\n",
    "    \n",
    "    latex.SetTextSize(0.1)\n",
    "    latex.SetTextAlign(13)\n",
    "    l = c.pad2.GetLeftMargin()\n",
    "    t = c.pad2.GetTopMargin()\n",
    "    latex.DrawLatex(l*1.1, 1-2*t, 'p-value: {:.1f} %'.format(100*p_val))\n",
    "\n",
    "    c.Draw()\n",
    "    return c"
   ]
  },
  {
   "cell_type": "markdown",
   "metadata": {
    "ExecuteTime": {
     "end_time": "2019-07-26T13:30:40.258958Z",
     "start_time": "2019-07-26T13:30:40.240906Z"
    }
   },
   "source": [
    "## Find the p-value as a function of xsec"
   ]
  },
  {
   "cell_type": "code",
   "execution_count": 23,
   "metadata": {
    "ExecuteTime": {
     "end_time": "2019-08-01T11:06:00.935480Z",
     "start_time": "2019-08-01T11:06:00.926854Z"
    }
   },
   "outputs": [],
   "source": [
    "lumi = 2000 #pb^-1\n",
    "\n",
    "N_asymov = 10000\n",
    "N_exp_per_xsec = 10"
   ]
  },
  {
   "cell_type": "code",
   "execution_count": 24,
   "metadata": {
    "ExecuteTime": {
     "end_time": "2019-08-01T11:06:00.956627Z",
     "start_time": "2019-08-01T11:06:00.939665Z"
    }
   },
   "outputs": [],
   "source": [
    "dic_p_val = {}\n",
    "rt.gROOT.SetBatch(True)"
   ]
  },
  {
   "cell_type": "code",
   "execution_count": 25,
   "metadata": {
    "ExecuteTime": {
     "end_time": "2019-08-01T11:46:23.351576Z",
     "start_time": "2019-08-01T11:06:00.962212Z"
    },
    "code_folding": [],
    "scrolled": false
   },
   "outputs": [
    {
     "name": "stdout",
     "output_type": "stream",
     "text": [
      "\n",
      "\n",
      "GtoWW\n",
      "xsec BSM 1.0e-05 pb\n",
      "Experiment: 0\n",
      "S obs: 688.8184485239373\n",
      "90000 0\n",
      "Increasing by a factor 5 the number of asymov per loop\n",
      "Will never have enough stat - giving up.\n",
      "Experiment: 1\n",
      "S obs: 690.7755278982138\n",
      "90000 0\n",
      "Increasing by a factor 5 the number of asymov per loop\n",
      "Will never have enough stat - giving up.\n",
      "Experiment: 2\n",
      "S obs: 681.5515044483548\n",
      "90000 0\n",
      "Increasing by a factor 5 the number of asymov per loop\n",
      "Will never have enough stat - giving up.\n",
      "Experiment: 3\n",
      "S obs: 687.1954634363315\n",
      "90000 0\n",
      "Increasing by a factor 5 the number of asymov per loop\n",
      "Will never have enough stat - giving up.\n",
      "Experiment: 4\n",
      "S obs: 690.7755278982138\n",
      "90000 0\n",
      "Increasing by a factor 5 the number of asymov per loop\n",
      "Will never have enough stat - giving up.\n",
      "Experiment: 5\n",
      "S obs: 690.7755278982138\n",
      "90000 0\n",
      "Increasing by a factor 5 the number of asymov per loop\n",
      "Will never have enough stat - giving up.\n",
      "Experiment: 6\n",
      "S obs: 672.1798201993961\n",
      "90000 0\n",
      "Increasing by a factor 5 the number of asymov per loop\n",
      "Will never have enough stat - giving up.\n",
      "Experiment: 7\n",
      "S obs: 676.1632313365159\n",
      "90000 0\n",
      "Increasing by a factor 5 the number of asymov per loop\n",
      "Will never have enough stat - giving up.\n",
      "Experiment: 8\n",
      "S obs: 688.7867165230891\n",
      "90000 0\n",
      "Increasing by a factor 5 the number of asymov per loop\n",
      "Will never have enough stat - giving up.\n",
      "Experiment: 9\n",
      "S obs: 690.7755278982138\n",
      "90000 0\n",
      "Increasing by a factor 5 the number of asymov per loop\n",
      "Will never have enough stat - giving up.\n"
     ]
    },
    {
     "data": {
      "image/png": "[encoded data removed]",
      "text/plain": [
       "<IPython.core.display.Image object>"
      ]
     },
     "metadata": {},
     "output_type": "display_data"
    }
   ],
   "source": [
    "for name_BSM in BSM_samples:\n",
    "    print('\\n\\n'+name_BSM)\n",
    "    dic_p_val[name_BSM] = []\n",
    "    for xsec_BSM in np.logspace(-5, -4, 1): \n",
    "        print('xsec BSM {:.1e} pb'.format(xsec_BSM))\n",
    "        lumi_text = '{:.1f} fb^{{-1}} (14 TeV), '.format(1e-3*lumi) + sample_label_ROOT[name_BSM] + ' ({:.2} pb)'.format(xsec_BSM)\n",
    "\n",
    "        p_val_test = []\n",
    "        for i_exp in range(N_exp_per_xsec):\n",
    "            print('Experiment:', i_exp)\n",
    "            d_obs = np.zeros((0,2))\n",
    "\n",
    "            sample_xsec[name_BSM] = xsec_BSM\n",
    "            for n in SM_samples + [name_BSM]:\n",
    "                nExpEvts = lumi*sample_xsec[n]*sample_eff[n]\n",
    "                nEvts = np.random.poisson(nExpEvts)\n",
    "                if data[n]['mJJ'].shape[0] < nEvts:\n",
    "                    print('[WARNING] ' + n + ' re-use factor = {:.2f}'.format(float(nEvts)/data[n]['mJJ'].shape[0]))\n",
    "                evtsIdx = np.random.randint(0, data[n]['mJJ'].shape[0], size=(nEvts,))\n",
    "\n",
    "                d_aux = np.column_stack((data[n]['mJJ'][evtsIdx], data[n]['sel'][evtsIdx]))\n",
    "                d_obs = np.concatenate((d_obs, d_aux))\n",
    "\n",
    "            h_a = create_TH1D(d_obs[:, 0][d_obs[:,1].astype(np.bool)], \n",
    "                                 name='h_acc', title='Accepted',\n",
    "                                 binning=binning,\n",
    "                                 opt='overflow'\n",
    "                                )\n",
    "\n",
    "            h_r = create_TH1D(d_obs[:, 0][np.logical_not(d_obs[:,1]).astype(np.bool)], \n",
    "                                 name='h_rej', title='Rejected',\n",
    "                                 axis_title=['M_{jj} [GeV]', ''],\n",
    "                                 binning=binning,\n",
    "                                 opt='overflow'\n",
    "                                )\n",
    "            h_r.SetYTitle('Events / {:.0f} GeV'.format(h_r.GetBinWidth(1)))\n",
    "\n",
    "            h_a_bin_content, _ = rootTH1_to_np(h_a)\n",
    "            h_r_bin_content, _ = rootTH1_to_np(h_r)\n",
    "            p_val = HypotesisTets(h_a_bin_content, h_r_bin_content, SM_eff, N_asymov = N_asymov, show_hist=False)\n",
    "            p_val_test.append(p_val)\n",
    "\n",
    "            if i_exp > 3 and np.max(p_val_test) == 0:\n",
    "                break\n",
    "\n",
    "            if i_exp == 0:\n",
    "                h_a_sig = create_TH1D(d_obs[-nEvts-1:, 0][d_obs[-nEvts-1:, 1].astype(np.bool)], \n",
    "                                     name='h_acc', title='Accepted',\n",
    "                                     binning=binning,\n",
    "                                     opt='overflow'\n",
    "                                    )\n",
    "                c = plotMassSpectrum_wSig(h_r, h_a, h_a_sig, name_BSM, lumi_text, p_val)\n",
    "                fig_name = '../fig/ModelIndependentAnalysis_v2/massSpectrum/'\n",
    "                fig_name += name_BSM + '{:1.2e}'.format(xsec_BSM) + 'pb' + '_L' + str(lumi) + 'pb-1_wEff'\n",
    "                c.SaveAs(fig_name + '.png')\n",
    "\n",
    "        aux = [xsec_BSM] + list(np.percentile(p_val_test, [2.5, 16, 50, 84, 97.5]))\n",
    "        dic_p_val[name_BSM].append(aux)"
   ]
  },
  {
   "cell_type": "markdown",
   "metadata": {},
   "source": [
    "# Make the p-value plot"
   ]
  },
  {
   "cell_type": "code",
   "execution_count": null,
   "metadata": {
    "ExecuteTime": {
     "end_time": "2019-08-01T11:46:23.377368Z",
     "start_time": "2019-08-01T11:46:23.360830Z"
    }
   },
   "outputs": [],
   "source": [
    "sample_col = {\n",
    "              'AtoZZZ':'r',\n",
    "              'GtoWW':'b',\n",
    "              'GtoBtt':'g',\n",
    "              'GtoNtt':'c'\n",
    "             }"
   ]
  },
  {
   "cell_type": "code",
   "execution_count": null,
   "metadata": {
    "ExecuteTime": {
     "end_time": "2019-08-01T12:05:16.303344Z",
     "start_time": "2019-08-01T12:05:13.777854Z"
    }
   },
   "outputs": [],
   "source": [
    "matplotlib.rcParams.update({'font.size': 18})\n",
    "fig, ax1 = plt.subplots(figsize=(8,8))\n",
    "\n",
    "for n, val_aux in dic_p_val.iteritems():\n",
    "    val_aux = np.array(val_aux)\n",
    "    x_sec = val_aux[:, 0]\n",
    "    quant = val_aux[:, 1:]\n",
    "    \n",
    "    ax1.plot(x_sec, quant[:, 2], color=sample_col[n], label=sample_label[n])\n",
    "    ax1.fill_between(x_sec, quant[:, 1], quant[:, 3], color=sample_col[n], alpha = 0.1, lw=0)\n",
    "#     ax1.fill_between(x_sec, quant[:, 0], quant[:, 4], color=sample_col[n], alpha = 0.1, lw=0)\n",
    "    \n",
    "    \n",
    "plt.xscale('log')\n",
    "plt.xlabel('Cross section [pb]')\n",
    "plt.yscale('log')\n",
    "plt.ylabel('p-value')\n",
    "plt.ylim(1 - erf(5.5/np.sqrt(2)), 1)\n",
    "plt.legend(loc='upper right')\n",
    "ax2 = ax1.twinx()\n",
    "for i in range(1, 6):\n",
    "    p = 1 - erf(i/np.sqrt(2))\n",
    "    ax2.plot([x_sec[0], x_sec[-1]], 2*[p], '--', color='grey')\n",
    "plt.yscale('log')\n",
    "ax2.set_yticks(1 - erf(np.arange(1,6)/np.sqrt(2)))\n",
    "ax2.set_yticklabels(['{}$\\sigma$'.format(i) for i in range(1,6)])\n",
    "ax2.tick_params(axis='y', labelcolor='grey')\n",
    "\n",
    "fig.savefig('../fig/ModelIndependentAnalysis_v2/' + 'pValueScan_L' + str(lumi) + 'pb-1.png', bbox_inches='tight')"
   ]
  }
 ],
 "metadata": {
  "kernelspec": {
   "display_name": "Python 2",
   "language": "python",
   "name": "python2"
  },
  "language_info": {
   "codemirror_mode": {
    "name": "ipython",
    "version": 2
   },
   "file_extension": ".py",
   "mimetype": "text/x-python",
   "name": "python",
   "nbconvert_exporter": "python",
   "pygments_lexer": "ipython2",
   "version": "2.7.14+"
  }
 },
 "nbformat": 4,
 "nbformat_minor": 2
}
