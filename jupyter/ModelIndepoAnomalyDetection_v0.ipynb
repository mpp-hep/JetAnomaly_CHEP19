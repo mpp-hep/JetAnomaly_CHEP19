{
 "cells": [
  {
   "cell_type": "code",
   "execution_count": 1,
   "metadata": {
    "ExecuteTime": {
     "end_time": "2019-08-07T22:17:57.035918Z",
     "start_time": "2019-08-07T22:17:57.024318Z"
    }
   },
   "outputs": [],
   "source": [
    "Mjj_selection = 1000.\n",
    "\n",
    "vae_loss = 'mae'\n",
    "\n",
    "SM_eff = 1e-2\n",
    "\n",
    "def computeDiscriminatingVar(x):\n",
    "    out = x[:,-2]/x[:,1]+x[:,-1]/x[:,6]\n",
    "    out *= 1e5\n",
    "    return out\n",
    "\n",
    "# def computeDiscriminatingVar(x):\n",
    "#     out = x[:,-2]+x[:,-1]\n",
    "#     return out*1e4"
   ]
  },
  {
   "cell_type": "markdown",
   "metadata": {},
   "source": [
    "# Imports"
   ]
  },
  {
   "cell_type": "code",
   "execution_count": 2,
   "metadata": {
    "ExecuteTime": {
     "end_time": "2019-08-07T22:18:03.349994Z",
     "start_time": "2019-08-07T22:17:57.422683Z"
    }
   },
   "outputs": [
    {
     "name": "stdout",
     "output_type": "stream",
     "text": [
      "Welcome to JupyROOT 6.16/00\n"
     ]
    }
   ],
   "source": [
    "from __future__ import print_function\n",
    "\n",
    "import h5py, os, sys, glob, datetime, time\n",
    "sys.path.append('../lib')\n",
    "from glob import glob\n",
    "import numpy as np\n",
    "import scipy as sp\n",
    "from scipy.special import erf\n",
    "\n",
    "import matplotlib.pyplot as plt\n",
    "import matplotlib\n",
    "matplotlib.rcParams.update({'font.size': 18})\n",
    "from matplotlib.colors import LogNorm\n",
    "\n",
    "from sklearn.ensemble import GradientBoostingRegressor, GradientBoostingClassifier\n",
    "import joblib\n",
    "from prettytable import PrettyTable\n",
    "\n",
    "import ROOT as rt\n",
    "rt.gErrorIgnoreLevel = rt.kError\n",
    "\n",
    "from histo_utilities import create_TH2D, create_TH1D, create_Canvas, make_effiency_plot, rootTH1_to_np\n",
    "from progressBar import ProgressBar\n",
    "\n",
    "from cebefo_style import cebefo_style\n",
    "cebefo_style()\n",
    "\n",
    "dnd = []"
   ]
  },
  {
   "cell_type": "markdown",
   "metadata": {},
   "source": [
    "# Get the discrimination on the side-band"
   ]
  },
  {
   "cell_type": "code",
   "execution_count": 3,
   "metadata": {
    "ExecuteTime": {
     "end_time": "2019-08-07T22:18:03.998718Z",
     "start_time": "2019-08-07T22:18:03.356255Z"
    }
   },
   "outputs": [
    {
     "name": "stdout",
     "output_type": "stream",
     "text": [
      "['mJJ', 'j1Pt', 'j1Eta', 'j1Phi', 'j1M', 'j1E', 'j2Pt', 'j2M', 'j2E', 'DeltaEtaJJ', 'DeltaPhiJJ', 'j1Loss', 'j2Loss']\n",
      "(38568, 13)\n"
     ]
    },
    {
     "data": {
      "image/png": "[encoded data removed]",
      "text/plain": [
       "<IPython.core.display.Image object>"
      ]
     },
     "metadata": {},
     "output_type": "display_data"
    }
   ],
   "source": [
    "f = h5py.File('../data/vae_'+vae_loss+'/qcd_dEta_sideband_results.h5', 'r')\n",
    "print(list(f.get(\"labels\")))\n",
    "\n",
    "data_side = np.array(f.get(\"results\"))\n",
    "\n",
    "# apply the dijet mass cut\n",
    "data_side = data_side[data_side[:,0] > Mjj_selection]\n",
    "print(data_side.shape)\n",
    "\n",
    "c = create_Canvas(size=(int(800/1.5),int(600/1.5)))\n",
    "h_Mjj_side = create_TH1D(data_side[:,0], title='', axis_title = ['M_{jj} [GeV]','Events'], \n",
    "                opt='overflow', \n",
    "                binning=[100, Mjj_selection, np.max(data_side[:,0])])\n",
    "\n",
    "h_Mjj_side.Draw()\n",
    "c.SetLogy()\n",
    "c.Draw()"
   ]
  },
  {
   "cell_type": "markdown",
   "metadata": {
    "ExecuteTime": {
     "end_time": "2019-07-25T14:02:14.795675Z",
     "start_time": "2019-07-25T14:02:14.664450Z"
    }
   },
   "source": [
    "### Train the model to predict the cut"
   ]
  },
  {
   "cell_type": "code",
   "execution_count": 4,
   "metadata": {
    "ExecuteTime": {
     "end_time": "2019-08-07T22:18:04.135048Z",
     "start_time": "2019-08-07T22:18:04.003265Z"
    }
   },
   "outputs": [
    {
     "name": "stdout",
     "output_type": "stream",
     "text": [
      "      Iter       Train Loss   Remaining Time \n",
      "         1           0.3975            1.74s\n",
      "         2           0.3970            2.35s\n",
      "         3           0.3967            2.10s\n",
      "         4           0.3963            2.14s\n",
      "         5           0.3960            1.98s\n",
      "         6           0.3957            1.97s\n",
      "         7           0.3955            1.93s\n",
      "         8           0.3953            1.86s\n",
      "         9           0.3951            1.93s\n",
      "        10           0.3949            1.87s\n",
      "        11           0.3948            1.80s\n",
      "        12           0.3947            1.74s\n",
      "        13           0.3946            1.71s\n"
     ]
    },
    {
     "data": {
      "text/plain": [
       "['../models/gbr_cut_trained_20190807.joblib']"
      ]
     },
     "execution_count": 4,
     "metadata": {},
     "output_type": "execute_result"
    }
   ],
   "source": [
    "gbr_cut = GradientBoostingRegressor(loss='quantile', alpha=1-SM_eff,\n",
    "                                n_estimators=250, max_depth=3,\n",
    "                                learning_rate=.1, min_samples_leaf=5,\n",
    "                                min_samples_split=5,\n",
    "                                validation_fraction=0.5,\n",
    "                                n_iter_no_change=5,\n",
    "                                tol=1e-5,\n",
    "                                verbose=2)\n",
    "\n",
    "x = np.reshape(data_side[:,0], (-1,1))\n",
    "y = computeDiscriminatingVar(data_side)\n",
    "gbr_cut.fit(x, y);\n",
    "\n",
    "date = datetime.date.today()\n",
    "date_str = '{}{:02d}{:02d}'.format(date.year, date.month, date.day)\n",
    "joblib.dump(gbr_cut, '../models/gbr_cut_trained_{}.joblib'.format(date_str)) "
   ]
  },
  {
   "cell_type": "code",
   "execution_count": 5,
   "metadata": {
    "ExecuteTime": {
     "end_time": "2019-08-07T22:18:05.041276Z",
     "start_time": "2019-08-07T22:18:04.139954Z"
    }
   },
   "outputs": [
    {
     "data": {
      "image/png": "[encoded data removed]",
      "text/plain": [
       "<Figure size 576x576 with 2 Axes>"
      ]
     },
     "metadata": {
      "needs_background": "light"
     },
     "output_type": "display_data"
    }
   ],
   "source": [
    "plt.figure(figsize=(8, 8))\n",
    "x_min = Mjj_selection*0.8\n",
    "x_max = np.quantile(x, 0.999)\n",
    "plt.hist2d(x[:,0], y,\n",
    "           range=((x_min , x_max), (np.min(y), np.quantile(y, 1-1e-4))), \n",
    "           norm=LogNorm(), bins=100,\n",
    "           label='Side band data'\n",
    "          )\n",
    "\n",
    "xs = np.arange(Mjj_selection, x_max, 0.001*(x_max-Mjj_selection))\n",
    "plt.plot(xs, gbr_cut.predict(np.reshape(xs, (-1,1))), '-', color='m', lw=3, label='GBR selection')\n",
    "\n",
    "plt.ylabel('$L_1/P^1_T + L_2/P^2_T$ [GeV^-1]')\n",
    "# plt.ylabel('VAE score')\n",
    "plt.xlabel('$M_{jj}$ [GeV]')\n",
    "plt.colorbar()\n",
    "plt.legend(loc='best')\n",
    "plt.draw()"
   ]
  },
  {
   "cell_type": "code",
   "execution_count": 6,
   "metadata": {
    "ExecuteTime": {
     "end_time": "2019-08-07T22:18:05.062824Z",
     "start_time": "2019-08-07T22:18:05.045497Z"
    }
   },
   "outputs": [],
   "source": [
    "# ## Talk plot ###\n",
    "# matplotlib.rcParams.update({'font.size': 22})\n",
    "# plt.figure(figsize=(8, 6))\n",
    "# x_min = Mjj_selection*0.8\n",
    "# x_max = np.quantile(x, 0.999)\n",
    "# plt.hist2d(x[:,0], y,\n",
    "#            range=((x_min , x_max), (np.min(y), np.quantile(y, 1-5e-3))), \n",
    "#            norm=LogNorm(), bins=100,\n",
    "#            label='Side band data'\n",
    "#           )\n",
    "\n",
    "# xs = np.arange(Mjj_selection-10, x_max, 0.01*(x_max-Mjj_selection))\n",
    "# ys = gbr_cut.predict(np.reshape(xs, (-1,1)))\n",
    "# plt.plot(xs, ys, '-', color='m', lw=3, label='VAE selection')\n",
    "# plt.fill_between(xs, np.min(y)*np.ones_like(ys), ys, color='white', alpha=0.5)\n",
    "# plt.fill_between(xs, ys, np.quantile(y, 1-5e-3), color='red', alpha=0.15)\n",
    "\n",
    "# plt.ylabel('VAE score')\n",
    "# plt.xlim(990, x_max)\n",
    "# plt.xlabel('$M_{jj}$ [GeV]')\n",
    "# plt.legend(loc='best')\n",
    "# plt.draw()"
   ]
  },
  {
   "cell_type": "code",
   "execution_count": 7,
   "metadata": {
    "ExecuteTime": {
     "end_time": "2019-08-07T22:18:05.086793Z",
     "start_time": "2019-08-07T22:18:05.068438Z"
    }
   },
   "outputs": [],
   "source": [
    "# h1 = create_TH2D(np.column_stack((x[:,0], y)), \n",
    "#                  binning=[10, x_min , x_max, 100, np.min(y)-10, 10+np.quantile(y, 1-1e-4)])\n",
    "# h1.SetStats(0)\n",
    "# h1.SetBarWidth(4);\n",
    "# h1.SetFillStyle(0);\n",
    "# h1.SetFillColor(rt.kGray);\n",
    "# h1.SetLineColor(rt.kBlue);\n",
    "\n",
    "# c_2D = create_Canvas('c2D', size=(600,600))\n",
    "# h1.Draw('violinx(12000000)')\n",
    "# c_2D.Draw()\n",
    "# c_2D.SetLogz()"
   ]
  },
  {
   "cell_type": "code",
   "execution_count": 8,
   "metadata": {
    "ExecuteTime": {
     "end_time": "2019-08-07T22:18:05.098404Z",
     "start_time": "2019-08-07T22:18:05.092076Z"
    },
    "code_folding": []
   },
   "outputs": [],
   "source": [
    "def getSelection(x_Mjj, x_loss):\n",
    "    cut = gbr_cut.predict(np.reshape(x_Mjj, (-1,1)))\n",
    "    return x_loss > cut"
   ]
  },
  {
   "cell_type": "code",
   "execution_count": 14,
   "metadata": {
    "ExecuteTime": {
     "end_time": "2019-08-07T22:19:08.498561Z",
     "start_time": "2019-08-07T22:19:08.475435Z"
    },
    "code_folding": []
   },
   "outputs": [],
   "source": [
    "def plotMassSpectrum(mJJ_pass, mJJ_rej, title='', canvas_size=(600,400)):\n",
    "    h_a = create_TH1D(mJJ_pass, \n",
    "                      name='h_acc', title='Accepted',\n",
    "                      binning=binning,\n",
    "                      opt='overflow'\n",
    "                     )\n",
    "    h_a.SetLineColor(2)\n",
    "    h_a.SetStats(0)\n",
    "    h_a.Sumw2()\n",
    "    h_r = create_TH1D(mJJ_rej, \n",
    "                      name='h_rej', title='Rejected',\n",
    "                      axis_title=['M_{jj} [GeV]', 'Events'],\n",
    "                      binning=binning,\n",
    "                      opt='overflow'\n",
    "                     )\n",
    "    h_r.GetYaxis().SetRangeUser(0.5, 1.2*h_r.GetMaximum())\n",
    "    h_r.SetStats(0)\n",
    "    h_r.Sumw2()\n",
    "\n",
    "    c = make_effiency_plot([h_r, h_a], ratio_bounds=[1e-4, 0.2], draw_opt = 'E', title=title, canvas_size=canvas_size)\n",
    "    c.pad1.SetLogy()\n",
    "    c.pad2.SetLogy()\n",
    "\n",
    "    c.pad2.cd()\n",
    "    c.ln = rt.TLine(h_r.GetXaxis().GetXmin(), SM_eff, h_r.GetXaxis().GetXmax(), SM_eff)\n",
    "    c.ln.SetLineWidth(2)\n",
    "    c.ln.SetLineStyle(7)\n",
    "    c.ln.SetLineColor(8)\n",
    "    c.ln.DrawLine(h_r.GetXaxis().GetXmin(), SM_eff, h_r.GetXaxis().GetXmax(), SM_eff)\n",
    "\n",
    "    c.Draw()\n",
    "    return c"
   ]
  },
  {
   "cell_type": "code",
   "execution_count": 16,
   "metadata": {
    "ExecuteTime": {
     "end_time": "2019-08-07T22:30:53.652179Z",
     "start_time": "2019-08-07T22:30:53.205360Z"
    }
   },
   "outputs": [
    {
     "data": {
      "image/png": "[encoded data removed]",
      "text/plain": [
       "<IPython.core.display.Image object>"
      ]
     },
     "metadata": {},
     "output_type": "display_data"
    }
   ],
   "source": [
    "x = x.flatten()\n",
    "binning=[50, Mjj_selection, np.quantile(x, 0.999)]\n",
    "\n",
    "sel = getSelection(x, y)\n",
    "\n",
    "c = plotMassSpectrum(x[sel], x[np.logical_not(sel)], 'SM side-band', canvas_size=(600,400))\n",
    "h_a = c.h_list[1]\n",
    "h_r = c.h_list[0]\n",
    "c.SaveAs('~/Desktop/SMsideband.root')"
   ]
  },
  {
   "cell_type": "markdown",
   "metadata": {
    "ExecuteTime": {
     "end_time": "2019-07-29T10:05:16.951453Z",
     "start_time": "2019-07-29T10:05:16.934409Z"
    }
   },
   "source": [
    "# Define and test Hypotesis test"
   ]
  },
  {
   "cell_type": "code",
   "execution_count": 11,
   "metadata": {
    "ExecuteTime": {
     "end_time": "2019-08-07T22:18:09.542057Z",
     "start_time": "2019-08-07T22:18:09.502526Z"
    }
   },
   "outputs": [],
   "source": [
    "def HypotesisTets(h_a_bin_content, h_r_bin_content, eff, N_asymov = 10000, max_N_asymov = 1e7, show_hist=False):\n",
    "    nu = eff*h_r_bin_content/(1-eff)\n",
    "\n",
    "    probs_obs = sp.stats.poisson.pmf(h_a_bin_content.astype(np.int), nu)\n",
    "    probs_obs = np.where(probs_obs < 1e-10, np.full_like(probs_obs, 1e-10), probs_obs)\n",
    "    s_obs = np.sum(-np.log(probs_obs), axis=-1)\n",
    "    print('S obs:', s_obs)\n",
    "\n",
    "    N_worse = 0\n",
    "    N_tot = 0\n",
    "    loops = 0\n",
    "    while N_worse < 25 and N_tot < max_N_asymov:\n",
    "        loops += 1\n",
    "        if loops > 1 and loops%10 == 0:\n",
    "            print(N_tot, N_worse)\n",
    "        if loops == 10:\n",
    "            print('Increasing by a factor 5 the number of asymov per loop')\n",
    "            N_asymov *=5\n",
    "        o_asymov = np.random.poisson(nu, (N_asymov, nu.shape[0]))\n",
    "        probs = sp.stats.poisson.pmf(o_asymov, nu)\n",
    "        probs = np.where(probs < 1e-10, np.full_like(probs, 1e-10), probs)\n",
    "        nll = -np.log(probs)\n",
    "        s_asymov = np.sum(nll, axis=-1)\n",
    "\n",
    "        N_worse += np.sum(s_asymov > s_obs)\n",
    "        N_tot += N_asymov\n",
    "\n",
    "        if max_N_asymov/N_tot < 25 and (N_worse * (max_N_asymov/N_tot) < 25):\n",
    "            print('Will never have enough stat - giving up.')\n",
    "            p_val = max(1, N_worse)/float(N_tot)\n",
    "            return p_val\n",
    "\n",
    "    print('Test stat reached after {} loops'.format(loops))\n",
    "\n",
    "    p_val = max(1, N_worse)/float(N_tot)\n",
    "    \n",
    "    if show_hist:\n",
    "        plt.figure()\n",
    "        binContent, _, _ = plt.hist(s_asymov, label='Distribution assuming eff={:.1f}%'.format(100*eff))\n",
    "        plt.plot([s_obs, s_obs], [0,np.max(binContent)], label='Observed')\n",
    "        plt.legend(loc='best')\n",
    "        plt.xlabel('Test statistic')\n",
    "        plt.ylabel('Entries')\n",
    "\n",
    "    return p_val"
   ]
  },
  {
   "cell_type": "code",
   "execution_count": 12,
   "metadata": {
    "ExecuteTime": {
     "end_time": "2019-08-07T22:18:10.228621Z",
     "start_time": "2019-08-07T22:18:10.111478Z"
    }
   },
   "outputs": [
    {
     "name": "stdout",
     "output_type": "stream",
     "text": [
      "S obs: 73.3550669312166\n",
      "Test stat reached after 1 loops\n"
     ]
    },
    {
     "data": {
      "text/plain": [
       "0.6785"
      ]
     },
     "execution_count": 12,
     "metadata": {},
     "output_type": "execute_result"
    }
   ],
   "source": [
    "h_a_bin_content, _ = rootTH1_to_np(h_a)\n",
    "h_r_bin_content, _ = rootTH1_to_np(h_r)\n",
    "HypotesisTets(h_a_bin_content, h_r_bin_content, SM_eff, N_asymov=10000)"
   ]
  },
  {
   "cell_type": "markdown",
   "metadata": {},
   "source": [
    "# Analyze signal region"
   ]
  },
  {
   "cell_type": "code",
   "execution_count": 17,
   "metadata": {
    "ExecuteTime": {
     "end_time": "2019-08-07T22:33:45.634691Z",
     "start_time": "2019-08-07T22:33:45.599923Z"
    }
   },
   "outputs": [],
   "source": [
    "sample_loc = {'qcd':'qcd_dEta_signalregion_results.h5',\n",
    "              'AtoZZZ':'AtoHZ_to_ZZZ_13TeV_PU40_results.h5',\n",
    "              'GtoWW':'RSGraviton_WW_NARROW_13TeV_PU40_results.h5',\n",
    "              'GtoBtt':'RSGraviton_tt_BROAD_13TeV_PU40_results.h5',\n",
    "              'GtoNtt':'RSGraviton_tt_NARROW_13TeV_PU40_results.h5'\n",
    "             }\n",
    "\n",
    "sample_label = {'qcd':r'QCD',\n",
    "                'AtoZZZ':r'$A\\to ZZZ$',\n",
    "                'GtoWW':r'$G\\to WW$',\n",
    "                'GtoBtt':r'$G_{B}\\to t\\bar{t}$',\n",
    "                'GtoNtt':r'$G_{N}\\to t\\bar{t}$'\n",
    "               }\n",
    "\n",
    "sample_label_ROOT = {'qcd':'QCD',\n",
    "                'AtoZZZ':'A #rightarrow ZZZ',\n",
    "                'GtoWW':'G #rightarrow WW',\n",
    "                'GtoBtt':'G_{B} #rightarrow t#bar{t}',\n",
    "                'GtoNtt':'G_{N} #rightarrow t#bar{t}'\n",
    "               }\n",
    "\n",
    "SM_samples = ['qcd']\n",
    "BSM_samples = ['AtoZZZ', 'GtoWW', 'GtoBtt', 'GtoNtt']\n",
    "\n",
    "sample_nGenEvts = {'qcd': 418*10000,\n",
    "                   'AtoZZZ': 100*1000,\n",
    "                   'GtoWW': 100*1000,\n",
    "                   'GtoBtt': 96*1000,\n",
    "                   'GtoNtt': 96*1000\n",
    "                  }\n",
    "\n",
    "sample_xsec = {'qcd': 8734.0 #pb\n",
    "              }"
   ]
  },
  {
   "cell_type": "markdown",
   "metadata": {},
   "source": [
    "### Get the data"
   ]
  },
  {
   "cell_type": "code",
   "execution_count": 18,
   "metadata": {
    "ExecuteTime": {
     "end_time": "2019-08-07T22:33:57.114646Z",
     "start_time": "2019-08-07T22:33:54.483029Z"
    },
    "code_folding": []
   },
   "outputs": [
    {
     "name": "stdout",
     "output_type": "stream",
     "text": [
      "+--------+----------+--------------+---------------+-------------+\n",
      "| Sample | Trg evts | Eff. trg [%] | VAE sel. evts | Eff VAE [%] |\n",
      "+--------+----------+--------------+---------------+-------------+\n",
      "| GtoBtt |  65082   |     67.8     |     13615     |    20.92    |\n",
      "| GtoWW  |  52408   |     52.4     |     11434     |    21.82    |\n",
      "| GtoNtt |  63748   |     66.4     |     13376     |    20.98    |\n",
      "| AtoZZZ |  63490   |     63.5     |     14316     |    22.55    |\n",
      "|  qcd   |  86911   |     2.1      |      881      |     1.01    |\n",
      "+--------+----------+--------------+---------------+-------------+\n"
     ]
    }
   ],
   "source": [
    "data = {}\n",
    "sample_eff = {}\n",
    "table = PrettyTable()\n",
    "table.field_names = ['Sample', 'Trg evts', 'Eff. trg [%]', 'VAE sel. evts', 'Eff VAE [%]']\n",
    "\n",
    "for n, fname in sample_loc.iteritems():\n",
    "    f = h5py.File('../data/vae_'+vae_loss+'/'+fname, 'r')\n",
    "    x = np.array(f.get(\"results\"))\n",
    "\n",
    "    # apply the dijet mass cut\n",
    "    sel_Mjj = x[:,0] > Mjj_selection\n",
    "    x = x[sel_Mjj]\n",
    "    dVar = computeDiscriminatingVar(x)\n",
    "    sel = getSelection(x[:,0], dVar)\n",
    "    x = np.column_stack((x, dVar, sel))\n",
    "    \n",
    "    sample_eff[n] = float(x.shape[0])/sample_nGenEvts[n]\n",
    "    \n",
    "    dt = [(str(s), '<f4') for s in list(f.get(\"labels\")) + ['dVar']]\n",
    "    dt += [('sel', '?')]\n",
    "    data[n] = np.array(list(zip(*x.T)), dtype=dt)\n",
    "    \n",
    "    eff = '{:.2f}'.format(100*np.sum(data[n]['sel'])/float(data[n]['sel'].shape[0]))\n",
    "    table.add_row([n, data[n]['sel'].shape[0], '{:.1f}'.format(100*sample_eff[n]), np.sum(data[n]['sel']), eff])\n",
    "    \n",
    "print(table)"
   ]
  },
  {
   "cell_type": "markdown",
   "metadata": {},
   "source": [
    "### Define utilitities"
   ]
  },
  {
   "cell_type": "code",
   "execution_count": 19,
   "metadata": {
    "ExecuteTime": {
     "end_time": "2019-08-07T22:33:57.161445Z",
     "start_time": "2019-08-07T22:33:57.120354Z"
    },
    "code_folding": []
   },
   "outputs": [],
   "source": [
    "def plotMassSpectrum_wSig(h_r, h_a, h_a_sig, name_BSM, lumi_text, p_val):\n",
    "    h_r.GetYaxis().SetRangeUser(0.5, 1.2*h_r.GetMaximum())\n",
    "    h_r.SetStats(0)\n",
    "    h_r.Sumw2()\n",
    "    h_r.SetLineWidth(2)\n",
    "    \n",
    "    h_a.SetLineColor(2)\n",
    "    h_a.SetStats(0)\n",
    "    h_a.Sumw2()\n",
    "    h_a.SetLineWidth(2)\n",
    "    \n",
    "    h_a_sig.SetFillStyle(3001)\n",
    "    h_a_sig.SetFillColor(8)\n",
    "    h_a_sig.SetLineWidth(0)\n",
    "\n",
    "    c = make_effiency_plot([h_r, h_a], ratio_bounds=[1e-3, None], draw_opt = 'E')\n",
    "    c.pad1.SetLogy()\n",
    "    c.pad1.cd()\n",
    "    h_a_sig.Draw('SAME')\n",
    "    c.leg.AddEntry(h_a_sig, 'Acc. '+sample_label_ROOT[name_BSM], 'f')\n",
    "    \n",
    "    latex = rt.TLatex()\n",
    "    latex.SetNDC()\n",
    "    latex.SetTextSize(0.04)\n",
    "    latex.SetTextAlign(31)\n",
    "    t = c.pad1.GetTopMargin()\n",
    "    r = c.pad1.GetRightMargin()\n",
    "    latex.DrawLatex(1-r, 1-0.85*t, lumi_text)\n",
    "\n",
    "    c.pad2.SetLogy()\n",
    "    c.pad2.cd()\n",
    "    c.ln = rt.TLine(h_r.GetXaxis().GetXmin(), SM_eff, h_r.GetXaxis().GetXmax(), SM_eff)\n",
    "    c.ln.SetLineWidth(2)\n",
    "    c.ln.SetLineStyle(7)\n",
    "    c.ln.SetLineColor(6)\n",
    "    c.ln.DrawLine(h_r.GetXaxis().GetXmin(), SM_eff, h_r.GetXaxis().GetXmax(), SM_eff)\n",
    "    \n",
    "    latex.SetTextSize(0.1)\n",
    "    latex.SetTextAlign(13)\n",
    "    l = c.pad2.GetLeftMargin()\n",
    "    t = c.pad2.GetTopMargin()\n",
    "    latex.DrawLatex(l*1.1, 1-2*t, 'p-value: {:.1f} %'.format(100*p_val))\n",
    "\n",
    "    c.Draw()\n",
    "    return c"
   ]
  },
  {
   "cell_type": "markdown",
   "metadata": {
    "ExecuteTime": {
     "end_time": "2019-07-26T13:30:40.258958Z",
     "start_time": "2019-07-26T13:30:40.240906Z"
    }
   },
   "source": [
    "## Find the p-value as a function of xsec"
   ]
  },
  {
   "cell_type": "code",
   "execution_count": 20,
   "metadata": {
    "ExecuteTime": {
     "end_time": "2019-08-07T22:34:04.014966Z",
     "start_time": "2019-08-07T22:34:03.997200Z"
    }
   },
   "outputs": [],
   "source": [
    "lumi = 100 #pb^-1\n",
    "\n",
    "N_asymov = 10000\n",
    "# N_asymov = int(1 / (1 - erf(5.5/np.sqrt(2))))\n",
    "N_exp_per_xsec = 1"
   ]
  },
  {
   "cell_type": "code",
   "execution_count": 21,
   "metadata": {
    "ExecuteTime": {
     "end_time": "2019-08-07T22:34:06.057639Z",
     "start_time": "2019-08-07T22:34:06.050497Z"
    }
   },
   "outputs": [],
   "source": [
    "dic_p_val = {}\n",
    "rt.gROOT.SetBatch(True)"
   ]
  },
  {
   "cell_type": "code",
   "execution_count": 22,
   "metadata": {
    "ExecuteTime": {
     "end_time": "2019-08-07T22:36:01.380870Z",
     "start_time": "2019-08-07T22:35:47.378164Z"
    },
    "code_folding": [],
    "scrolled": true
   },
   "outputs": [
    {
     "name": "stdout",
     "output_type": "stream",
     "text": [
      "\n",
      "\n",
      "GtoWW\n",
      "xsec BSM 1.0e-01 pb\n",
      "Experiment: 0\n",
      "S obs: 64.38306831556281\n",
      "Test stat reached after 1 loops\n",
      "xsec BSM 2.2e-01 pb\n",
      "Experiment: 0\n",
      "S obs: 68.15740180197727\n",
      "Test stat reached after 1 loops\n",
      "xsec BSM 4.6e-01 pb\n",
      "Experiment: 0\n",
      "S obs: 79.52802060158953\n",
      "Test stat reached after 8 loops\n",
      "xsec BSM 1.0e+00 pb\n",
      "Experiment: 0\n",
      "S obs: 85.03219435891626\n",
      "90000 5\n",
      "Increasing by a factor 5 the number of asymov per loop\n",
      "590000 16\n",
      "Test stat reached after 24 loops\n",
      "xsec BSM 2.2e+00 pb\n",
      "Experiment: 0\n",
      "S obs: 79.36214316943634\n",
      "Test stat reached after 5 loops\n",
      "xsec BSM 4.6e+00 pb\n",
      "Experiment: 0\n",
      "S obs: 102.12845337869975\n",
      "90000 0\n",
      "Increasing by a factor 5 the number of asymov per loop\n",
      "Will never have enough stat - giving up.\n",
      "xsec BSM 1.0e+01 pb\n",
      "Experiment: 0\n",
      "S obs: 129.99111918754792\n",
      "90000 0\n",
      "Increasing by a factor 5 the number of asymov per loop\n",
      "Will never have enough stat - giving up.\n"
     ]
    },
    {
     "data": {
      "image/png": "[encoded data removed]",
      "text/plain": [
       "<IPython.core.display.Image object>"
      ]
     },
     "metadata": {},
     "output_type": "display_data"
    }
   ],
   "source": [
    "for name_BSM in BSM_samples:\n",
    "    if name_BSM != 'GtoWW':\n",
    "        continue\n",
    "    print('\\n\\n'+name_BSM)\n",
    "    dic_p_val[name_BSM] = []\n",
    "    for xsec_BSM in np.logspace(-1, 1, 7): \n",
    "        print('xsec BSM {:.1e} pb'.format(xsec_BSM))\n",
    "        lumi_text = '{:.1f} fb^{{-1}} (14 TeV), '.format(1e-3*lumi) + sample_label_ROOT[name_BSM] + ' ({:.2} pb)'.format(xsec_BSM)\n",
    "\n",
    "        p_val_test = []\n",
    "        for i_exp in range(N_exp_per_xsec):\n",
    "            print('Experiment:', i_exp)\n",
    "            d_obs = np.zeros((0,2))\n",
    "\n",
    "            sample_xsec[name_BSM] = xsec_BSM\n",
    "            for n in SM_samples + [name_BSM]:\n",
    "                nExpEvts = lumi*sample_xsec[n]*sample_eff[n]\n",
    "                nEvts = np.random.poisson(nExpEvts)\n",
    "                if data[n]['mJJ'].shape[0] < nEvts:\n",
    "                    print('[WARNING] ' + n + ' re-use factor = {:.2f}'.format(float(nEvts)/data[n]['mJJ'].shape[0]))\n",
    "                evtsIdx = np.random.randint(0, data[n]['mJJ'].shape[0], size=(nEvts,))\n",
    "\n",
    "                d_aux = np.column_stack((data[n]['mJJ'][evtsIdx], data[n]['sel'][evtsIdx]))\n",
    "                d_obs = np.concatenate((d_obs, d_aux))\n",
    "\n",
    "            h_a = create_TH1D(d_obs[:, 0][d_obs[:,1].astype(np.bool)], \n",
    "                                 name='h_acc', title='Accepted',\n",
    "                                 binning=binning,\n",
    "                                 opt='overflow'\n",
    "                                )\n",
    "\n",
    "            h_r = create_TH1D(d_obs[:, 0][np.logical_not(d_obs[:,1]).astype(np.bool)], \n",
    "                                 name='h_rej', title='Rejected',\n",
    "                                 axis_title=['M_{jj} [GeV]', ''],\n",
    "                                 binning=binning,\n",
    "                                 opt='overflow'\n",
    "                                )\n",
    "            h_r.SetYTitle('Events / {:.0f} GeV'.format(h_r.GetBinWidth(1)))\n",
    "\n",
    "            h_a_bin_content, _ = rootTH1_to_np(h_a)\n",
    "            h_r_bin_content, _ = rootTH1_to_np(h_r)\n",
    "            p_val = HypotesisTets(h_a_bin_content, h_r_bin_content, SM_eff, N_asymov = N_asymov, show_hist=False)\n",
    "            p_val_test.append(p_val)\n",
    "\n",
    "            if i_exp > 3 and np.max(p_val_test) == 0:\n",
    "                break\n",
    "\n",
    "            if i_exp == 0:\n",
    "                h_a_sig = create_TH1D(d_obs[-nEvts-1:, 0][d_obs[-nEvts-1:, 1].astype(np.bool)], \n",
    "                                     name='h_acc', title='Accepted',\n",
    "                                     binning=binning,\n",
    "                                     opt='overflow'\n",
    "                                    )\n",
    "                c = plotMassSpectrum_wSig(h_r, h_a, h_a_sig, name_BSM, lumi_text, p_val)\n",
    "                fig_name = '../fig/ModelIndependentAnalysis/massSpectrum/'\n",
    "                fig_name += name_BSM + '{:1.2e}'.format(xsec_BSM) + 'pb' + '_L' + str(lumi) + 'pb-1_wEff'\n",
    "                c.SaveAs(fig_name + '.png')\n",
    "\n",
    "        aux = [xsec_BSM] + list(np.percentile(p_val_test, [2.5, 16, 50, 84, 97.5]))\n",
    "        dic_p_val[name_BSM].append(aux)"
   ]
  },
  {
   "cell_type": "markdown",
   "metadata": {},
   "source": [
    "# Make the p-value plot"
   ]
  },
  {
   "cell_type": "code",
   "execution_count": null,
   "metadata": {
    "ExecuteTime": {
     "end_time": "2019-08-01T11:46:23.377368Z",
     "start_time": "2019-08-01T11:46:23.360830Z"
    }
   },
   "outputs": [],
   "source": [
    "sample_col = {\n",
    "              'AtoZZZ':'r',\n",
    "              'GtoWW':'b',\n",
    "              'GtoBtt':'g',\n",
    "              'GtoNtt':'c'\n",
    "             }"
   ]
  },
  {
   "cell_type": "code",
   "execution_count": null,
   "metadata": {
    "ExecuteTime": {
     "end_time": "2019-08-01T12:05:16.303344Z",
     "start_time": "2019-08-01T12:05:13.777854Z"
    }
   },
   "outputs": [],
   "source": [
    "matplotlib.rcParams.update({'font.size': 18})\n",
    "fig, ax1 = plt.subplots(figsize=(8,8))\n",
    "\n",
    "for n, val_aux in dic_p_val.iteritems():\n",
    "    val_aux = np.array(val_aux)\n",
    "    x_sec = val_aux[:, 0]\n",
    "    quant = val_aux[:, 1:]\n",
    "    \n",
    "    ax1.plot(x_sec, quant[:, 2], color=sample_col[n], label=sample_label[n])\n",
    "    ax1.fill_between(x_sec, quant[:, 1], quant[:, 3], color=sample_col[n], alpha = 0.1, lw=0)\n",
    "#     ax1.fill_between(x_sec, quant[:, 0], quant[:, 4], color=sample_col[n], alpha = 0.1, lw=0)\n",
    "    \n",
    "    \n",
    "plt.xscale('log')\n",
    "plt.xlabel('Cross section [pb]')\n",
    "plt.yscale('log')\n",
    "plt.ylabel('p-value')\n",
    "plt.ylim(1 - erf(5.5/np.sqrt(2)), 1)\n",
    "plt.legend(loc='upper right')\n",
    "ax2 = ax1.twinx()\n",
    "for i in range(1, 6):\n",
    "    p = 1 - erf(i/np.sqrt(2))\n",
    "    ax2.plot([x_sec[0], x_sec[-1]], 2*[p], '--', color='grey')\n",
    "plt.yscale('log')\n",
    "ax2.set_yticks(1 - erf(np.arange(1,6)/np.sqrt(2)))\n",
    "ax2.set_yticklabels(['{}$\\sigma$'.format(i) for i in range(1,6)])\n",
    "ax2.tick_params(axis='y', labelcolor='grey')\n",
    "\n",
    "fig.savefig('../fig/ModelIndependentAnalysis/' + 'pValueScan_L' + str(lumi) + 'pb-1.png', bbox_inches='tight')"
   ]
  }
 ],
 "metadata": {
  "kernelspec": {
   "display_name": "Python 2",
   "language": "python",
   "name": "python2"
  },
  "language_info": {
   "codemirror_mode": {
    "name": "ipython",
    "version": 2
   },
   "file_extension": ".py",
   "mimetype": "text/x-python",
   "name": "python",
   "nbconvert_exporter": "python",
   "pygments_lexer": "ipython2",
   "version": "2.7.15"
  }
 },
 "nbformat": 4,
 "nbformat_minor": 2
}
